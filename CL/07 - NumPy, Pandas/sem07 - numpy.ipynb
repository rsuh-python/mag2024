{
 "cells": [
  {
   "cell_type": "markdown",
   "metadata": {},
   "source": [
    "**NumPy - Numerical Python\n",
    "библиотека для эффективных вычислений**\n",
    "\n",
    "\n",
    "Python -- высокоуровневый, интепретируемый и динамический. Списки в нём &ndash; списки указателей на объекты (которые могут иметь любой тип), и при выполнении, например, \"векторных операций\" (с помощью циклов или list comprehensions) интерпретатор каждый раз проверяет, применим ли тип очередного элемента. \n",
    "\n",
    "\n",
    "*То, за счёт чего мы получаем лаконичность кода и высокую скорость разработки, вынуждает наши программы работать медленнее.*\n",
    "\n",
    "\n",
    "В numpy &ndash; \n",
    "1. array должны быть одного типа, поэтому нет дополнительных вычислительных затрат на проверки.\n",
    "2. Часть операций реализована на C.\n",
    "\n",
    "\n",
    "Отсюда прирост в производительности на некоторых распространённых задачах &ndash; в сотни раз.\n",
    "\n",
    "\n",
    "*Если вы используете numpy и если при этом в вашем коде есть циклы, скорее всего, вы делаете что-то не так.*"
   ]
  },
  {
   "cell_type": "code",
   "execution_count": null,
   "metadata": {},
   "outputs": [],
   "source": [
    "import numpy as np "
   ]
  },
  {
   "cell_type": "code",
   "execution_count": null,
   "metadata": {
    "scrolled": true
   },
   "outputs": [],
   "source": [
    "# numpy.ndarray -- это элементы ОДНОГО типа (в numpy их много)\n",
    "\n",
    "array = [1, 222, 33, 5]\n",
    "nparray = np.array(array)\n",
    "\n",
    "print(type(nparray))\n",
    "print(nparray)\n",
    "print(nparray.dtype)\n",
    "\n",
    "array = [1, 222, 33, 5.0]\n",
    "nparray = np.array(array)\n",
    "\n",
    "print(nparray)\n",
    "print(nparray.dtype)\n",
    "\n",
    "array = [1, 222, 33, \"5.0\"]\n",
    "nparray = np.array(array)\n",
    "\n",
    "print(nparray)\n",
    "print(nparray.dtype)"
   ]
  },
  {
   "cell_type": "code",
   "execution_count": null,
   "metadata": {
    "scrolled": true
   },
   "outputs": [],
   "source": [
    "# у объектов в numpy, как и у любых объектов в python, есть атрибуты\n",
    "\n",
    "# arange -- генерация подряд идущих чисел\n",
    "# reshape -- приведение к нужной размерности\n",
    "array = np.arange(40).reshape(2, 2, 10)\n",
    "\n",
    "print(type(array))\n",
    "\n",
    "print(array)\n",
    "\n",
    "# размерности\n",
    "print(array.ndim)\n",
    "\n",
    "# как нумеруются оси\n",
    "# строки -- axis=0\n",
    "# столбцы -- axis=1\n",
    "print(array.shape)\n",
    "print(len(array))\n",
    "\n",
    "# все нормальные операции -- immutable\n",
    "print(array.astype(np.float32))\n",
    "print(array.dtype)\n",
    "\n",
    "# также можно задавать многомерные массивы, передав в список списков [списков [списков [...]]"
   ]
  },
  {
   "cell_type": "code",
   "execution_count": null,
   "metadata": {},
   "outputs": [],
   "source": [
    "# Другие методы создания списков\n",
    "\n",
    "# от, до, сколько частей\n",
    "c = np.linspace(0, 1, 6)\n",
    "d = np.linspace(0, 1, 6, endpoint=False)\n",
    "print(c, d)\n",
    "\n",
    "# на вход -- размеры массивов\n",
    "e = np.zeros((2, 3))\n",
    "print(e)\n",
    "\n",
    "f = np.ones((2, 2, 3))\n",
    "print(f)\n",
    "\n",
    "# на вход -- длина диагонали квадратной матрицы\n",
    "g = np.eye(4)\n",
    "print(g)\n",
    "\n",
    "h = np.diag(np.arange(5))\n",
    "i = np.diag(np.ones(3))\n",
    "print(h)\n",
    "print(i)\n",
    "\n",
    "# etc"
   ]
  },
  {
   "cell_type": "code",
   "execution_count": null,
   "metadata": {},
   "outputs": [],
   "source": [
    "# Случайные числа из разных распределений\n",
    "\n",
    "# \"посев\" для генератора случайных чисел -- для одних и тех же псвдослучайных генераций\n",
    "np.random.seed(4)\n",
    "\n",
    "# генерация сэмплов из равномерного распределения\n",
    "a = np.random.rand(4)  \n",
    "print(a)\n",
    "\n",
    "# гауссовское распределение\n",
    "b = np.random.randn(50)\n",
    "print(b)\n",
    "\n",
    "# и есть несколько других полезных на практике, google it"
   ]
  },
  {
   "cell_type": "code",
   "execution_count": null,
   "metadata": {},
   "outputs": [],
   "source": [
    "# индексирование массивов\n",
    "\n",
    "# одномерные\n",
    "arr = np.array([1, 2, 3, 4])\n",
    "print(arr[0])\n",
    "print(arr[2] + arr[3])\n",
    "\n",
    "# многомерные\n",
    "arr = np.array([[1, 2, 3, 4, 5], [6, 7, 8, 9, 10]])\n",
    "print('5 элемент массива на втором ряду:', arr[1, 4])\n",
    "\n",
    "arr = np.array([[[1, 2, 3], [4, 5, 6]], [[7, 8, 9], [10, 11, 12]]])\n",
    "print(arr[0, 1, 2])\n",
    "\n",
    "arr = np.array([[1,2,3,4,5], [6,7,8,9,10]])\n",
    "print('Последний элемент второго измерения (строки): ', arr[1, -1])\n",
    "\n",
    "arr = np.arange(120).reshape(12, 10)\n",
    "\n",
    "# срезы\n",
    "\n",
    "arr = np.array([1, 2, 3, 4, 5, 6, 7])\n",
    "print(arr[1:5])\n",
    "print(arr[4:])\n",
    "print(arr[:4])\n",
    "print(arr[-3:-1])\n",
    "print(arr[1:5:2])\n",
    "print(arr[::2])\n",
    "\n",
    "# срезы в многомерных массивах\n",
    "arr = np.array([[1, 2, 3, 4, 5], [6, 7, 8, 9, 10]])\n",
    "print(arr[1, 1:4])\n",
    "print(arr[0:2, 2])\n",
    "print(arr[0:2, 1:4])\n",
    "print(arr[:, 1])\n",
    "\n",
    "# можно передавать список индексов (как лист, так и np.ndarray)\n",
    "arr = np.arange(120).reshape(12, 10)\n",
    "print(arr[[0, 3], :1])\n",
    "print(arr[np.array([0, 3]), :1])"
   ]
  },
  {
   "cell_type": "code",
   "execution_count": null,
   "metadata": {
    "scrolled": true
   },
   "outputs": [],
   "source": [
    "# копирование, view objects\n",
    "\n",
    "arr = np.arange(1, 13)\n",
    "print(arr.reshape(3, 2, 2))\n",
    "print('=')\n",
    "print(arr.reshape(3, 2, -1))\n",
    "arrview = arr.reshape(3, 2, 2)\n",
    "print(arr.base, arrview.base)\n",
    "arr[1] = 123\n",
    "print(arrview)\n",
    "print(arrview.reshape(-1))"
   ]
  },
  {
   "cell_type": "code",
   "execution_count": null,
   "metadata": {},
   "outputs": [],
   "source": [
    "# итерирование\n",
    "\n",
    "for elem in np.nditer(arr):\n",
    "    print(elem, end='\\t')\n",
    "    \n",
    "for i, elem in np.ndenumerate(arr):\n",
    "    print(i, elem, end='\\t')"
   ]
  },
  {
   "cell_type": "code",
   "execution_count": null,
   "metadata": {},
   "outputs": [],
   "source": [
    "# слияние\n",
    "\n",
    "# конкатенирование\n",
    "arr1 = np.array([1, 2, 3])\n",
    "arr2 = np.array([4, 5, 6])\n",
    "print(np.concatenate((arr1, arr2)))\n",
    "arr3 = np.arange(1, 13).reshape(4, -1)\n",
    "arr4 = np.arange(13, 25).reshape(4, -1)\n",
    "print(arr3)\n",
    "print(arr4)\n",
    "print(np.concatenate((arr3, arr4), axis=0))\n",
    "print(np.concatenate((arr3, arr4), axis=1))\n",
    "\n",
    "# стекинг\n",
    "print(np.stack((arr1, arr2)))\n",
    "\n",
    "# разделение\n",
    "arr = np.arange(1, 13)\n",
    "print(np.array_split(arr, 3))"
   ]
  },
  {
   "cell_type": "code",
   "execution_count": null,
   "metadata": {},
   "outputs": [],
   "source": [
    "# поиск\n",
    "\n",
    "arr = np.array([1, 2, 3, 4, 5, 4, 4])\n",
    "x = np.where(arr == 4)\n",
    "print(x)\n",
    "\n",
    "# фильтрация (маскинг)\n",
    "\n",
    "arr = np.array([1, 2, 3, 4])\n",
    "fil = [True, False, True, False]\n",
    "print(arr[fil])\n",
    "print(arr[arr % 2 == 0])\n",
    "# 4. хитрый отбор элементов -- masking\n",
    "x = np.random.randn(1000)\n",
    "\n",
    "# элементы больше среднего\n",
    "print(x[x > np.mean(x)][:10])\n",
    "\n",
    "# минуточку, а что за выражение в квадратных скобках?\n",
    "print((x > np.mean(x))[:10])\n",
    "\n",
    "# всё, что выпадает за три сигмы\n",
    "print(x[(x > np.mean(x) + 3 * np.std(x)) | (x < np.mean(x) - 3 * np.std(x))])\n",
    "\n",
    "%timeit x[(x > np.mean(x) + 3 * np.std(x)) | (x < np.mean(x) - 3 * np.std(x))]\n",
    "\n",
    "mn = np.mean(x)\n",
    "std = 3 * np.std(x)\n",
    "mnstdr = mn + std\n",
    "mnstdl = mn - std\n",
    "\n",
    "%timeit filter(lambda x: x > mnstdr or x < mnstdl, x)\n",
    "\n",
    "\n",
    "\"\"\"\n",
    "У маскинга свой небольшой язык со своеобразным синтаксисом. \n",
    "\n",
    "Например,\n",
    "not = ~\n",
    "and = &\n",
    "or = |\n",
    ">, <, >=, <=\n",
    "\n",
    "Скобки для отделения одних условных выражений от других -- не лишние никогда (в питоне, как мы помним, всё не так).\n",
    "\"\"\""
   ]
  },
  {
   "cell_type": "code",
   "execution_count": null,
   "metadata": {},
   "outputs": [],
   "source": [
    "# сортировка\n",
    "\n",
    "arr = np.random.rand(3, 3)\n",
    "print(np.sort(arr))"
   ]
  },
  {
   "cell_type": "markdown",
   "metadata": {},
   "source": [
    "### Залог эффективных вычислений \n",
    "#### воспринимать рекомендации по работе с numpy \n",
    "*(ну или заглядывать в исходники, но это для джедаев)*\n",
    "\n",
    "**Numpy-way strategies**\n",
    "1. **Использование numpy ufuncs**\n",
    "2. **Использование numpy aggregate functions**"
   ]
  },
  {
   "cell_type": "code",
   "execution_count": null,
   "metadata": {},
   "outputs": [],
   "source": [
    "# I. ufuncs\n",
    "\n",
    "# Нет ни одного шанса, что мы даже за пару-тройку занятий рассмотрим всё, что есть в numpy.\n",
    "# Поэтому если есть нужда в решении какой-нибудь задачи линейной алгебры, стоит погуглить, \n",
    "# наверняка в numpy/scipy есть готовое\n",
    "\n",
    "# Сейчас учимся, \"как делать это правильно\", а конкретные необходимые вам методы придётся погуглить\n",
    "\n",
    "x = np.arange(6).reshape((2, 3))\n",
    "print(x, x.shape)\n",
    "\n",
    "# cool, heh?\n",
    "print(x + 2)\n",
    "print(x / 2)\n",
    "print(x * 2)\n",
    "print(x ** 2) # element-wise\n",
    "\n",
    "# cooler?\n",
    "print(x + x)\n",
    "print(x - x)\n",
    "\n",
    "# NOTA BENE!\n",
    "print(x * x) # element-wise\n",
    "print(x.dot(x.T)) # multiplication\n",
    "print(x.T.dot(x)) # multiplication\n",
    "\n",
    "# а давайте проверим\n",
    "# print(x * x == x ** 2)\n",
    "\n",
    "\"\"\"\n",
    "Сюда же относятся очень эффективные\n",
    "np.log\n",
    "np.exp\n",
    "...\n",
    "\n",
    "Можете не писать питоновские лямбды -- не делайте этого\n",
    "\"\"\""
   ]
  },
  {
   "cell_type": "code",
   "execution_count": null,
   "metadata": {},
   "outputs": [],
   "source": [
    "# let's make sure numpy's ufuncs are cool\n",
    "arr = list(range(0, 60000))\n",
    "%timeit [v + 5 for v in arr]\n",
    "\n",
    "arr = np.arange(60000)\n",
    "%timeit arr + 5\n",
    "\n",
    "# убедительно? :]"
   ]
  },
  {
   "cell_type": "code",
   "execution_count": null,
   "metadata": {},
   "outputs": [],
   "source": [
    "# II. Aggregate functions: берём коллекцию, вычисляем \"агрегат\"\n",
    "\n",
    "# Нет ни одного шанса, что мы даже за пару-тройку занятий рассмотрим всё, что есть в numpy.\n",
    "# Поэтому если есть нужда в решении какой-нибудь задачи линейной алгебры, стоит погуглить, \n",
    "# наверняка в numpy/scipy есть готовое\n",
    "# Сейчас учимся, \"как делать это правильно\", а конкретные необходимые вам методы придётся погуглить\n",
    "\n",
    "x = np.arange(60).reshape((10, 6))\n",
    "print(x)\n",
    "\n",
    "# среднее по разным измерениям\n",
    "print(np.mean(x))\n",
    "print(np.mean(x, axis=0))\n",
    "print(np.mean(x, axis=1))\n",
    "\n",
    "# ст. отклонение по разным измерениям\n",
    "print(np.std(x))\n",
    "print(np.std(x, axis=0))\n",
    "print(np.std(x, axis=1))\n",
    "\n",
    "\"\"\"\n",
    "Есть много-много других хороших полезных агрегирующих функций на каждый день\n",
    "\"\"\""
   ]
  },
  {
   "cell_type": "code",
   "execution_count": null,
   "metadata": {},
   "outputs": [],
   "source": [
    "# let's make sure numpy's aggr funcs are blazing fast\n",
    "arr = list(range(0, 60000))\n",
    "%timeit sum(arr)\n",
    "\n",
    "arr = np.arange(60000)\n",
    "%timeit np.sum(arr)\n",
    "\n",
    "# убедительно? :]"
   ]
  },
  {
   "cell_type": "markdown",
   "metadata": {},
   "source": [
    "**Broadcasting**\n",
    "\n",
    "<img src=numpy_broadcasting.png>"
   ]
  },
  {
   "cell_type": "code",
   "execution_count": 21,
   "metadata": {},
   "outputs": [
    {
     "name": "stdout",
     "output_type": "stream",
     "text": [
      "[1 2 3]\n",
      "2\n",
      "[3 4 5]\n"
     ]
    }
   ],
   "source": [
    "# скаляр и вектор\n",
    "a = np.array([1, 2, 3])\n",
    "print(a)\n",
    "b = 2\n",
    "print(b)\n",
    "c = a + b\n",
    "print(c)"
   ]
  },
  {
   "cell_type": "code",
   "execution_count": 22,
   "metadata": {},
   "outputs": [
    {
     "name": "stdout",
     "output_type": "stream",
     "text": [
      "[[1 2 3]\n",
      " [1 2 3]]\n",
      "2\n",
      "[[3 4 5]\n",
      " [3 4 5]]\n"
     ]
    }
   ],
   "source": [
    "# скаляр и матрица\n",
    "A = np.array([[1, 2, 3], [1, 2, 3]])\n",
    "print(A)\n",
    "b = 2\n",
    "print(b)\n",
    "C = A + b\n",
    "print(C)"
   ]
  },
  {
   "cell_type": "code",
   "execution_count": 23,
   "metadata": {},
   "outputs": [
    {
     "name": "stdout",
     "output_type": "stream",
     "text": [
      "[[1 2 3]\n",
      " [1 2 3]]\n",
      "[1 2 3]\n",
      "[[2 4 6]\n",
      " [2 4 6]]\n"
     ]
    }
   ],
   "source": [
    "# вектор и матрица\n",
    "A = np.array([[1, 2, 3], [1, 2, 3]])\n",
    "print(A)\n",
    "b = np.array([1, 2, 3])\n",
    "print(b)\n",
    "C = A + b\n",
    "print(C)"
   ]
  },
  {
   "cell_type": "code",
   "execution_count": null,
   "metadata": {},
   "outputs": [],
   "source": [
    "# есть свои ограничения:\n",
    "\n",
    "arr1 = np.array([1, 2, 3, 4, 5])\n",
    "arr2 = np.array([1, 2, 3, 4])\n",
    "\n",
    "arr1 + arr2"
   ]
  }
 ],
 "metadata": {
  "kernelspec": {
   "display_name": "mlearn",
   "language": "python",
   "name": "mlearn"
  },
  "language_info": {
   "codemirror_mode": {
    "name": "ipython",
    "version": 3
   },
   "file_extension": ".py",
   "mimetype": "text/x-python",
   "name": "python",
   "nbconvert_exporter": "python",
   "pygments_lexer": "ipython3",
   "version": "3.9.12"
  }
 },
 "nbformat": 4,
 "nbformat_minor": 4
}
