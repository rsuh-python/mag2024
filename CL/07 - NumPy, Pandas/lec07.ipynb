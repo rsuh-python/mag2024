{
 "cells": [
  {
   "cell_type": "markdown",
   "id": "3fd7c3b1-966f-4c7c-b655-da6018a627bb",
   "metadata": {},
   "source": [
    "### NumPy"
   ]
  },
  {
   "cell_type": "code",
   "execution_count": 1,
   "id": "f5d0ca0e-8781-4942-8fd5-472cdeba4b9a",
   "metadata": {},
   "outputs": [],
   "source": [
    "import numpy as np"
   ]
  },
  {
   "cell_type": "markdown",
   "id": "f533273a-a5cd-4bc4-a514-02721034a70a",
   "metadata": {},
   "source": [
    "NumPy - это библиотека, написанная частично в С, а частично в питоне; ее основная задача - обеспечивать математические вычисления, в том числе работу с матрицами. Дело в том, что мы можем реализовать матрицы (и тензоры более высокой мерности) стандартными средствами питона, и мы это делали, но такие вещи все равно будут работать медленнее, чем библиотеки в С, просто потому, что так реализованы списки в питоне. Список в питоне может хранить в себе меняющееся число элементов, которые могут быть разного размера: на самом деле он реализован в С как сложная структура, (structure), если кому интересен исходный код в С:\n",
    "\n",
    "(фигурными скобками обозначается тело определяемого объекта, тип которого - struct (структура). ob_item - это список адресов элементов списка, allocated - количество размещенных в памяти элементов).\n",
    "\n",
    "    typedef struct {\n",
    "        PyObject_VAR_HEAD\n",
    "        PyObject **ob_item;\n",
    "        Py_ssize_t allocated;\n",
    "    } PyListObject;\n",
    "    \n",
    "То есть, список питона - это связная структура, элементы которой могут валяться в памяти где угодно, а питон их отыскивает с помощью указателей (указатель в С - это переменная, которая содержит адрес объекта, такая переменная записывается со звездочкой: \\*var, а массив в С определяется его стартовой позицией в памяти, потому что все элементы должны лежать рядышком и быть одинакового размера, поэтому массив записывается с двумя звездочками). В компьютерном мире так устроено, что, грубо говоря, пока там питон отыщет все элементы списка в разных уголках памяти, это займет время - а вот когда все элементы лежат рядышком, то времени уходит куда меньше. Матрицы (списки) в numpy реализованы таким образом, что все их элементы одинакового размера и хранятся в памяти вместе, поэтому они и работают гораздо быстрее. "
   ]
  },
  {
   "cell_type": "markdown",
   "id": "7e91cfaf-34bc-46f2-95c9-379a453336f0",
   "metadata": {},
   "source": [
    "В связи с реализацией в С у Numpy есть и такая особенность, как немножко свои типы данных (они больше похожи на типы в С). Такие типы есть:\n",
    "\n",
    "    i - integer\n",
    "    b - boolean\n",
    "    u - unsigned integer\n",
    "    f - float\n",
    "    c - complex float\n",
    "    m - timedelta\n",
    "    M - datetime\n",
    "    O - object\n",
    "    S - string\n",
    "    U - unicode string\n",
    "    V - fixed chunk of memory for other type (void)\n",
    "    \n",
    "(void в С ~ NoneType в питоне, а типы чисел более дробные: есть беззнаковые инты - у которых не хранится знак - есть инт и флоат разных размеров, 32 бита или 64: чем больше битов, тем больше чиселок может храниться в переменной такого типа). \n",
    "\n",
    "Эти буковки могут использоваться для задания типа данных в основном объекте NumPy - ndarray (n-dimensional array)."
   ]
  },
  {
   "cell_type": "markdown",
   "id": "a687bece-b467-4813-bede-67ba74ec89a0",
   "metadata": {},
   "source": [
    "Здесь немного сложного: \n",
    "\n",
    "Центральное понятие для NumPy (а также для PyTorch, например, и вообще для МО и НС) - это тензор. Это понятие из математики, и тензор на самом деле != матрица, даже многомерная матрица. Тензор - это такой математический объект, который не изменяется при смене системы координат и представлен набором своих компонент и правилом преобразования компонент при смене базиса. Сложно? Если пытаться совсем упростить, то тензор - это всего лишь хранилище данных. Попытаться это понять можно [здесь](https://habr.com/ru/post/261563/). То есть, в тензорах мы храним что? числа, векторы, матрицы. У тензора есть ранг (rank) или измерение: это ровно то, о чем идет речь в NumPy, когда мы указываем измерение ndarray. Внутри тензора могут содержаться, например, n-мерные векторы. "
   ]
  },
  {
   "cell_type": "code",
   "execution_count": 2,
   "id": "786636c2-5d2f-4d03-b3f8-db915817ace3",
   "metadata": {},
   "outputs": [],
   "source": [
    "arr = np.array([[1, 2, 3], [4, 5, 6]])"
   ]
  },
  {
   "cell_type": "code",
   "execution_count": 3,
   "id": "9e5bea6d-ad84-4507-9911-384ef3b303a1",
   "metadata": {},
   "outputs": [
    {
     "data": {
      "text/plain": [
       "2"
      ]
     },
     "execution_count": 3,
     "metadata": {},
     "output_type": "execute_result"
    }
   ],
   "source": [
    "arr.ndim"
   ]
  },
  {
   "cell_type": "markdown",
   "id": "73af93b1-9fca-4700-bf95-0e4e4506ac9a",
   "metadata": {},
   "source": [
    "Вот, например, перед нами массив NumPy ранга 2, но при этом векторы, которые в нем содержатся, трехмерные. "
   ]
  },
  {
   "cell_type": "markdown",
   "id": "66bfd145-8c29-42f6-9a73-5650b9580274",
   "metadata": {},
   "source": [
    "Тензор еще считается обобщенной матрицей: матрица - это же табличка чисел $n \\cdot m$, а тензор бывает разных рангов. Для маленьких рангов есть отдельные термины:\n",
    "\n",
    "- 0D - скаляр (число)\n",
    "- 1D - вектор\n",
    "- 2D - матрица\n",
    "- 3D и выше - тензор \n",
    "\n",
    "В геометрии есть похожее соотношение: квадрат - куб - симплекс (любая фигура со сторонами одинаковой длины - 1 - в n-мерном пространстве называется n-мерный симплекс)"
   ]
  },
  {
   "cell_type": "markdown",
   "id": "fe4294c0-710c-4eb1-acb1-115d094a297d",
   "metadata": {},
   "source": [
    "Итак, как задать массив в NumPy и проверить его мерность, можно понять из кода выше. Можно мерность задать при создании массива, при этом передавать ему список списков списков необязательно:"
   ]
  },
  {
   "cell_type": "code",
   "execution_count": 4,
   "id": "ea1644d3-9d62-4d14-8087-69adb1a76489",
   "metadata": {},
   "outputs": [],
   "source": [
    "arr = np.array([1, 2, 3, 4, 5], ndmin=5)"
   ]
  },
  {
   "cell_type": "code",
   "execution_count": 5,
   "id": "37d0962b-a5a8-4b70-b2ce-b5b053ac1ffb",
   "metadata": {},
   "outputs": [
    {
     "data": {
      "text/plain": [
       "array([[[[[1, 2, 3, 4, 5]]]]])"
      ]
     },
     "execution_count": 5,
     "metadata": {},
     "output_type": "execute_result"
    }
   ],
   "source": [
    "arr"
   ]
  },
  {
   "cell_type": "markdown",
   "id": "7e42a95b-e7e7-401c-8d0b-7040073b40d2",
   "metadata": {},
   "source": [
    "В таком случае нумпай начнет вкладывать наши списки списков начиная с самого внутреннего измерения. "
   ]
  },
  {
   "cell_type": "code",
   "execution_count": 6,
   "id": "3ed32021-0f9c-48e6-9c6b-2ccf6704004e",
   "metadata": {},
   "outputs": [],
   "source": [
    "arr = np.array([1, 2, 3], ndmin=2)"
   ]
  },
  {
   "cell_type": "code",
   "execution_count": 7,
   "id": "1f55e33d-1e42-4078-97ab-cfbc1fc5101a",
   "metadata": {},
   "outputs": [
    {
     "data": {
      "text/plain": [
       "array([[1, 2, 3]])"
      ]
     },
     "execution_count": 7,
     "metadata": {},
     "output_type": "execute_result"
    }
   ],
   "source": [
    "arr"
   ]
  },
  {
   "cell_type": "markdown",
   "id": "f3fd73cb-8a41-45df-94ac-2ff5b12f901e",
   "metadata": {},
   "source": [
    "C рангом 2 должно быть интуитивно понятнее: я всего лишь сделала матрицу из одной строчки. Для чего это может быть нужно? Для broadcasting - когда нам нужно произвести какие-то вычисления с тензорами разных рангов, если один из тензоров превращается в тензор более высокого ранга, происходит он самый, broadcasting. Еще попозже это рассмотрим. "
   ]
  },
  {
   "cell_type": "markdown",
   "id": "7fa8613f-600b-47b9-95e9-14e70b9bd570",
   "metadata": {},
   "source": [
    "В NumPy (как потом увидим, и в Pandas) измерения массива еще называются оси (axes). "
   ]
  },
  {
   "cell_type": "markdown",
   "id": "30854492-6870-4814-a22e-0cffe8f669c6",
   "metadata": {},
   "source": [
    "#### Тип данных\n",
    "\n",
    "Возвращаясь к типу данных, можно его проверить следующим образом:"
   ]
  },
  {
   "cell_type": "code",
   "execution_count": 8,
   "id": "f109ff2c-ee16-45ea-9810-3f9dc0d77770",
   "metadata": {},
   "outputs": [
    {
     "data": {
      "text/plain": [
       "dtype('int64')"
      ]
     },
     "execution_count": 8,
     "metadata": {},
     "output_type": "execute_result"
    }
   ],
   "source": [
    "arr.dtype"
   ]
  },
  {
   "cell_type": "markdown",
   "id": "ded311d7-51e6-4112-bfc6-05f745f97d81",
   "metadata": {},
   "source": [
    "А можно и явным образом указать с помощью буковки из списка выше:"
   ]
  },
  {
   "cell_type": "code",
   "execution_count": 9,
   "id": "4d01b259-300d-4219-97e2-a77877d0bb6e",
   "metadata": {},
   "outputs": [],
   "source": [
    "arr = np.array([1, 2, 3, 4, 5], dtype='S')"
   ]
  },
  {
   "cell_type": "code",
   "execution_count": 10,
   "id": "388b478e-c3f9-4e4a-8811-c63bb8d2b265",
   "metadata": {},
   "outputs": [
    {
     "data": {
      "text/plain": [
       "array([b'1', b'2', b'3', b'4', b'5'], dtype='|S1')"
      ]
     },
     "execution_count": 10,
     "metadata": {},
     "output_type": "execute_result"
    }
   ],
   "source": [
    "arr"
   ]
  },
  {
   "cell_type": "markdown",
   "id": "bd05be80-2bdb-4b7a-9a31-ca3d9a293821",
   "metadata": {},
   "source": [
    "Строки в NumPy тоже немножечко особенные, поэтому не удивляйтесь буковке b - она означает \"байтовая строка\". \n",
    "\n",
    "Поменять тип данных в массиве можно так:"
   ]
  },
  {
   "cell_type": "code",
   "execution_count": 11,
   "id": "0c460c75-4fad-4bfd-89bc-c50fe56342c2",
   "metadata": {},
   "outputs": [],
   "source": [
    "newarr = arr.astype('i')"
   ]
  },
  {
   "cell_type": "code",
   "execution_count": 12,
   "id": "3299e67b-4c7f-45b2-8e8f-83691913853f",
   "metadata": {},
   "outputs": [
    {
     "data": {
      "text/plain": [
       "array([1, 2, 3, 4, 5], dtype=int32)"
      ]
     },
     "execution_count": 12,
     "metadata": {},
     "output_type": "execute_result"
    }
   ],
   "source": [
    "newarr"
   ]
  },
  {
   "cell_type": "markdown",
   "id": "4f34c5fe-ae76-4e45-9b60-f63475d0b10c",
   "metadata": {},
   "source": [
    "#### Индексирование\n",
    "\n",
    "Как можно обращаться к элементам массива? По индексам. Только они устроены немножко похитрее, чем стандартные питоньи (где нам пришлось  бы писать [0][0][0] для первого элемента первой строки первого... эээ, даже не знаю. Ранга. :)"
   ]
  },
  {
   "cell_type": "code",
   "execution_count": 13,
   "id": "b37d6793-b3fe-4323-bb72-c01e9873c79b",
   "metadata": {},
   "outputs": [],
   "source": [
    "arr = np.array([[[1, 2], [3, 4]], [[5, 6], [7, 8]]])"
   ]
  },
  {
   "cell_type": "code",
   "execution_count": 14,
   "id": "aa9ba9cf-07ea-44fc-9fb2-7dbc7d67f3f7",
   "metadata": {},
   "outputs": [
    {
     "data": {
      "text/plain": [
       "array([[[1, 2],\n",
       "        [3, 4]],\n",
       "\n",
       "       [[5, 6],\n",
       "        [7, 8]]])"
      ]
     },
     "execution_count": 14,
     "metadata": {},
     "output_type": "execute_result"
    }
   ],
   "source": [
    "arr"
   ]
  },
  {
   "cell_type": "markdown",
   "id": "c9da91dd-dc58-4f6b-9a54-96accb914e6b",
   "metadata": {},
   "source": [
    "Вот у нас трехмерный массив. Допустим, мы хотим обратиться к четверке. Четверка находится в первой из двух матриц, во второй строке первой матрицы, на второй позиции этой строки. "
   ]
  },
  {
   "cell_type": "code",
   "execution_count": 15,
   "id": "fe546b6e-a279-448e-80a9-52cded242c0e",
   "metadata": {},
   "outputs": [
    {
     "data": {
      "text/plain": [
       "4"
      ]
     },
     "execution_count": 15,
     "metadata": {},
     "output_type": "execute_result"
    }
   ],
   "source": [
    "arr[0, 1, 1]"
   ]
  },
  {
   "cell_type": "markdown",
   "id": "654e0949-d7ac-499c-a9e9-9c22da6311d3",
   "metadata": {},
   "source": [
    "Супер. Также можно использовать срезы: например, можно получить всю вторую строку первой матрицы. "
   ]
  },
  {
   "cell_type": "code",
   "execution_count": 16,
   "id": "3c06b318-77b5-4272-822b-f5f43068c9f8",
   "metadata": {},
   "outputs": [
    {
     "data": {
      "text/plain": [
       "array([3, 4])"
      ]
     },
     "execution_count": 16,
     "metadata": {},
     "output_type": "execute_result"
    }
   ],
   "source": [
    "arr[0, 1, :]"
   ]
  },
  {
   "cell_type": "markdown",
   "id": "f4f2cc7a-eabf-4292-8f33-e15e089b3475",
   "metadata": {},
   "source": [
    "И даже весь второй столбец. "
   ]
  },
  {
   "cell_type": "code",
   "execution_count": 17,
   "id": "85f94563-3cc2-4ad2-afce-449ce6c72686",
   "metadata": {},
   "outputs": [
    {
     "data": {
      "text/plain": [
       "array([2, 4])"
      ]
     },
     "execution_count": 17,
     "metadata": {},
     "output_type": "execute_result"
    }
   ],
   "source": [
    "arr[0, :, 1]"
   ]
  },
  {
   "cell_type": "markdown",
   "id": "bd5342d0-05c3-4b4b-a110-55f0b14acabe",
   "metadata": {},
   "source": [
    "Можно, конечно, и только часть столбца взять, просто у меня супер-короткие столбцы. "
   ]
  },
  {
   "cell_type": "markdown",
   "id": "04195535-cdf1-4b1a-9009-554515fcf37f",
   "metadata": {},
   "source": [
    "#### Форма\n",
    "\n",
    "Форму матрицы можно изменять с помощью метода reshape. "
   ]
  },
  {
   "cell_type": "code",
   "execution_count": 18,
   "id": "9aeef384-c48c-4c41-8ba6-4efba90f0ca9",
   "metadata": {},
   "outputs": [],
   "source": [
    "arr = np.array([1, 2, 3, 4, 5, 6, 7, 8, 9])"
   ]
  },
  {
   "cell_type": "code",
   "execution_count": 19,
   "id": "41b2d122-bfd9-499e-a85f-6b88d4c1041c",
   "metadata": {},
   "outputs": [
    {
     "data": {
      "text/plain": [
       "array([[1, 2, 3],\n",
       "       [4, 5, 6],\n",
       "       [7, 8, 9]])"
      ]
     },
     "execution_count": 19,
     "metadata": {},
     "output_type": "execute_result"
    }
   ],
   "source": [
    "arr.reshape(3, 3)"
   ]
  },
  {
   "cell_type": "markdown",
   "id": "5bb6fddd-1540-4ede-be85-446c0447639e",
   "metadata": {},
   "source": [
    "То есть, что передается в reshape? Столько цифр, сколько хотим измерений (я передала 2 - значит, я хочу матрицу), каждая цифра говорит о том, сколько я хочу элементов в каждом из этих измерений (три строки, три столбца). Tricky part здесь в том, что общее число элементов должно делиться на эти числа: то есть, все переданные числа, перемноженные друг на друга, должны давать число всех элементов ($ 3 \\cdot 3 = 9$)."
   ]
  },
  {
   "cell_type": "markdown",
   "id": "4f9d3c98-d561-4244-8715-20d1ebb4d252",
   "metadata": {},
   "source": [
    "Если мы не можем так с ходу вычислить, сколько нам нужно элементов, можно попробовать один из них передать как минус единицу, тогда питон попробует вычислить его сам:"
   ]
  },
  {
   "cell_type": "code",
   "execution_count": 20,
   "id": "60e18ecb-424b-462c-a984-5e045b41adc3",
   "metadata": {},
   "outputs": [],
   "source": [
    "arr = np.array(range(1, 13))"
   ]
  },
  {
   "cell_type": "code",
   "execution_count": 21,
   "id": "4343f5e4-f51e-4536-845f-15b8e9fd223c",
   "metadata": {},
   "outputs": [
    {
     "data": {
      "text/plain": [
       "array([[[ 1,  2],\n",
       "        [ 3,  4]],\n",
       "\n",
       "       [[ 5,  6],\n",
       "        [ 7,  8]],\n",
       "\n",
       "       [[ 9, 10],\n",
       "        [11, 12]]])"
      ]
     },
     "execution_count": 21,
     "metadata": {},
     "output_type": "execute_result"
    }
   ],
   "source": [
    "arr.reshape(3, 2, -1)"
   ]
  },
  {
   "cell_type": "markdown",
   "id": "2c0bba31-93df-4bfd-9bef-74198fe3a20a",
   "metadata": {},
   "source": [
    "-1 могло бы стоять вместо любой из цифр. Увы, если у вас не хватает элементов в массиве, чтобы разложить его на нужное количество, остается только добавлять эти элементы до того, как вы будете решейпить:"
   ]
  },
  {
   "cell_type": "code",
   "execution_count": 22,
   "id": "720a603f-36bd-461e-bea7-4c3da4729d7a",
   "metadata": {},
   "outputs": [
    {
     "data": {
      "text/plain": [
       "array([ 1,  2,  3,  4,  5,  6,  7,  8,  9, 10, 11])"
      ]
     },
     "execution_count": 22,
     "metadata": {},
     "output_type": "execute_result"
    }
   ],
   "source": [
    "arr = np.array(range(1, 12))\n",
    "arr"
   ]
  },
  {
   "cell_type": "code",
   "execution_count": 23,
   "id": "f385f216-7c1c-4dd4-9434-34bb2614bf6f",
   "metadata": {},
   "outputs": [],
   "source": [
    "arr = np.append(arr, 0)  # можно было бы и None добавить, но лучше уж 0, чтобы numpy не пришлось менять тип данных на object"
   ]
  },
  {
   "cell_type": "code",
   "execution_count": 24,
   "id": "e6bf1714-e88d-49b1-bc0d-312edb2fd0d4",
   "metadata": {},
   "outputs": [
    {
     "data": {
      "text/plain": [
       "array([ 1,  2,  3,  4,  5,  6,  7,  8,  9, 10, 11,  0])"
      ]
     },
     "execution_count": 24,
     "metadata": {},
     "output_type": "execute_result"
    }
   ],
   "source": [
    "arr"
   ]
  },
  {
   "cell_type": "markdown",
   "id": "f673a98d-0f6b-4674-a82a-9c957f1c0f94",
   "metadata": {},
   "source": [
    "Превратить любой массив в одномерный можно разными способами (ravel, flatten...), но в частности, можно просто отрешейпить в -1:"
   ]
  },
  {
   "cell_type": "code",
   "execution_count": 25,
   "id": "20b0930a-7b7a-4510-ab07-24defd605f3f",
   "metadata": {},
   "outputs": [
    {
     "data": {
      "text/plain": [
       "array([[1, 2, 3],\n",
       "       [4, 5, 6]])"
      ]
     },
     "execution_count": 25,
     "metadata": {},
     "output_type": "execute_result"
    }
   ],
   "source": [
    "curled = np.array([[1, 2, 3], [4, 5, 6]])\n",
    "curled"
   ]
  },
  {
   "cell_type": "code",
   "execution_count": 26,
   "id": "c61ebdbd-4558-4895-8986-aba9238e6957",
   "metadata": {},
   "outputs": [
    {
     "data": {
      "text/plain": [
       "array([1, 2, 3, 4, 5, 6])"
      ]
     },
     "execution_count": 26,
     "metadata": {},
     "output_type": "execute_result"
    }
   ],
   "source": [
    "flat = curled.reshape(-1)\n",
    "flat"
   ]
  },
  {
   "cell_type": "markdown",
   "id": "386bc97c-bda9-4ee7-9b47-4b4100aa2f7c",
   "metadata": {},
   "source": [
    "#### view vs base\n",
    "\n",
    "Также еще одна важная особенность массивов NumPy, о которой следует знать - это различие между base и view object. Для чего эта сложность? Это мы с вами на учебных занятиях возимся с массивчиками, в которых по три с половиной элемента, а в реальных программах массивы могут содержать миллиарды чисел. Случайно копировать такой массив, конечно, не улыбается, поэтому все библиотеки типа NumPy стараются избегать копирования, как только могут (ванильный питон тоже это делает - вспомните особенности копирования списков и других изменяемых объектов). \n",
    "\n",
    "view-массив - это такой массив, который собственных данных не содержит, а просто берет их из какого-то base-массива, но отображает по-своему. reshape как раз всегда возвращает такие вот \"виды\". Чтобы проверить, вид перед вами или база, можно обратиться к атрибуту:"
   ]
  },
  {
   "cell_type": "code",
   "execution_count": 27,
   "id": "e745b213-04b3-40f0-b680-b25af439f80d",
   "metadata": {},
   "outputs": [],
   "source": [
    "arr.base"
   ]
  },
  {
   "cell_type": "code",
   "execution_count": 28,
   "id": "09ae7729-3201-4441-bf6b-723d31ec7482",
   "metadata": {},
   "outputs": [],
   "source": [
    "arr_view = arr.reshape(3, 4)"
   ]
  },
  {
   "cell_type": "code",
   "execution_count": 29,
   "id": "0b37853e-638e-4ffb-9c17-bbb0f7e77d89",
   "metadata": {},
   "outputs": [
    {
     "data": {
      "text/plain": [
       "array([ 1,  2,  3,  4,  5,  6,  7,  8,  9, 10, 11,  0])"
      ]
     },
     "execution_count": 29,
     "metadata": {},
     "output_type": "execute_result"
    }
   ],
   "source": [
    "arr_view.base"
   ]
  },
  {
   "cell_type": "markdown",
   "id": "f59b9d2d-c3bd-4067-a6a3-932cd34e059b",
   "metadata": {},
   "source": [
    "Если массив оригинальный и владеет своими данными, то base вернет пустоту, в ином случае - хозяина данных. То есть, как легко догадаться, если мы будем изменять данные в массиве arr, данные в массиве arr_view тоже изменятся:"
   ]
  },
  {
   "cell_type": "code",
   "execution_count": 30,
   "id": "333ee6db-d773-4ac2-8443-592ba848545e",
   "metadata": {},
   "outputs": [],
   "source": [
    "arr[2] = 123"
   ]
  },
  {
   "cell_type": "code",
   "execution_count": 31,
   "id": "0c86c2cc-16b7-465b-b69b-4aa82f9a59ce",
   "metadata": {},
   "outputs": [
    {
     "data": {
      "text/plain": [
       "array([[  1,   2, 123,   4],\n",
       "       [  5,   6,   7,   8],\n",
       "       [  9,  10,  11,   0]])"
      ]
     },
     "execution_count": 31,
     "metadata": {},
     "output_type": "execute_result"
    }
   ],
   "source": [
    "arr_view"
   ]
  },
  {
   "cell_type": "markdown",
   "id": "295d7928-56c2-45ab-9f91-f6ba77764050",
   "metadata": {},
   "source": [
    "Явным образом создать копию можно с помощью метода copy(). "
   ]
  },
  {
   "cell_type": "markdown",
   "id": "6d7a38b6-db27-4a76-9fbb-71c59f2c3876",
   "metadata": {},
   "source": [
    "#### Итерирование\n",
    "\n",
    "Как итерироваться по массивам? Можно тупо по индексам с помощью for, но для многомерных массивов это может быть сложновато, поэтому есть специальная функция:"
   ]
  },
  {
   "cell_type": "code",
   "execution_count": 32,
   "id": "0ee0b679-94a9-4389-a81c-78f3629404e4",
   "metadata": {},
   "outputs": [
    {
     "name": "stdout",
     "output_type": "stream",
     "text": [
      "1\t2\t123\t4\t5\t6\t7\t8\t9\t10\t11\t0\t"
     ]
    }
   ],
   "source": [
    "for elem in np.nditer(arr):\n",
    "    print(elem, end='\\t')"
   ]
  },
  {
   "cell_type": "markdown",
   "id": "46a5df1c-166e-4c83-8022-9914ded5c710",
   "metadata": {},
   "source": [
    "Есть и альтернатива enumerate для массивов:"
   ]
  },
  {
   "cell_type": "code",
   "execution_count": 33,
   "id": "e070d423-bf19-4a65-8859-76d05bd378a8",
   "metadata": {},
   "outputs": [
    {
     "name": "stdout",
     "output_type": "stream",
     "text": [
      "(0,) 1\t(1,) 2\t(2,) 123\t(3,) 4\t(4,) 5\t(5,) 6\t(6,) 7\t(7,) 8\t(8,) 9\t(9,) 10\t(10,) 11\t(11,) 0\t"
     ]
    }
   ],
   "source": [
    "for i, elem in np.ndenumerate(arr):\n",
    "    print(i, elem, end='\\t')"
   ]
  },
  {
   "cell_type": "markdown",
   "id": "e8f6cd6a-d399-4e10-abd7-bd63f4dfb568",
   "metadata": {},
   "source": [
    "#### Операции с массивами\n",
    "\n",
    "Какие действия вообще возможно выполнять с массивами?"
   ]
  },
  {
   "cell_type": "code",
   "execution_count": 34,
   "id": "620fe7c9-79f6-4046-b195-1ca3ad883b81",
   "metadata": {},
   "outputs": [],
   "source": [
    "arr = np.array([1, 2, 3, 4, 5])"
   ]
  },
  {
   "cell_type": "markdown",
   "id": "4c873493-2350-4128-8823-14c67a4536a4",
   "metadata": {},
   "source": [
    "Все стандартные операции с числами будут произведены поэлементно:"
   ]
  },
  {
   "cell_type": "code",
   "execution_count": 35,
   "id": "5780391a-0dac-45b1-b147-52e1389f8d2c",
   "metadata": {},
   "outputs": [
    {
     "data": {
      "text/plain": [
       "array([2, 3, 4, 5, 6])"
      ]
     },
     "execution_count": 35,
     "metadata": {},
     "output_type": "execute_result"
    }
   ],
   "source": [
    "arr + 1"
   ]
  },
  {
   "cell_type": "code",
   "execution_count": 36,
   "id": "c6c399c9-6e2d-45dd-92ca-e1781f0b5c44",
   "metadata": {},
   "outputs": [
    {
     "data": {
      "text/plain": [
       "array([ 5, 10, 15, 20, 25])"
      ]
     },
     "execution_count": 36,
     "metadata": {},
     "output_type": "execute_result"
    }
   ],
   "source": [
    "arr * 5"
   ]
  },
  {
   "cell_type": "code",
   "execution_count": 37,
   "id": "f545a979-bea6-42e5-bfa2-0081a2732c8a",
   "metadata": {},
   "outputs": [
    {
     "data": {
      "text/plain": [
       "array([-3, -2, -1,  0,  1])"
      ]
     },
     "execution_count": 37,
     "metadata": {},
     "output_type": "execute_result"
    }
   ],
   "source": [
    "arr - 4"
   ]
  },
  {
   "cell_type": "code",
   "execution_count": 38,
   "id": "8fd2fc67-ed4c-40b5-b281-b3e106461376",
   "metadata": {},
   "outputs": [
    {
     "data": {
      "text/plain": [
       "array([ 1,  4,  9, 16, 25])"
      ]
     },
     "execution_count": 38,
     "metadata": {},
     "output_type": "execute_result"
    }
   ],
   "source": [
    "arr ** 2"
   ]
  },
  {
   "cell_type": "code",
   "execution_count": 39,
   "id": "689540e4-f71c-4068-80bd-990dabecd05e",
   "metadata": {},
   "outputs": [
    {
     "data": {
      "text/plain": [
       "array([0.2, 0.4, 0.6, 0.8, 1. ])"
      ]
     },
     "execution_count": 39,
     "metadata": {},
     "output_type": "execute_result"
    }
   ],
   "source": [
    "arr / 5"
   ]
  },
  {
   "cell_type": "markdown",
   "id": "b41cb20c-a356-45d5-8bb2-79a9c047a924",
   "metadata": {},
   "source": [
    "Логические операции между двумя массивами будут давать массив из булей:"
   ]
  },
  {
   "cell_type": "code",
   "execution_count": 40,
   "id": "c58b2d53-4dac-478e-8fba-a7c6a0757db0",
   "metadata": {},
   "outputs": [
    {
     "data": {
      "text/plain": [
       "array([False,  True, False,  True])"
      ]
     },
     "execution_count": 40,
     "metadata": {},
     "output_type": "execute_result"
    }
   ],
   "source": [
    "a = np.array([1, 2, 3, 4])\n",
    "b = np.array([4, 2, 2, 4])\n",
    "a == b"
   ]
  },
  {
   "cell_type": "markdown",
   "id": "c915c7de-3937-4924-bc5d-a8148cd6641c",
   "metadata": {},
   "source": [
    "А если у нас два массива, и мы хотим их сложить?"
   ]
  },
  {
   "cell_type": "code",
   "execution_count": 41,
   "id": "79a75040-5d13-46db-97f2-838f727a3dc7",
   "metadata": {},
   "outputs": [
    {
     "data": {
      "text/plain": [
       "array([5, 4, 5, 8])"
      ]
     },
     "execution_count": 41,
     "metadata": {},
     "output_type": "execute_result"
    }
   ],
   "source": [
    "a + b"
   ]
  },
  {
   "cell_type": "markdown",
   "id": "a37d173e-1a44-4208-a20d-53ddb3360216",
   "metadata": {},
   "source": [
    "Тут, правда, может возникнуть незадача..."
   ]
  },
  {
   "cell_type": "code",
   "execution_count": 42,
   "id": "01f90898-9daa-4d7f-bec0-9425b95633a0",
   "metadata": {},
   "outputs": [
    {
     "ename": "ValueError",
     "evalue": "operands could not be broadcast together with shapes (4,) (5,) ",
     "output_type": "error",
     "traceback": [
      "\u001b[0;31m---------------------------------------------------------------------------\u001b[0m",
      "\u001b[0;31mValueError\u001b[0m                                Traceback (most recent call last)",
      "\u001b[0;32m/tmp/ipykernel_40546/4193272565.py\u001b[0m in \u001b[0;36m<module>\u001b[0;34m\u001b[0m\n\u001b[0;32m----> 1\u001b[0;31m \u001b[0ma\u001b[0m \u001b[0;34m+\u001b[0m \u001b[0marr\u001b[0m\u001b[0;34m\u001b[0m\u001b[0;34m\u001b[0m\u001b[0m\n\u001b[0m",
      "\u001b[0;31mValueError\u001b[0m: operands could not be broadcast together with shapes (4,) (5,) "
     ]
    }
   ],
   "source": [
    "a + arr"
   ]
  },
  {
   "cell_type": "markdown",
   "id": "fdc170bc-bd7b-48cb-ad31-da2825073cf5",
   "metadata": {},
   "source": [
    "Это и есть тот самый broadcasting: чтобы произвести операции между неравными по размеру массивами, NumPy пытается превратить их в равные, но иногда у него не получается. В манах по NumPy можно найти картинку, наглядно объясняющую broadcasting: \n",
    "\n",
    "<img src=numpy_broadcasting.png>"
   ]
  },
  {
   "cell_type": "markdown",
   "id": "eb4c51ef-6801-4a14-9fde-e374c2f6e95f",
   "metadata": {},
   "source": [
    "#### Конкатенация и разделение\n",
    "\n",
    "Окей, а если мы хотим объединить два массива, при этом не складывая их? Тут есть несколько вариантов:"
   ]
  },
  {
   "cell_type": "code",
   "execution_count": 43,
   "id": "d71f2a88-2c30-4edb-b216-7ffd5af8cfac",
   "metadata": {},
   "outputs": [],
   "source": [
    "arr1 = np.array([[1, 2, 3]])\n",
    "arr2 = np.array([[4, 5, 6]])"
   ]
  },
  {
   "cell_type": "code",
   "execution_count": 44,
   "id": "93871283-1bb1-4269-b394-fdafa2506b33",
   "metadata": {},
   "outputs": [
    {
     "data": {
      "text/plain": [
       "array([[1, 2, 3],\n",
       "       [4, 5, 6]])"
      ]
     },
     "execution_count": 44,
     "metadata": {},
     "output_type": "execute_result"
    }
   ],
   "source": [
    "arr = np.concatenate((arr1, arr2))\n",
    "arr"
   ]
  },
  {
   "cell_type": "code",
   "execution_count": 45,
   "id": "7cbc3fd8-6eb9-4db2-8061-da94a90beeef",
   "metadata": {},
   "outputs": [
    {
     "data": {
      "text/plain": [
       "array([[1, 2, 3, 4, 5, 6]])"
      ]
     },
     "execution_count": 45,
     "metadata": {},
     "output_type": "execute_result"
    }
   ],
   "source": [
    "arrv = np.concatenate((arr1, arr2), axis=1)\n",
    "arrv"
   ]
  },
  {
   "cell_type": "code",
   "execution_count": 46,
   "id": "8af77fff-4054-45ee-827b-f7ced89a4d21",
   "metadata": {},
   "outputs": [
    {
     "data": {
      "text/plain": [
       "array([[[1, 2, 3]],\n",
       "\n",
       "       [[4, 5, 6]]])"
      ]
     },
     "execution_count": 46,
     "metadata": {},
     "output_type": "execute_result"
    }
   ],
   "source": [
    "np.stack((arr1, arr2))"
   ]
  },
  {
   "cell_type": "markdown",
   "id": "a2de5fb8-a12c-4092-8e31-53f02e3f1129",
   "metadata": {},
   "source": [
    "Тут немного неочевидно - но stack возвращает массив большей мерности, когда склеивает, а concatenate - нет. "
   ]
  },
  {
   "cell_type": "markdown",
   "id": "a3995e52-5c8d-4964-9489-b020524487af",
   "metadata": {},
   "source": [
    "Посплитить тоже можно:"
   ]
  },
  {
   "cell_type": "code",
   "execution_count": 47,
   "id": "08f77742-72e0-47f2-b370-1a91b1c68810",
   "metadata": {},
   "outputs": [
    {
     "data": {
      "text/plain": [
       "[array([[1, 2, 3]]), array([[4, 5, 6]])]"
      ]
     },
     "execution_count": 47,
     "metadata": {},
     "output_type": "execute_result"
    }
   ],
   "source": [
    "np.array_split(arr, 2)"
   ]
  },
  {
   "cell_type": "markdown",
   "id": "b550129a-eea1-4af7-ad72-9b403537d38b",
   "metadata": {},
   "source": [
    "#### Поиск, сортировка, фильтрация\n",
    "\n",
    "Можно искать по массиву элемент, который чему-нибудь равен:"
   ]
  },
  {
   "cell_type": "code",
   "execution_count": 48,
   "id": "37780f50-8ff0-40ad-8706-8e12f04cf6ba",
   "metadata": {},
   "outputs": [
    {
     "data": {
      "text/plain": [
       "(array([0, 1]), array([2, 1]))"
      ]
     },
     "execution_count": 48,
     "metadata": {},
     "output_type": "execute_result"
    }
   ],
   "source": [
    "arr = np.array([[1, 2, 3], [2, 3, 1]])\n",
    "np.where(arr==3)"
   ]
  },
  {
   "cell_type": "markdown",
   "id": "aa1bbe29-5cb3-44d8-ad53-37be2ef9eaa8",
   "metadata": {},
   "source": [
    "В этом случае вернутся индексы найденных элементов.\n",
    "\n",
    "where умеет еще и заменять найденное:"
   ]
  },
  {
   "cell_type": "code",
   "execution_count": 49,
   "id": "580558da-d70a-4697-9b8c-590f77b10457",
   "metadata": {},
   "outputs": [
    {
     "data": {
      "text/plain": [
       "array([[  1,   2, 333],\n",
       "       [  2, 333,   1]])"
      ]
     },
     "execution_count": 49,
     "metadata": {},
     "output_type": "execute_result"
    }
   ],
   "source": [
    "np.where(arr == 3, 333, arr)"
   ]
  },
  {
   "cell_type": "markdown",
   "id": "dda3b221-8a8c-46df-bb9f-e6d7f1a666af",
   "metadata": {},
   "source": [
    "Сортировать массивы можно с помощью np.sort(), которая возвращает копию массива, а оригинальный массив оставляет нетронутым. "
   ]
  },
  {
   "cell_type": "markdown",
   "id": "313d6260-7de2-46fd-9f3c-5ebc89ed3d5a",
   "metadata": {},
   "source": [
    "Фильтрация массива - очень мощная и крутая штуковина. Например, мы можем наложить своего рода маску на массив:"
   ]
  },
  {
   "cell_type": "code",
   "execution_count": 50,
   "id": "ab4fd942-b0cf-453b-9ffe-46edbb4576d1",
   "metadata": {},
   "outputs": [
    {
     "data": {
      "text/plain": [
       "array([2, 4])"
      ]
     },
     "execution_count": 50,
     "metadata": {},
     "output_type": "execute_result"
    }
   ],
   "source": [
    "arr = np.array([1, 2, 3, 4])\n",
    "filt = [False, True, False, True]\n",
    "arr[filt]"
   ]
  },
  {
   "cell_type": "markdown",
   "id": "538990ae-e566-428d-ba8a-6e8a50155f4b",
   "metadata": {},
   "source": [
    "Подобная маска нам, конечно, вряд ли пригодится в реальной жизни, но можно задавать ее с помощью условия:"
   ]
  },
  {
   "cell_type": "code",
   "execution_count": 51,
   "id": "7d9af1d4-900f-4402-8fb5-b88f5316dc88",
   "metadata": {},
   "outputs": [
    {
     "data": {
      "text/plain": [
       "array([1, 3])"
      ]
     },
     "execution_count": 51,
     "metadata": {},
     "output_type": "execute_result"
    }
   ],
   "source": [
    "filt = arr % 2 == 1\n",
    "arr[filt]"
   ]
  },
  {
   "cell_type": "markdown",
   "id": "cd751427-5abe-441d-9f18-c9ae6f6d328c",
   "metadata": {},
   "source": [
    "То есть, условие поэлементно применяется к массиву, и возвращаются только те элементы, которые прошли испытание. \n",
    "\n",
    "Можно и напрямую:"
   ]
  },
  {
   "cell_type": "code",
   "execution_count": 52,
   "id": "d43cd965-e775-443e-a398-5859a8d42514",
   "metadata": {},
   "outputs": [
    {
     "data": {
      "text/plain": [
       "array([1, 3])"
      ]
     },
     "execution_count": 52,
     "metadata": {},
     "output_type": "execute_result"
    }
   ],
   "source": [
    "arr[arr % 2 == 1]"
   ]
  },
  {
   "cell_type": "markdown",
   "id": "73d73b0c-a900-47b3-a2a9-32869ca2dd3c",
   "metadata": {},
   "source": [
    "#### Рандомизация"
   ]
  },
  {
   "cell_type": "markdown",
   "id": "ad543d3d-9ef2-4553-9bb3-d6fe2530f78b",
   "metadata": {},
   "source": [
    "В NumPy есть свой подмодуль random, у которого есть следующие вещи:."
   ]
  },
  {
   "cell_type": "code",
   "execution_count": 53,
   "id": "0f201128-3cf0-4c83-9474-3bcbf1761f3d",
   "metadata": {},
   "outputs": [
    {
     "data": {
      "text/plain": [
       "array([[13, 79, 77, 45, 65],\n",
       "       [79, 77, 69, 16, 49],\n",
       "       [21, 15, 71, 13, 36]])"
      ]
     },
     "execution_count": 53,
     "metadata": {},
     "output_type": "execute_result"
    }
   ],
   "source": [
    "np.random.randint(100, size=(3, 5))"
   ]
  },
  {
   "cell_type": "code",
   "execution_count": 54,
   "id": "1f380e84-6dfc-4ed2-b99e-ab592b26fec8",
   "metadata": {},
   "outputs": [
    {
     "data": {
      "text/plain": [
       "array([0.71523449, 0.2280614 , 0.602283  , 0.59748733, 0.8102286 ])"
      ]
     },
     "execution_count": 54,
     "metadata": {},
     "output_type": "execute_result"
    }
   ],
   "source": [
    "np.random.rand(5)"
   ]
  },
  {
   "cell_type": "code",
   "execution_count": 55,
   "id": "85830cff-7108-45fd-a9f8-abfda5438af5",
   "metadata": {},
   "outputs": [
    {
     "data": {
      "text/plain": [
       "array([[ 1.13376665, -1.21084091],\n",
       "       [ 0.65017331, -1.03202383],\n",
       "       [ 0.03266352,  2.59801228]])"
      ]
     },
     "execution_count": 55,
     "metadata": {},
     "output_type": "execute_result"
    }
   ],
   "source": [
    "np.random.randn(3,2)"
   ]
  },
  {
   "cell_type": "markdown",
   "id": "8201af6f-d450-4fda-8bcf-48a44a4ef3c9",
   "metadata": {},
   "source": [
    "Первая функция генерирует массив заданного размера в диапазоне от 0 до 100, вторая - массив заданного размера, состоящий из рандомных чисел от 0 до 1, а третья - то же, что вторая, но числа могут быть отрицательными и не обязательно от 0 до 1. "
   ]
  },
  {
   "cell_type": "markdown",
   "id": "a1170f49-e4cc-4c4a-9d2a-4276a8ddf0e9",
   "metadata": {},
   "source": [
    "#### Диапазон"
   ]
  },
  {
   "cell_type": "markdown",
   "id": "a15dd114-97ee-4295-867f-ff07c1185071",
   "metadata": {},
   "source": [
    "Можно генерировать массивы, состоящие из числовых диапазонов, как я это делала выше, но обычно используется своя функция NumPy:"
   ]
  },
  {
   "cell_type": "code",
   "execution_count": 56,
   "id": "4b3fdd5b-e325-4c50-b72b-d9ecff1236d2",
   "metadata": {},
   "outputs": [
    {
     "data": {
      "text/plain": [
       "array([ 1,  2,  3,  4,  5,  6,  7,  8,  9, 10, 11, 12])"
      ]
     },
     "execution_count": 56,
     "metadata": {},
     "output_type": "execute_result"
    }
   ],
   "source": [
    "np.arange(1, 13)"
   ]
  },
  {
   "cell_type": "markdown",
   "id": "486244b1-c7f1-4110-ab9a-cf16288abf26",
   "metadata": {},
   "source": [
    "Для более упорядоченной генерации чисел есть также такая функция:"
   ]
  },
  {
   "cell_type": "code",
   "execution_count": 57,
   "id": "fad6aa39-c037-4850-9e07-852cbf557718",
   "metadata": {},
   "outputs": [
    {
     "data": {
      "text/plain": [
       "array([ 1.        ,  1.78571429,  2.57142857,  3.35714286,  4.14285714,\n",
       "        4.92857143,  5.71428571,  6.5       ,  7.28571429,  8.07142857,\n",
       "        8.85714286,  9.64285714, 10.42857143, 11.21428571, 12.        ])"
      ]
     },
     "execution_count": 57,
     "metadata": {},
     "output_type": "execute_result"
    }
   ],
   "source": [
    "np.linspace(1, 12, 15)"
   ]
  },
  {
   "cell_type": "markdown",
   "id": "29eee8c4-4cd0-40a9-b62c-2eea51e0234e",
   "metadata": {},
   "source": [
    "В чем ее прикол? А она генерирует только такие точки, которые укладываются на прямую между точкой начала и конца (аргументы функции - старт, стоп, количество чисел). Если построить график, можно получить прямую:"
   ]
  },
  {
   "cell_type": "code",
   "execution_count": 58,
   "id": "0ecef3bf-d1f6-40fb-b351-64558e63f4ba",
   "metadata": {},
   "outputs": [],
   "source": [
    "import matplotlib.pyplot as plt"
   ]
  },
  {
   "cell_type": "code",
   "execution_count": 59,
   "id": "661a9a96-8d81-4228-8836-2deea5ceb650",
   "metadata": {},
   "outputs": [
    {
     "data": {
      "image/png": "[encoded data removed]",
      "text/plain": [
       "<Figure size 432x288 with 1 Axes>"
      ]
     },
     "metadata": {
      "needs_background": "light"
     },
     "output_type": "display_data"
    }
   ],
   "source": [
    "plt.plot(np.linspace(1, 12, 15))\n",
    "plt.show()"
   ]
  },
  {
   "cell_type": "markdown",
   "id": "de75bfe9-91e4-418d-a31c-bde9a7687596",
   "metadata": {
    "tags": []
   },
   "source": [
    "### PANDAS\n",
    "\n",
    "Pandas - сокращение от panel data (табличные данные). Это библиотека, которая используется в основном для анализа данных и машинного обучения, но в ней также удобно, например, обрабатывать выдачу из корпуса типа ГИКРЯ и любые другие текстовые данные, которые содержатся в табличках. \n",
    "\n",
    "Pandas - очень быстрая библиотека, потому что основывается на библиотеке numpy, а та, как мы помним, написана внутри себя на языке С. С этим фактом связаны и типы данных pandas - они во многом дублируют типы numpy, пришедшие из С. \n",
    "\n",
    "Pandas **гораздо** быстрее обрабатывает данные, чем стандартные методы питона, в частности циклы. Если вы пишете код, в котором используете циклы в pandas, очень возможно, что это плохой код. \n",
    "\n",
    "Еще pandas заточен под использование в тетрадках .ipynb и умеет красиво отображать данные. \n",
    "\n",
    "Мы с вами посмотрели, естественно, только самые базовые и постоянно требующиеся вещи; библиотека pandas, как и numpy (и любая другая старая, большая и полезная библиотека питона), на самом деле огромная, все ее содержимое выучить невозможно, и я всячески призываю обращаться к документации и стэковерфлоу. Если вам нужно что-то этакое сделать, сперва погуглите, не сделал ли это кто-то уже до вас (золотое правило любого разраба). "
   ]
  },
  {
   "cell_type": "markdown",
   "id": "3e72a69d-8f16-46ab-be38-6808b8cf62d0",
   "metadata": {},
   "source": [
    "Библиотеку необходимо сперва установить:\n",
    "\n",
    "    pip install pandas"
   ]
  },
  {
   "cell_type": "code",
   "execution_count": 1,
   "id": "b9757ad2-f109-4b4e-a4c1-bb64556d6016",
   "metadata": {},
   "outputs": [],
   "source": [
    "import pandas as pd  \n",
    "# это настолько устоявшееся сокращение, что все так делают"
   ]
  },
  {
   "cell_type": "markdown",
   "id": "0503762a-3d3c-4c03-b730-f63e2788cd3a",
   "metadata": {},
   "source": [
    "Два основных класса, которые есть в модуле - это класс DataFrame (собственно таблица) и класс Series (колонка или строка в таблице). \n",
    "\n",
    "Создать DataFrame можно из списка списков, списка словарей, словаря списков или словаря словарей. "
   ]
  },
  {
   "cell_type": "code",
   "execution_count": 3,
   "id": "5955d91f-639d-4bdf-90b6-6f8b6c22c8ca",
   "metadata": {},
   "outputs": [
    {
     "data": {
      "text/html": [
       "<div>\n",
       "<style scoped>\n",
       "    .dataframe tbody tr th:only-of-type {\n",
       "        vertical-align: middle;\n",
       "    }\n",
       "\n",
       "    .dataframe tbody tr th {\n",
       "        vertical-align: top;\n",
       "    }\n",
       "\n",
       "    .dataframe thead th {\n",
       "        text-align: right;\n",
       "    }\n",
       "</style>\n",
       "<table border=\"1\" class=\"dataframe\">\n",
       "  <thead>\n",
       "    <tr style=\"text-align: right;\">\n",
       "      <th></th>\n",
       "      <th>0</th>\n",
       "      <th>1</th>\n",
       "      <th>2</th>\n",
       "    </tr>\n",
       "  </thead>\n",
       "  <tbody>\n",
       "    <tr>\n",
       "      <th>0</th>\n",
       "      <td>1</td>\n",
       "      <td>2</td>\n",
       "      <td>3</td>\n",
       "    </tr>\n",
       "    <tr>\n",
       "      <th>1</th>\n",
       "      <td>4</td>\n",
       "      <td>5</td>\n",
       "      <td>6</td>\n",
       "    </tr>\n",
       "  </tbody>\n",
       "</table>\n",
       "</div>"
      ],
      "text/plain": [
       "   0  1  2\n",
       "0  1  2  3\n",
       "1  4  5  6"
      ]
     },
     "execution_count": 3,
     "metadata": {},
     "output_type": "execute_result"
    }
   ],
   "source": [
    "df1 = pd.DataFrame([[1, 2, 3], [4, 5, 6]])\n",
    "df1"
   ]
  },
  {
   "cell_type": "code",
   "execution_count": 4,
   "id": "3e866e28-bccb-4023-82ba-4ea2dcb479f7",
   "metadata": {},
   "outputs": [
    {
     "data": {
      "text/html": [
       "<div>\n",
       "<style scoped>\n",
       "    .dataframe tbody tr th:only-of-type {\n",
       "        vertical-align: middle;\n",
       "    }\n",
       "\n",
       "    .dataframe tbody tr th {\n",
       "        vertical-align: top;\n",
       "    }\n",
       "\n",
       "    .dataframe thead th {\n",
       "        text-align: right;\n",
       "    }\n",
       "</style>\n",
       "<table border=\"1\" class=\"dataframe\">\n",
       "  <thead>\n",
       "    <tr style=\"text-align: right;\">\n",
       "      <th></th>\n",
       "      <th>col1</th>\n",
       "      <th>col2</th>\n",
       "    </tr>\n",
       "  </thead>\n",
       "  <tbody>\n",
       "    <tr>\n",
       "      <th>0</th>\n",
       "      <td>1</td>\n",
       "      <td>2</td>\n",
       "    </tr>\n",
       "    <tr>\n",
       "      <th>1</th>\n",
       "      <td>3</td>\n",
       "      <td>4</td>\n",
       "    </tr>\n",
       "  </tbody>\n",
       "</table>\n",
       "</div>"
      ],
      "text/plain": [
       "   col1  col2\n",
       "0     1     2\n",
       "1     3     4"
      ]
     },
     "execution_count": 4,
     "metadata": {},
     "output_type": "execute_result"
    }
   ],
   "source": [
    "df2 = pd.DataFrame([{'col1': 1, 'col2': 2}, {'col1': 3, 'col2': 4}])\n",
    "df2"
   ]
  },
  {
   "cell_type": "code",
   "execution_count": 5,
   "id": "ab618255-17c6-45d6-a44f-538c62ed31a3",
   "metadata": {},
   "outputs": [
    {
     "data": {
      "text/html": [
       "<div>\n",
       "<style scoped>\n",
       "    .dataframe tbody tr th:only-of-type {\n",
       "        vertical-align: middle;\n",
       "    }\n",
       "\n",
       "    .dataframe tbody tr th {\n",
       "        vertical-align: top;\n",
       "    }\n",
       "\n",
       "    .dataframe thead th {\n",
       "        text-align: right;\n",
       "    }\n",
       "</style>\n",
       "<table border=\"1\" class=\"dataframe\">\n",
       "  <thead>\n",
       "    <tr style=\"text-align: right;\">\n",
       "      <th></th>\n",
       "      <th>col1</th>\n",
       "      <th>col2</th>\n",
       "    </tr>\n",
       "  </thead>\n",
       "  <tbody>\n",
       "    <tr>\n",
       "      <th>0</th>\n",
       "      <td>1</td>\n",
       "      <td>4</td>\n",
       "    </tr>\n",
       "    <tr>\n",
       "      <th>1</th>\n",
       "      <td>2</td>\n",
       "      <td>5</td>\n",
       "    </tr>\n",
       "    <tr>\n",
       "      <th>2</th>\n",
       "      <td>3</td>\n",
       "      <td>6</td>\n",
       "    </tr>\n",
       "  </tbody>\n",
       "</table>\n",
       "</div>"
      ],
      "text/plain": [
       "   col1  col2\n",
       "0     1     4\n",
       "1     2     5\n",
       "2     3     6"
      ]
     },
     "execution_count": 5,
     "metadata": {},
     "output_type": "execute_result"
    }
   ],
   "source": [
    "df3 = pd.DataFrame({'col1': [1, 2, 3], 'col2': [4, 5, 6]})\n",
    "df3"
   ]
  },
  {
   "cell_type": "code",
   "execution_count": 8,
   "id": "75134c68-4e6f-42cd-8e56-b84eca5349f8",
   "metadata": {},
   "outputs": [
    {
     "data": {
      "text/html": [
       "<div>\n",
       "<style scoped>\n",
       "    .dataframe tbody tr th:only-of-type {\n",
       "        vertical-align: middle;\n",
       "    }\n",
       "\n",
       "    .dataframe tbody tr th {\n",
       "        vertical-align: top;\n",
       "    }\n",
       "\n",
       "    .dataframe thead th {\n",
       "        text-align: right;\n",
       "    }\n",
       "</style>\n",
       "<table border=\"1\" class=\"dataframe\">\n",
       "  <thead>\n",
       "    <tr style=\"text-align: right;\">\n",
       "      <th></th>\n",
       "      <th>col1</th>\n",
       "      <th>col2</th>\n",
       "    </tr>\n",
       "  </thead>\n",
       "  <tbody>\n",
       "    <tr>\n",
       "      <th>l1</th>\n",
       "      <td>1</td>\n",
       "      <td>3</td>\n",
       "    </tr>\n",
       "    <tr>\n",
       "      <th>l2</th>\n",
       "      <td>2</td>\n",
       "      <td>4</td>\n",
       "    </tr>\n",
       "  </tbody>\n",
       "</table>\n",
       "</div>"
      ],
      "text/plain": [
       "    col1  col2\n",
       "l1     1     3\n",
       "l2     2     4"
      ]
     },
     "execution_count": 8,
     "metadata": {},
     "output_type": "execute_result"
    }
   ],
   "source": [
    "df4 = pd.DataFrame({'col1': {'l1': 1, 'l2': 2}, 'col2': {'l1': 3, 'l2': 4}})\n",
    "df4"
   ]
  },
  {
   "cell_type": "markdown",
   "id": "c434e719-08ae-44bf-b0b2-57d81ac26e36",
   "metadata": {},
   "source": [
    "Также pandas отлично работает с csv, json, excel-файлами. Для excel, правда, нужно дополнительно установить openpyxl. Интерфейс очень простой: достаточно написать функцию для чтения этого формата и передать только путь к файлу. "
   ]
  },
  {
   "cell_type": "code",
   "execution_count": null,
   "id": "02b4f3b0-9011-4b66-adaa-00c42667f025",
   "metadata": {},
   "outputs": [],
   "source": [
    "data = pd.read_json(path)\n",
    "data = pd.read_csv(path)\n",
    "data = pd.read_excel(path)"
   ]
  },
  {
   "cell_type": "markdown",
   "id": "fd135933-a897-441e-ba38-a44b0d775b55",
   "metadata": {},
   "source": [
    "Внутри себя табличка pandas устроена очень похоже именно на помесь словаря и списка, поэтому можно обращаться к ее частям, как к ключам в словаре или индексам в списке:"
   ]
  },
  {
   "cell_type": "code",
   "execution_count": 9,
   "id": "0c5bd2c4-0632-49f2-a06b-c192543e0c2e",
   "metadata": {},
   "outputs": [
    {
     "data": {
      "text/plain": [
       "0    1\n",
       "1    2\n",
       "2    3\n",
       "Name: col1, dtype: int64"
      ]
     },
     "execution_count": 9,
     "metadata": {},
     "output_type": "execute_result"
    }
   ],
   "source": [
    "df3['col1']"
   ]
  },
  {
   "cell_type": "markdown",
   "id": "1d2be4ef-ce9a-43ac-a4b8-bb1ef06bf1d5",
   "metadata": {},
   "source": [
    "Когда мы так делаем, нам показывается формат Series - та самая колонка (или строчка) таблицы. Помимо имени колонки (или индекса строки), pandas еще указывает тип данных, которые содержатся в ячейках. Поскольку внутри себя pandas работает в С, а у С другие типы данных (там различаются int и float по размерам), pandas тоже указывает немного непривычные int64, float32 и подобное. "
   ]
  },
  {
   "cell_type": "markdown",
   "id": "5387f808-e356-4b4d-84cd-0489987176bd",
   "metadata": {},
   "source": [
    "К колонке таблицы, если в ее имени нет каких-нибудь пробелов и нестандартных символов, можно обращаться через точку от имени таблицы:"
   ]
  },
  {
   "cell_type": "code",
   "execution_count": 10,
   "id": "a85c20a3-ca37-4ea4-b61c-0fdda43d8057",
   "metadata": {},
   "outputs": [
    {
     "data": {
      "text/plain": [
       "0    1\n",
       "1    2\n",
       "2    3\n",
       "Name: col1, dtype: int64"
      ]
     },
     "execution_count": 10,
     "metadata": {},
     "output_type": "execute_result"
    }
   ],
   "source": [
    "df3.col1"
   ]
  },
  {
   "cell_type": "markdown",
   "id": "e45c9ce9-f1dd-436b-bc7f-2764010e8d1c",
   "metadata": {},
   "source": [
    "Строки мы смотрим с помощью loc:"
   ]
  },
  {
   "cell_type": "code",
   "execution_count": 11,
   "id": "cf99970c-f311-4ca5-a7ac-c50effe88289",
   "metadata": {},
   "outputs": [
    {
     "data": {
      "text/plain": [
       "col1    2\n",
       "col2    4\n",
       "Name: l2, dtype: int64"
      ]
     },
     "execution_count": 11,
     "metadata": {},
     "output_type": "execute_result"
    }
   ],
   "source": [
    "df4.loc['l2']"
   ]
  },
  {
   "cell_type": "markdown",
   "id": "02667f38-4539-42e6-b183-00ad2531211b",
   "metadata": {},
   "source": [
    "Если у нас вместо индексов у строчек названия, то пишем прямо названия, как в ячейке выше. Если индексы - числа, то можно писать числа. Можно вообще всегда писать числа, если использовать iloc:"
   ]
  },
  {
   "cell_type": "code",
   "execution_count": 12,
   "id": "a414043d-4a5a-4a9c-870c-3bcd7fc0cfe6",
   "metadata": {},
   "outputs": [
    {
     "data": {
      "text/plain": [
       "col1    2\n",
       "col2    4\n",
       "Name: l2, dtype: int64"
      ]
     },
     "execution_count": 12,
     "metadata": {},
     "output_type": "execute_result"
    }
   ],
   "source": [
    "df4.iloc[1]"
   ]
  },
  {
   "cell_type": "markdown",
   "id": "341af516-091f-430c-8687-c7122ef726c1",
   "metadata": {},
   "source": [
    "К отдельной ячейке можно обратиться, если сперва указать ее колонку, а потом строку:"
   ]
  },
  {
   "cell_type": "code",
   "execution_count": 13,
   "id": "8ddf1b9e-31f0-4fda-8e72-a7b2fbd5ccd8",
   "metadata": {},
   "outputs": [
    {
     "data": {
      "text/plain": [
       "3"
      ]
     },
     "execution_count": 13,
     "metadata": {},
     "output_type": "execute_result"
    }
   ],
   "source": [
    "df4['col2']['l1']"
   ]
  },
  {
   "cell_type": "markdown",
   "id": "800a578a-50a3-430c-9cfa-bf52a65964fc",
   "metadata": {},
   "source": [
    "Также можно воспользоваться iloc:"
   ]
  },
  {
   "cell_type": "code",
   "execution_count": 16,
   "id": "d6e0cb91-2f16-48e4-bf9b-792eb33fed6a",
   "metadata": {},
   "outputs": [
    {
     "data": {
      "text/plain": [
       "3"
      ]
     },
     "execution_count": 16,
     "metadata": {},
     "output_type": "execute_result"
    }
   ],
   "source": [
    "df4.iloc[0, 1]  # 0 - номер колонки, 1 - номер строки"
   ]
  },
  {
   "cell_type": "markdown",
   "id": "f26473df-e10a-434a-bf17-384be266fef1",
   "metadata": {},
   "source": [
    "Наконец, pandas умеет показывать отдельно начало, отдельно конец таблицы и выбирать случайные строки для показа. "
   ]
  },
  {
   "cell_type": "code",
   "execution_count": 17,
   "id": "9fca9410-74a0-4818-a540-854b79ea3c54",
   "metadata": {},
   "outputs": [
    {
     "data": {
      "text/html": [
       "<div>\n",
       "<style scoped>\n",
       "    .dataframe tbody tr th:only-of-type {\n",
       "        vertical-align: middle;\n",
       "    }\n",
       "\n",
       "    .dataframe tbody tr th {\n",
       "        vertical-align: top;\n",
       "    }\n",
       "\n",
       "    .dataframe thead th {\n",
       "        text-align: right;\n",
       "    }\n",
       "</style>\n",
       "<table border=\"1\" class=\"dataframe\">\n",
       "  <thead>\n",
       "    <tr style=\"text-align: right;\">\n",
       "      <th></th>\n",
       "      <th>PassengerId</th>\n",
       "      <th>Survived</th>\n",
       "      <th>Pclass</th>\n",
       "      <th>Name</th>\n",
       "      <th>Sex</th>\n",
       "      <th>Age</th>\n",
       "      <th>SibSp</th>\n",
       "      <th>Parch</th>\n",
       "      <th>Ticket</th>\n",
       "      <th>Fare</th>\n",
       "      <th>Cabin</th>\n",
       "      <th>Embarked</th>\n",
       "    </tr>\n",
       "  </thead>\n",
       "  <tbody>\n",
       "    <tr>\n",
       "      <th>0</th>\n",
       "      <td>1</td>\n",
       "      <td>0</td>\n",
       "      <td>3</td>\n",
       "      <td>Braund, Mr. Owen Harris</td>\n",
       "      <td>male</td>\n",
       "      <td>22.0</td>\n",
       "      <td>1</td>\n",
       "      <td>0</td>\n",
       "      <td>A/5 21171</td>\n",
       "      <td>7.2500</td>\n",
       "      <td>NaN</td>\n",
       "      <td>S</td>\n",
       "    </tr>\n",
       "    <tr>\n",
       "      <th>1</th>\n",
       "      <td>2</td>\n",
       "      <td>1</td>\n",
       "      <td>1</td>\n",
       "      <td>Cumings, Mrs. John Bradley (Florence Briggs Th...</td>\n",
       "      <td>female</td>\n",
       "      <td>38.0</td>\n",
       "      <td>1</td>\n",
       "      <td>0</td>\n",
       "      <td>PC 17599</td>\n",
       "      <td>71.2833</td>\n",
       "      <td>C85</td>\n",
       "      <td>C</td>\n",
       "    </tr>\n",
       "    <tr>\n",
       "      <th>2</th>\n",
       "      <td>3</td>\n",
       "      <td>1</td>\n",
       "      <td>3</td>\n",
       "      <td>Heikkinen, Miss. Laina</td>\n",
       "      <td>female</td>\n",
       "      <td>26.0</td>\n",
       "      <td>0</td>\n",
       "      <td>0</td>\n",
       "      <td>STON/O2. 3101282</td>\n",
       "      <td>7.9250</td>\n",
       "      <td>NaN</td>\n",
       "      <td>S</td>\n",
       "    </tr>\n",
       "    <tr>\n",
       "      <th>3</th>\n",
       "      <td>4</td>\n",
       "      <td>1</td>\n",
       "      <td>1</td>\n",
       "      <td>Futrelle, Mrs. Jacques Heath (Lily May Peel)</td>\n",
       "      <td>female</td>\n",
       "      <td>35.0</td>\n",
       "      <td>1</td>\n",
       "      <td>0</td>\n",
       "      <td>113803</td>\n",
       "      <td>53.1000</td>\n",
       "      <td>C123</td>\n",
       "      <td>S</td>\n",
       "    </tr>\n",
       "    <tr>\n",
       "      <th>4</th>\n",
       "      <td>5</td>\n",
       "      <td>0</td>\n",
       "      <td>3</td>\n",
       "      <td>Allen, Mr. William Henry</td>\n",
       "      <td>male</td>\n",
       "      <td>35.0</td>\n",
       "      <td>0</td>\n",
       "      <td>0</td>\n",
       "      <td>373450</td>\n",
       "      <td>8.0500</td>\n",
       "      <td>NaN</td>\n",
       "      <td>S</td>\n",
       "    </tr>\n",
       "  </tbody>\n",
       "</table>\n",
       "</div>"
      ],
      "text/plain": [
       "   PassengerId  Survived  Pclass  \\\n",
       "0            1         0       3   \n",
       "1            2         1       1   \n",
       "2            3         1       3   \n",
       "3            4         1       1   \n",
       "4            5         0       3   \n",
       "\n",
       "                                                Name     Sex   Age  SibSp  \\\n",
       "0                            Braund, Mr. Owen Harris    male  22.0      1   \n",
       "1  Cumings, Mrs. John Bradley (Florence Briggs Th...  female  38.0      1   \n",
       "2                             Heikkinen, Miss. Laina  female  26.0      0   \n",
       "3       Futrelle, Mrs. Jacques Heath (Lily May Peel)  female  35.0      1   \n",
       "4                           Allen, Mr. William Henry    male  35.0      0   \n",
       "\n",
       "   Parch            Ticket     Fare Cabin Embarked  \n",
       "0      0         A/5 21171   7.2500   NaN        S  \n",
       "1      0          PC 17599  71.2833   C85        C  \n",
       "2      0  STON/O2. 3101282   7.9250   NaN        S  \n",
       "3      0            113803  53.1000  C123        S  \n",
       "4      0            373450   8.0500   NaN        S  "
      ]
     },
     "execution_count": 17,
     "metadata": {},
     "output_type": "execute_result"
    }
   ],
   "source": [
    "titanic = pd.read_csv('titanic.csv')\n",
    "titanic.head() # по умолчанию показывает первые 5 строк; можно в скобочках указать другое число"
   ]
  },
  {
   "cell_type": "code",
   "execution_count": 18,
   "id": "22c4c5f8-fbdb-432c-8513-301ee220581a",
   "metadata": {},
   "outputs": [
    {
     "data": {
      "text/html": [
       "<div>\n",
       "<style scoped>\n",
       "    .dataframe tbody tr th:only-of-type {\n",
       "        vertical-align: middle;\n",
       "    }\n",
       "\n",
       "    .dataframe tbody tr th {\n",
       "        vertical-align: top;\n",
       "    }\n",
       "\n",
       "    .dataframe thead th {\n",
       "        text-align: right;\n",
       "    }\n",
       "</style>\n",
       "<table border=\"1\" class=\"dataframe\">\n",
       "  <thead>\n",
       "    <tr style=\"text-align: right;\">\n",
       "      <th></th>\n",
       "      <th>PassengerId</th>\n",
       "      <th>Survived</th>\n",
       "      <th>Pclass</th>\n",
       "      <th>Name</th>\n",
       "      <th>Sex</th>\n",
       "      <th>Age</th>\n",
       "      <th>SibSp</th>\n",
       "      <th>Parch</th>\n",
       "      <th>Ticket</th>\n",
       "      <th>Fare</th>\n",
       "      <th>Cabin</th>\n",
       "      <th>Embarked</th>\n",
       "    </tr>\n",
       "  </thead>\n",
       "  <tbody>\n",
       "    <tr>\n",
       "      <th>886</th>\n",
       "      <td>887</td>\n",
       "      <td>0</td>\n",
       "      <td>2</td>\n",
       "      <td>Montvila, Rev. Juozas</td>\n",
       "      <td>male</td>\n",
       "      <td>27.0</td>\n",
       "      <td>0</td>\n",
       "      <td>0</td>\n",
       "      <td>211536</td>\n",
       "      <td>13.00</td>\n",
       "      <td>NaN</td>\n",
       "      <td>S</td>\n",
       "    </tr>\n",
       "    <tr>\n",
       "      <th>887</th>\n",
       "      <td>888</td>\n",
       "      <td>1</td>\n",
       "      <td>1</td>\n",
       "      <td>Graham, Miss. Margaret Edith</td>\n",
       "      <td>female</td>\n",
       "      <td>19.0</td>\n",
       "      <td>0</td>\n",
       "      <td>0</td>\n",
       "      <td>112053</td>\n",
       "      <td>30.00</td>\n",
       "      <td>B42</td>\n",
       "      <td>S</td>\n",
       "    </tr>\n",
       "    <tr>\n",
       "      <th>888</th>\n",
       "      <td>889</td>\n",
       "      <td>0</td>\n",
       "      <td>3</td>\n",
       "      <td>Johnston, Miss. Catherine Helen \"Carrie\"</td>\n",
       "      <td>female</td>\n",
       "      <td>NaN</td>\n",
       "      <td>1</td>\n",
       "      <td>2</td>\n",
       "      <td>W./C. 6607</td>\n",
       "      <td>23.45</td>\n",
       "      <td>NaN</td>\n",
       "      <td>S</td>\n",
       "    </tr>\n",
       "    <tr>\n",
       "      <th>889</th>\n",
       "      <td>890</td>\n",
       "      <td>1</td>\n",
       "      <td>1</td>\n",
       "      <td>Behr, Mr. Karl Howell</td>\n",
       "      <td>male</td>\n",
       "      <td>26.0</td>\n",
       "      <td>0</td>\n",
       "      <td>0</td>\n",
       "      <td>111369</td>\n",
       "      <td>30.00</td>\n",
       "      <td>C148</td>\n",
       "      <td>C</td>\n",
       "    </tr>\n",
       "    <tr>\n",
       "      <th>890</th>\n",
       "      <td>891</td>\n",
       "      <td>0</td>\n",
       "      <td>3</td>\n",
       "      <td>Dooley, Mr. Patrick</td>\n",
       "      <td>male</td>\n",
       "      <td>32.0</td>\n",
       "      <td>0</td>\n",
       "      <td>0</td>\n",
       "      <td>370376</td>\n",
       "      <td>7.75</td>\n",
       "      <td>NaN</td>\n",
       "      <td>Q</td>\n",
       "    </tr>\n",
       "  </tbody>\n",
       "</table>\n",
       "</div>"
      ],
      "text/plain": [
       "     PassengerId  Survived  Pclass                                      Name  \\\n",
       "886          887         0       2                     Montvila, Rev. Juozas   \n",
       "887          888         1       1              Graham, Miss. Margaret Edith   \n",
       "888          889         0       3  Johnston, Miss. Catherine Helen \"Carrie\"   \n",
       "889          890         1       1                     Behr, Mr. Karl Howell   \n",
       "890          891         0       3                       Dooley, Mr. Patrick   \n",
       "\n",
       "        Sex   Age  SibSp  Parch      Ticket   Fare Cabin Embarked  \n",
       "886    male  27.0      0      0      211536  13.00   NaN        S  \n",
       "887  female  19.0      0      0      112053  30.00   B42        S  \n",
       "888  female   NaN      1      2  W./C. 6607  23.45   NaN        S  \n",
       "889    male  26.0      0      0      111369  30.00  C148        C  \n",
       "890    male  32.0      0      0      370376   7.75   NaN        Q  "
      ]
     },
     "execution_count": 18,
     "metadata": {},
     "output_type": "execute_result"
    }
   ],
   "source": [
    "titanic.tail()"
   ]
  },
  {
   "cell_type": "code",
   "execution_count": 19,
   "id": "45fcf3ee-d66e-4425-851b-afda54ffff91",
   "metadata": {},
   "outputs": [
    {
     "data": {
      "text/html": [
       "<div>\n",
       "<style scoped>\n",
       "    .dataframe tbody tr th:only-of-type {\n",
       "        vertical-align: middle;\n",
       "    }\n",
       "\n",
       "    .dataframe tbody tr th {\n",
       "        vertical-align: top;\n",
       "    }\n",
       "\n",
       "    .dataframe thead th {\n",
       "        text-align: right;\n",
       "    }\n",
       "</style>\n",
       "<table border=\"1\" class=\"dataframe\">\n",
       "  <thead>\n",
       "    <tr style=\"text-align: right;\">\n",
       "      <th></th>\n",
       "      <th>PassengerId</th>\n",
       "      <th>Survived</th>\n",
       "      <th>Pclass</th>\n",
       "      <th>Name</th>\n",
       "      <th>Sex</th>\n",
       "      <th>Age</th>\n",
       "      <th>SibSp</th>\n",
       "      <th>Parch</th>\n",
       "      <th>Ticket</th>\n",
       "      <th>Fare</th>\n",
       "      <th>Cabin</th>\n",
       "      <th>Embarked</th>\n",
       "    </tr>\n",
       "  </thead>\n",
       "  <tbody>\n",
       "    <tr>\n",
       "      <th>417</th>\n",
       "      <td>418</td>\n",
       "      <td>1</td>\n",
       "      <td>2</td>\n",
       "      <td>Silven, Miss. Lyyli Karoliina</td>\n",
       "      <td>female</td>\n",
       "      <td>18.0</td>\n",
       "      <td>0</td>\n",
       "      <td>2</td>\n",
       "      <td>250652</td>\n",
       "      <td>13.000</td>\n",
       "      <td>NaN</td>\n",
       "      <td>S</td>\n",
       "    </tr>\n",
       "    <tr>\n",
       "      <th>104</th>\n",
       "      <td>105</td>\n",
       "      <td>0</td>\n",
       "      <td>3</td>\n",
       "      <td>Gustafsson, Mr. Anders Vilhelm</td>\n",
       "      <td>male</td>\n",
       "      <td>37.0</td>\n",
       "      <td>2</td>\n",
       "      <td>0</td>\n",
       "      <td>3101276</td>\n",
       "      <td>7.925</td>\n",
       "      <td>NaN</td>\n",
       "      <td>S</td>\n",
       "    </tr>\n",
       "    <tr>\n",
       "      <th>45</th>\n",
       "      <td>46</td>\n",
       "      <td>0</td>\n",
       "      <td>3</td>\n",
       "      <td>Rogers, Mr. William John</td>\n",
       "      <td>male</td>\n",
       "      <td>NaN</td>\n",
       "      <td>0</td>\n",
       "      <td>0</td>\n",
       "      <td>S.C./A.4. 23567</td>\n",
       "      <td>8.050</td>\n",
       "      <td>NaN</td>\n",
       "      <td>S</td>\n",
       "    </tr>\n",
       "  </tbody>\n",
       "</table>\n",
       "</div>"
      ],
      "text/plain": [
       "     PassengerId  Survived  Pclass                            Name     Sex  \\\n",
       "417          418         1       2   Silven, Miss. Lyyli Karoliina  female   \n",
       "104          105         0       3  Gustafsson, Mr. Anders Vilhelm    male   \n",
       "45            46         0       3        Rogers, Mr. William John    male   \n",
       "\n",
       "      Age  SibSp  Parch           Ticket    Fare Cabin Embarked  \n",
       "417  18.0      0      2           250652  13.000   NaN        S  \n",
       "104  37.0      2      0          3101276   7.925   NaN        S  \n",
       "45    NaN      0      0  S.C./A.4. 23567   8.050   NaN        S  "
      ]
     },
     "execution_count": 19,
     "metadata": {},
     "output_type": "execute_result"
    }
   ],
   "source": [
    "titanic.sample(3)  # по умолчанию показывает одну случайную строку"
   ]
  },
  {
   "cell_type": "markdown",
   "id": "4b12bd39-e2bd-4b46-9399-aa1c1360d7e0",
   "metadata": {},
   "source": [
    "Также можно посмотреть отдельно индексы и отдельно список имен колонок для таблицы:"
   ]
  },
  {
   "cell_type": "code",
   "execution_count": 20,
   "id": "7f6f3a60-8870-4b38-a985-52c56191f8ee",
   "metadata": {},
   "outputs": [
    {
     "data": {
      "text/plain": [
       "RangeIndex(start=0, stop=891, step=1)"
      ]
     },
     "execution_count": 20,
     "metadata": {},
     "output_type": "execute_result"
    }
   ],
   "source": [
    "titanic.index"
   ]
  },
  {
   "cell_type": "code",
   "execution_count": 21,
   "id": "108da249-ad90-46ec-91f1-db1cec267ad4",
   "metadata": {},
   "outputs": [
    {
     "data": {
      "text/plain": [
       "Index(['l1', 'l2'], dtype='object')"
      ]
     },
     "execution_count": 21,
     "metadata": {},
     "output_type": "execute_result"
    }
   ],
   "source": [
    "df4.index"
   ]
  },
  {
   "cell_type": "code",
   "execution_count": 22,
   "id": "78559ecf-1e3f-4424-8cd3-84f19b3ae04c",
   "metadata": {},
   "outputs": [
    {
     "data": {
      "text/plain": [
       "Index(['PassengerId', 'Survived', 'Pclass', 'Name', 'Sex', 'Age', 'SibSp',\n",
       "       'Parch', 'Ticket', 'Fare', 'Cabin', 'Embarked'],\n",
       "      dtype='object')"
      ]
     },
     "execution_count": 22,
     "metadata": {},
     "output_type": "execute_result"
    }
   ],
   "source": [
    "titanic.columns"
   ]
  },
  {
   "cell_type": "markdown",
   "id": "d60fa0f1-2da8-4820-a741-45d9a728d968",
   "metadata": {},
   "source": [
    "Можно сразу попросить pandas описать загруженную табличку, а то еще и немного проанализировать ее за нас:"
   ]
  },
  {
   "cell_type": "code",
   "execution_count": 23,
   "id": "aa53ac02-1920-4c14-ac58-084cb0e58cd3",
   "metadata": {},
   "outputs": [
    {
     "name": "stdout",
     "output_type": "stream",
     "text": [
      "<class 'pandas.core.frame.DataFrame'>\n",
      "RangeIndex: 891 entries, 0 to 890\n",
      "Data columns (total 12 columns):\n",
      " #   Column       Non-Null Count  Dtype  \n",
      "---  ------       --------------  -----  \n",
      " 0   PassengerId  891 non-null    int64  \n",
      " 1   Survived     891 non-null    int64  \n",
      " 2   Pclass       891 non-null    int64  \n",
      " 3   Name         891 non-null    object \n",
      " 4   Sex          891 non-null    object \n",
      " 5   Age          714 non-null    float64\n",
      " 6   SibSp        891 non-null    int64  \n",
      " 7   Parch        891 non-null    int64  \n",
      " 8   Ticket       891 non-null    object \n",
      " 9   Fare         891 non-null    float64\n",
      " 10  Cabin        204 non-null    object \n",
      " 11  Embarked     889 non-null    object \n",
      "dtypes: float64(2), int64(5), object(5)\n",
      "memory usage: 83.7+ KB\n"
     ]
    }
   ],
   "source": [
    "titanic.info()"
   ]
  },
  {
   "cell_type": "markdown",
   "id": "ff0c33b5-4382-4e8d-b414-3462e65d805b",
   "metadata": {},
   "source": [
    "Метод info() выведет список всех колонок, посчитает, сколько в них непустых значений, и укажет, какого типа данные в них лежат. object - это обычно строка. "
   ]
  },
  {
   "cell_type": "code",
   "execution_count": 24,
   "id": "222f4164-871d-4464-a15f-cadcac7d9b73",
   "metadata": {},
   "outputs": [
    {
     "data": {
      "text/html": [
       "<div>\n",
       "<style scoped>\n",
       "    .dataframe tbody tr th:only-of-type {\n",
       "        vertical-align: middle;\n",
       "    }\n",
       "\n",
       "    .dataframe tbody tr th {\n",
       "        vertical-align: top;\n",
       "    }\n",
       "\n",
       "    .dataframe thead th {\n",
       "        text-align: right;\n",
       "    }\n",
       "</style>\n",
       "<table border=\"1\" class=\"dataframe\">\n",
       "  <thead>\n",
       "    <tr style=\"text-align: right;\">\n",
       "      <th></th>\n",
       "      <th>PassengerId</th>\n",
       "      <th>Survived</th>\n",
       "      <th>Pclass</th>\n",
       "      <th>Age</th>\n",
       "      <th>SibSp</th>\n",
       "      <th>Parch</th>\n",
       "      <th>Fare</th>\n",
       "    </tr>\n",
       "  </thead>\n",
       "  <tbody>\n",
       "    <tr>\n",
       "      <th>count</th>\n",
       "      <td>891.000000</td>\n",
       "      <td>891.000000</td>\n",
       "      <td>891.000000</td>\n",
       "      <td>714.000000</td>\n",
       "      <td>891.000000</td>\n",
       "      <td>891.000000</td>\n",
       "      <td>891.000000</td>\n",
       "    </tr>\n",
       "    <tr>\n",
       "      <th>mean</th>\n",
       "      <td>446.000000</td>\n",
       "      <td>0.383838</td>\n",
       "      <td>2.308642</td>\n",
       "      <td>29.699118</td>\n",
       "      <td>0.523008</td>\n",
       "      <td>0.381594</td>\n",
       "      <td>32.204208</td>\n",
       "    </tr>\n",
       "    <tr>\n",
       "      <th>std</th>\n",
       "      <td>257.353842</td>\n",
       "      <td>0.486592</td>\n",
       "      <td>0.836071</td>\n",
       "      <td>14.526497</td>\n",
       "      <td>1.102743</td>\n",
       "      <td>0.806057</td>\n",
       "      <td>49.693429</td>\n",
       "    </tr>\n",
       "    <tr>\n",
       "      <th>min</th>\n",
       "      <td>1.000000</td>\n",
       "      <td>0.000000</td>\n",
       "      <td>1.000000</td>\n",
       "      <td>0.420000</td>\n",
       "      <td>0.000000</td>\n",
       "      <td>0.000000</td>\n",
       "      <td>0.000000</td>\n",
       "    </tr>\n",
       "    <tr>\n",
       "      <th>25%</th>\n",
       "      <td>223.500000</td>\n",
       "      <td>0.000000</td>\n",
       "      <td>2.000000</td>\n",
       "      <td>20.125000</td>\n",
       "      <td>0.000000</td>\n",
       "      <td>0.000000</td>\n",
       "      <td>7.910400</td>\n",
       "    </tr>\n",
       "    <tr>\n",
       "      <th>50%</th>\n",
       "      <td>446.000000</td>\n",
       "      <td>0.000000</td>\n",
       "      <td>3.000000</td>\n",
       "      <td>28.000000</td>\n",
       "      <td>0.000000</td>\n",
       "      <td>0.000000</td>\n",
       "      <td>14.454200</td>\n",
       "    </tr>\n",
       "    <tr>\n",
       "      <th>75%</th>\n",
       "      <td>668.500000</td>\n",
       "      <td>1.000000</td>\n",
       "      <td>3.000000</td>\n",
       "      <td>38.000000</td>\n",
       "      <td>1.000000</td>\n",
       "      <td>0.000000</td>\n",
       "      <td>31.000000</td>\n",
       "    </tr>\n",
       "    <tr>\n",
       "      <th>max</th>\n",
       "      <td>891.000000</td>\n",
       "      <td>1.000000</td>\n",
       "      <td>3.000000</td>\n",
       "      <td>80.000000</td>\n",
       "      <td>8.000000</td>\n",
       "      <td>6.000000</td>\n",
       "      <td>512.329200</td>\n",
       "    </tr>\n",
       "  </tbody>\n",
       "</table>\n",
       "</div>"
      ],
      "text/plain": [
       "       PassengerId    Survived      Pclass         Age       SibSp  \\\n",
       "count   891.000000  891.000000  891.000000  714.000000  891.000000   \n",
       "mean    446.000000    0.383838    2.308642   29.699118    0.523008   \n",
       "std     257.353842    0.486592    0.836071   14.526497    1.102743   \n",
       "min       1.000000    0.000000    1.000000    0.420000    0.000000   \n",
       "25%     223.500000    0.000000    2.000000   20.125000    0.000000   \n",
       "50%     446.000000    0.000000    3.000000   28.000000    0.000000   \n",
       "75%     668.500000    1.000000    3.000000   38.000000    1.000000   \n",
       "max     891.000000    1.000000    3.000000   80.000000    8.000000   \n",
       "\n",
       "            Parch        Fare  \n",
       "count  891.000000  891.000000  \n",
       "mean     0.381594   32.204208  \n",
       "std      0.806057   49.693429  \n",
       "min      0.000000    0.000000  \n",
       "25%      0.000000    7.910400  \n",
       "50%      0.000000   14.454200  \n",
       "75%      0.000000   31.000000  \n",
       "max      6.000000  512.329200  "
      ]
     },
     "execution_count": 24,
     "metadata": {},
     "output_type": "execute_result"
    }
   ],
   "source": [
    "titanic.describe()"
   ]
  },
  {
   "cell_type": "markdown",
   "id": "a454e9ce-de03-48f7-950c-ff7b82db0b0a",
   "metadata": {},
   "source": [
    "Метод describe() выведет для каждой из цифровых колонок таблички число непустых значений, их среднее арифметическое, [стандартное отклонение](https://ru.wikipedia.org/wiki/%D0%A1%D1%80%D0%B5%D0%B4%D0%BD%D0%B5%D0%BA%D0%B2%D0%B0%D0%B4%D1%80%D0%B0%D1%82%D0%B8%D1%87%D0%B5%D1%81%D0%BA%D0%BE%D0%B5_%D0%BE%D1%82%D0%BA%D0%BB%D0%BE%D0%BD%D0%B5%D0%BD%D0%B8%D0%B5), самое маленькое значение, [квантили](https://ru.wikipedia.org/wiki/%D0%9A%D0%B2%D0%B0%D0%BD%D1%82%D0%B8%D0%BB%D1%8C#%D0%9C%D0%B5%D0%B4%D0%B8%D0%B0%D0%BD%D0%B0_%D0%B8_%D0%BA%D0%B2%D0%B0%D1%80%D1%82%D0%B8%D0%BB%D0%B8) и максимальное значение. \n",
    "\n",
    "(Все эти термины статистики с Лагутиным будете разбирать в след. семестре). "
   ]
  },
  {
   "cell_type": "markdown",
   "id": "7a63520c-db06-4ec9-ba65-71f711e6c6f1",
   "metadata": {},
   "source": [
    "Таблички в pandas особенно хороши тем, что можно брать только какие-то их части, как в excel с фильтром, при этом сама библиотека очень экономит оперативную память; можно с помощью условий заставить pandas показать только те строчки, значения в которых удовлетворяют нашему условию. Например, хотим получить только тех пассажиров, которые выжили (Survived = 1) и при этом плыли третьим классом (Pclass):"
   ]
  },
  {
   "cell_type": "code",
   "execution_count": 25,
   "id": "67c5f42d-e40d-46d8-b8b8-51900b2e6921",
   "metadata": {},
   "outputs": [
    {
     "data": {
      "text/html": [
       "<div>\n",
       "<style scoped>\n",
       "    .dataframe tbody tr th:only-of-type {\n",
       "        vertical-align: middle;\n",
       "    }\n",
       "\n",
       "    .dataframe tbody tr th {\n",
       "        vertical-align: top;\n",
       "    }\n",
       "\n",
       "    .dataframe thead th {\n",
       "        text-align: right;\n",
       "    }\n",
       "</style>\n",
       "<table border=\"1\" class=\"dataframe\">\n",
       "  <thead>\n",
       "    <tr style=\"text-align: right;\">\n",
       "      <th></th>\n",
       "      <th>PassengerId</th>\n",
       "      <th>Survived</th>\n",
       "      <th>Pclass</th>\n",
       "      <th>Name</th>\n",
       "      <th>Sex</th>\n",
       "      <th>Age</th>\n",
       "      <th>SibSp</th>\n",
       "      <th>Parch</th>\n",
       "      <th>Ticket</th>\n",
       "      <th>Fare</th>\n",
       "      <th>Cabin</th>\n",
       "      <th>Embarked</th>\n",
       "    </tr>\n",
       "  </thead>\n",
       "  <tbody>\n",
       "    <tr>\n",
       "      <th>2</th>\n",
       "      <td>3</td>\n",
       "      <td>1</td>\n",
       "      <td>3</td>\n",
       "      <td>Heikkinen, Miss. Laina</td>\n",
       "      <td>female</td>\n",
       "      <td>26.0</td>\n",
       "      <td>0</td>\n",
       "      <td>0</td>\n",
       "      <td>STON/O2. 3101282</td>\n",
       "      <td>7.9250</td>\n",
       "      <td>NaN</td>\n",
       "      <td>S</td>\n",
       "    </tr>\n",
       "    <tr>\n",
       "      <th>8</th>\n",
       "      <td>9</td>\n",
       "      <td>1</td>\n",
       "      <td>3</td>\n",
       "      <td>Johnson, Mrs. Oscar W (Elisabeth Vilhelmina Berg)</td>\n",
       "      <td>female</td>\n",
       "      <td>27.0</td>\n",
       "      <td>0</td>\n",
       "      <td>2</td>\n",
       "      <td>347742</td>\n",
       "      <td>11.1333</td>\n",
       "      <td>NaN</td>\n",
       "      <td>S</td>\n",
       "    </tr>\n",
       "    <tr>\n",
       "      <th>10</th>\n",
       "      <td>11</td>\n",
       "      <td>1</td>\n",
       "      <td>3</td>\n",
       "      <td>Sandstrom, Miss. Marguerite Rut</td>\n",
       "      <td>female</td>\n",
       "      <td>4.0</td>\n",
       "      <td>1</td>\n",
       "      <td>1</td>\n",
       "      <td>PP 9549</td>\n",
       "      <td>16.7000</td>\n",
       "      <td>G6</td>\n",
       "      <td>S</td>\n",
       "    </tr>\n",
       "    <tr>\n",
       "      <th>19</th>\n",
       "      <td>20</td>\n",
       "      <td>1</td>\n",
       "      <td>3</td>\n",
       "      <td>Masselmani, Mrs. Fatima</td>\n",
       "      <td>female</td>\n",
       "      <td>NaN</td>\n",
       "      <td>0</td>\n",
       "      <td>0</td>\n",
       "      <td>2649</td>\n",
       "      <td>7.2250</td>\n",
       "      <td>NaN</td>\n",
       "      <td>C</td>\n",
       "    </tr>\n",
       "    <tr>\n",
       "      <th>22</th>\n",
       "      <td>23</td>\n",
       "      <td>1</td>\n",
       "      <td>3</td>\n",
       "      <td>McGowan, Miss. Anna \"Annie\"</td>\n",
       "      <td>female</td>\n",
       "      <td>15.0</td>\n",
       "      <td>0</td>\n",
       "      <td>0</td>\n",
       "      <td>330923</td>\n",
       "      <td>8.0292</td>\n",
       "      <td>NaN</td>\n",
       "      <td>Q</td>\n",
       "    </tr>\n",
       "    <tr>\n",
       "      <th>...</th>\n",
       "      <td>...</td>\n",
       "      <td>...</td>\n",
       "      <td>...</td>\n",
       "      <td>...</td>\n",
       "      <td>...</td>\n",
       "      <td>...</td>\n",
       "      <td>...</td>\n",
       "      <td>...</td>\n",
       "      <td>...</td>\n",
       "      <td>...</td>\n",
       "      <td>...</td>\n",
       "      <td>...</td>\n",
       "    </tr>\n",
       "    <tr>\n",
       "      <th>838</th>\n",
       "      <td>839</td>\n",
       "      <td>1</td>\n",
       "      <td>3</td>\n",
       "      <td>Chip, Mr. Chang</td>\n",
       "      <td>male</td>\n",
       "      <td>32.0</td>\n",
       "      <td>0</td>\n",
       "      <td>0</td>\n",
       "      <td>1601</td>\n",
       "      <td>56.4958</td>\n",
       "      <td>NaN</td>\n",
       "      <td>S</td>\n",
       "    </tr>\n",
       "    <tr>\n",
       "      <th>855</th>\n",
       "      <td>856</td>\n",
       "      <td>1</td>\n",
       "      <td>3</td>\n",
       "      <td>Aks, Mrs. Sam (Leah Rosen)</td>\n",
       "      <td>female</td>\n",
       "      <td>18.0</td>\n",
       "      <td>0</td>\n",
       "      <td>1</td>\n",
       "      <td>392091</td>\n",
       "      <td>9.3500</td>\n",
       "      <td>NaN</td>\n",
       "      <td>S</td>\n",
       "    </tr>\n",
       "    <tr>\n",
       "      <th>858</th>\n",
       "      <td>859</td>\n",
       "      <td>1</td>\n",
       "      <td>3</td>\n",
       "      <td>Baclini, Mrs. Solomon (Latifa Qurban)</td>\n",
       "      <td>female</td>\n",
       "      <td>24.0</td>\n",
       "      <td>0</td>\n",
       "      <td>3</td>\n",
       "      <td>2666</td>\n",
       "      <td>19.2583</td>\n",
       "      <td>NaN</td>\n",
       "      <td>C</td>\n",
       "    </tr>\n",
       "    <tr>\n",
       "      <th>869</th>\n",
       "      <td>870</td>\n",
       "      <td>1</td>\n",
       "      <td>3</td>\n",
       "      <td>Johnson, Master. Harold Theodor</td>\n",
       "      <td>male</td>\n",
       "      <td>4.0</td>\n",
       "      <td>1</td>\n",
       "      <td>1</td>\n",
       "      <td>347742</td>\n",
       "      <td>11.1333</td>\n",
       "      <td>NaN</td>\n",
       "      <td>S</td>\n",
       "    </tr>\n",
       "    <tr>\n",
       "      <th>875</th>\n",
       "      <td>876</td>\n",
       "      <td>1</td>\n",
       "      <td>3</td>\n",
       "      <td>Najib, Miss. Adele Kiamie \"Jane\"</td>\n",
       "      <td>female</td>\n",
       "      <td>15.0</td>\n",
       "      <td>0</td>\n",
       "      <td>0</td>\n",
       "      <td>2667</td>\n",
       "      <td>7.2250</td>\n",
       "      <td>NaN</td>\n",
       "      <td>C</td>\n",
       "    </tr>\n",
       "  </tbody>\n",
       "</table>\n",
       "<p>119 rows × 12 columns</p>\n",
       "</div>"
      ],
      "text/plain": [
       "     PassengerId  Survived  Pclass  \\\n",
       "2              3         1       3   \n",
       "8              9         1       3   \n",
       "10            11         1       3   \n",
       "19            20         1       3   \n",
       "22            23         1       3   \n",
       "..           ...       ...     ...   \n",
       "838          839         1       3   \n",
       "855          856         1       3   \n",
       "858          859         1       3   \n",
       "869          870         1       3   \n",
       "875          876         1       3   \n",
       "\n",
       "                                                  Name     Sex   Age  SibSp  \\\n",
       "2                               Heikkinen, Miss. Laina  female  26.0      0   \n",
       "8    Johnson, Mrs. Oscar W (Elisabeth Vilhelmina Berg)  female  27.0      0   \n",
       "10                     Sandstrom, Miss. Marguerite Rut  female   4.0      1   \n",
       "19                             Masselmani, Mrs. Fatima  female   NaN      0   \n",
       "22                         McGowan, Miss. Anna \"Annie\"  female  15.0      0   \n",
       "..                                                 ...     ...   ...    ...   \n",
       "838                                    Chip, Mr. Chang    male  32.0      0   \n",
       "855                         Aks, Mrs. Sam (Leah Rosen)  female  18.0      0   \n",
       "858              Baclini, Mrs. Solomon (Latifa Qurban)  female  24.0      0   \n",
       "869                    Johnson, Master. Harold Theodor    male   4.0      1   \n",
       "875                   Najib, Miss. Adele Kiamie \"Jane\"  female  15.0      0   \n",
       "\n",
       "     Parch            Ticket     Fare Cabin Embarked  \n",
       "2        0  STON/O2. 3101282   7.9250   NaN        S  \n",
       "8        2            347742  11.1333   NaN        S  \n",
       "10       1           PP 9549  16.7000    G6        S  \n",
       "19       0              2649   7.2250   NaN        C  \n",
       "22       0            330923   8.0292   NaN        Q  \n",
       "..     ...               ...      ...   ...      ...  \n",
       "838      0              1601  56.4958   NaN        S  \n",
       "855      1            392091   9.3500   NaN        S  \n",
       "858      3              2666  19.2583   NaN        C  \n",
       "869      1            347742  11.1333   NaN        S  \n",
       "875      0              2667   7.2250   NaN        C  \n",
       "\n",
       "[119 rows x 12 columns]"
      ]
     },
     "execution_count": 25,
     "metadata": {},
     "output_type": "execute_result"
    }
   ],
   "source": [
    "titanic[(titanic.Survived == 1) & (titanic.Pclass == 3)]"
   ]
  },
  {
   "cell_type": "markdown",
   "id": "09ff9b1d-fd6b-438c-95f2-f5d7673a94e5",
   "metadata": {},
   "source": [
    "Получим в результате такую же табличку, которую можно будет сохранить в отдельную переменную при желании и работать с ней как хотим. Кстати, у любой таблички pandas можно посмотреть количество ее строк с помощью самой обычной функции len(). "
   ]
  },
  {
   "cell_type": "markdown",
   "id": "56d09254-8a2c-4f1c-8f38-7c98dc31fca7",
   "metadata": {},
   "source": [
    "В табличках могут быть пропущенные значения ячеек: когда в ячейке ничего не заполнено. Можно проверить, есть ли в нашей таблице такие значения, если использовать следующую комбинацию:"
   ]
  },
  {
   "cell_type": "code",
   "execution_count": 26,
   "id": "9d0b01ae-b5d3-4e20-9ee7-d0450ccd4f1a",
   "metadata": {},
   "outputs": [
    {
     "data": {
      "text/plain": [
       "PassengerId    False\n",
       "Survived       False\n",
       "Pclass         False\n",
       "Name           False\n",
       "Sex            False\n",
       "Age             True\n",
       "SibSp          False\n",
       "Parch          False\n",
       "Ticket         False\n",
       "Fare           False\n",
       "Cabin           True\n",
       "Embarked        True\n",
       "dtype: bool"
      ]
     },
     "execution_count": 26,
     "metadata": {},
     "output_type": "execute_result"
    }
   ],
   "source": [
    "titanic.isna().any()"
   ]
  },
  {
   "cell_type": "markdown",
   "id": "a8e675fb-0387-44d4-9fff-9e21bf7327d1",
   "metadata": {},
   "source": [
    "Метод isna() возвращает True, если есть пропуск, а any() возвращает True, если хотя бы одна ячейка при проверке isna() дала True. Видим, что не у всех указаны возраст, кабина и какое-то значение посадки. "
   ]
  },
  {
   "cell_type": "markdown",
   "id": "8e260407-431b-40fd-8014-728f5e4fb606",
   "metadata": {},
   "source": [
    "Можно также посмотреть уникальные значения для любого столбца таблицы, двумя способами:"
   ]
  },
  {
   "cell_type": "code",
   "execution_count": 27,
   "id": "d276f012-427d-4b7e-8337-42bd5b542210",
   "metadata": {},
   "outputs": [
    {
     "name": "stdout",
     "output_type": "stream",
     "text": [
      "{'male', 'female'}\n",
      "['male' 'female']\n"
     ]
    }
   ],
   "source": [
    "print(set(titanic.Sex))\n",
    "print(titanic['Sex'].unique())"
   ]
  },
  {
   "cell_type": "markdown",
   "id": "5a1c2d0a-910d-42d1-8585-342ddee163ca",
   "metadata": {},
   "source": [
    "Также можно отдельно посчитать среднее арифметическое и сумму:"
   ]
  },
  {
   "cell_type": "code",
   "execution_count": 29,
   "id": "b9f749ec-6d01-4e3e-9807-001f830c90ff",
   "metadata": {},
   "outputs": [
    {
     "data": {
      "text/plain": [
       "29.69911764705882"
      ]
     },
     "execution_count": 29,
     "metadata": {},
     "output_type": "execute_result"
    }
   ],
   "source": [
    "titanic.Age.mean()"
   ]
  },
  {
   "cell_type": "code",
   "execution_count": 30,
   "id": "3c589e97-45fd-47f2-981e-fcf47f102981",
   "metadata": {},
   "outputs": [
    {
     "data": {
      "text/plain": [
       "342"
      ]
     },
     "execution_count": 30,
     "metadata": {},
     "output_type": "execute_result"
    }
   ],
   "source": [
    "titanic.Survived.sum()"
   ]
  },
  {
   "cell_type": "markdown",
   "id": "03958425-c565-4d51-9edd-01bcd8a9b446",
   "metadata": {},
   "source": [
    "Эти методы можно применять ко всей таблице, но если в ней есть не только числовые данные, лучше не надо, используйте тогда describe()."
   ]
  },
  {
   "cell_type": "markdown",
   "id": "cd572be6-601e-43a6-a272-f378c4550c6d",
   "metadata": {},
   "source": [
    "Как можно изменять таблички?\n",
    "\n",
    "Во-первых, можно чистить табличку от пропусков:"
   ]
  },
  {
   "cell_type": "code",
   "execution_count": 31,
   "id": "2d312e43-c005-436e-a3ad-789363de251d",
   "metadata": {},
   "outputs": [
    {
     "data": {
      "text/html": [
       "<div>\n",
       "<style scoped>\n",
       "    .dataframe tbody tr th:only-of-type {\n",
       "        vertical-align: middle;\n",
       "    }\n",
       "\n",
       "    .dataframe tbody tr th {\n",
       "        vertical-align: top;\n",
       "    }\n",
       "\n",
       "    .dataframe thead th {\n",
       "        text-align: right;\n",
       "    }\n",
       "</style>\n",
       "<table border=\"1\" class=\"dataframe\">\n",
       "  <thead>\n",
       "    <tr style=\"text-align: right;\">\n",
       "      <th></th>\n",
       "      <th>PassengerId</th>\n",
       "      <th>Survived</th>\n",
       "      <th>Pclass</th>\n",
       "      <th>Name</th>\n",
       "      <th>Sex</th>\n",
       "      <th>Age</th>\n",
       "      <th>SibSp</th>\n",
       "      <th>Parch</th>\n",
       "      <th>Ticket</th>\n",
       "      <th>Fare</th>\n",
       "      <th>Cabin</th>\n",
       "      <th>Embarked</th>\n",
       "    </tr>\n",
       "  </thead>\n",
       "  <tbody>\n",
       "    <tr>\n",
       "      <th>1</th>\n",
       "      <td>2</td>\n",
       "      <td>1</td>\n",
       "      <td>1</td>\n",
       "      <td>Cumings, Mrs. John Bradley (Florence Briggs Th...</td>\n",
       "      <td>female</td>\n",
       "      <td>38.0</td>\n",
       "      <td>1</td>\n",
       "      <td>0</td>\n",
       "      <td>PC 17599</td>\n",
       "      <td>71.2833</td>\n",
       "      <td>C85</td>\n",
       "      <td>C</td>\n",
       "    </tr>\n",
       "    <tr>\n",
       "      <th>3</th>\n",
       "      <td>4</td>\n",
       "      <td>1</td>\n",
       "      <td>1</td>\n",
       "      <td>Futrelle, Mrs. Jacques Heath (Lily May Peel)</td>\n",
       "      <td>female</td>\n",
       "      <td>35.0</td>\n",
       "      <td>1</td>\n",
       "      <td>0</td>\n",
       "      <td>113803</td>\n",
       "      <td>53.1000</td>\n",
       "      <td>C123</td>\n",
       "      <td>S</td>\n",
       "    </tr>\n",
       "    <tr>\n",
       "      <th>6</th>\n",
       "      <td>7</td>\n",
       "      <td>0</td>\n",
       "      <td>1</td>\n",
       "      <td>McCarthy, Mr. Timothy J</td>\n",
       "      <td>male</td>\n",
       "      <td>54.0</td>\n",
       "      <td>0</td>\n",
       "      <td>0</td>\n",
       "      <td>17463</td>\n",
       "      <td>51.8625</td>\n",
       "      <td>E46</td>\n",
       "      <td>S</td>\n",
       "    </tr>\n",
       "    <tr>\n",
       "      <th>10</th>\n",
       "      <td>11</td>\n",
       "      <td>1</td>\n",
       "      <td>3</td>\n",
       "      <td>Sandstrom, Miss. Marguerite Rut</td>\n",
       "      <td>female</td>\n",
       "      <td>4.0</td>\n",
       "      <td>1</td>\n",
       "      <td>1</td>\n",
       "      <td>PP 9549</td>\n",
       "      <td>16.7000</td>\n",
       "      <td>G6</td>\n",
       "      <td>S</td>\n",
       "    </tr>\n",
       "    <tr>\n",
       "      <th>11</th>\n",
       "      <td>12</td>\n",
       "      <td>1</td>\n",
       "      <td>1</td>\n",
       "      <td>Bonnell, Miss. Elizabeth</td>\n",
       "      <td>female</td>\n",
       "      <td>58.0</td>\n",
       "      <td>0</td>\n",
       "      <td>0</td>\n",
       "      <td>113783</td>\n",
       "      <td>26.5500</td>\n",
       "      <td>C103</td>\n",
       "      <td>S</td>\n",
       "    </tr>\n",
       "    <tr>\n",
       "      <th>...</th>\n",
       "      <td>...</td>\n",
       "      <td>...</td>\n",
       "      <td>...</td>\n",
       "      <td>...</td>\n",
       "      <td>...</td>\n",
       "      <td>...</td>\n",
       "      <td>...</td>\n",
       "      <td>...</td>\n",
       "      <td>...</td>\n",
       "      <td>...</td>\n",
       "      <td>...</td>\n",
       "      <td>...</td>\n",
       "    </tr>\n",
       "    <tr>\n",
       "      <th>871</th>\n",
       "      <td>872</td>\n",
       "      <td>1</td>\n",
       "      <td>1</td>\n",
       "      <td>Beckwith, Mrs. Richard Leonard (Sallie Monypeny)</td>\n",
       "      <td>female</td>\n",
       "      <td>47.0</td>\n",
       "      <td>1</td>\n",
       "      <td>1</td>\n",
       "      <td>11751</td>\n",
       "      <td>52.5542</td>\n",
       "      <td>D35</td>\n",
       "      <td>S</td>\n",
       "    </tr>\n",
       "    <tr>\n",
       "      <th>872</th>\n",
       "      <td>873</td>\n",
       "      <td>0</td>\n",
       "      <td>1</td>\n",
       "      <td>Carlsson, Mr. Frans Olof</td>\n",
       "      <td>male</td>\n",
       "      <td>33.0</td>\n",
       "      <td>0</td>\n",
       "      <td>0</td>\n",
       "      <td>695</td>\n",
       "      <td>5.0000</td>\n",
       "      <td>B51 B53 B55</td>\n",
       "      <td>S</td>\n",
       "    </tr>\n",
       "    <tr>\n",
       "      <th>879</th>\n",
       "      <td>880</td>\n",
       "      <td>1</td>\n",
       "      <td>1</td>\n",
       "      <td>Potter, Mrs. Thomas Jr (Lily Alexenia Wilson)</td>\n",
       "      <td>female</td>\n",
       "      <td>56.0</td>\n",
       "      <td>0</td>\n",
       "      <td>1</td>\n",
       "      <td>11767</td>\n",
       "      <td>83.1583</td>\n",
       "      <td>C50</td>\n",
       "      <td>C</td>\n",
       "    </tr>\n",
       "    <tr>\n",
       "      <th>887</th>\n",
       "      <td>888</td>\n",
       "      <td>1</td>\n",
       "      <td>1</td>\n",
       "      <td>Graham, Miss. Margaret Edith</td>\n",
       "      <td>female</td>\n",
       "      <td>19.0</td>\n",
       "      <td>0</td>\n",
       "      <td>0</td>\n",
       "      <td>112053</td>\n",
       "      <td>30.0000</td>\n",
       "      <td>B42</td>\n",
       "      <td>S</td>\n",
       "    </tr>\n",
       "    <tr>\n",
       "      <th>889</th>\n",
       "      <td>890</td>\n",
       "      <td>1</td>\n",
       "      <td>1</td>\n",
       "      <td>Behr, Mr. Karl Howell</td>\n",
       "      <td>male</td>\n",
       "      <td>26.0</td>\n",
       "      <td>0</td>\n",
       "      <td>0</td>\n",
       "      <td>111369</td>\n",
       "      <td>30.0000</td>\n",
       "      <td>C148</td>\n",
       "      <td>C</td>\n",
       "    </tr>\n",
       "  </tbody>\n",
       "</table>\n",
       "<p>183 rows × 12 columns</p>\n",
       "</div>"
      ],
      "text/plain": [
       "     PassengerId  Survived  Pclass  \\\n",
       "1              2         1       1   \n",
       "3              4         1       1   \n",
       "6              7         0       1   \n",
       "10            11         1       3   \n",
       "11            12         1       1   \n",
       "..           ...       ...     ...   \n",
       "871          872         1       1   \n",
       "872          873         0       1   \n",
       "879          880         1       1   \n",
       "887          888         1       1   \n",
       "889          890         1       1   \n",
       "\n",
       "                                                  Name     Sex   Age  SibSp  \\\n",
       "1    Cumings, Mrs. John Bradley (Florence Briggs Th...  female  38.0      1   \n",
       "3         Futrelle, Mrs. Jacques Heath (Lily May Peel)  female  35.0      1   \n",
       "6                              McCarthy, Mr. Timothy J    male  54.0      0   \n",
       "10                     Sandstrom, Miss. Marguerite Rut  female   4.0      1   \n",
       "11                            Bonnell, Miss. Elizabeth  female  58.0      0   \n",
       "..                                                 ...     ...   ...    ...   \n",
       "871   Beckwith, Mrs. Richard Leonard (Sallie Monypeny)  female  47.0      1   \n",
       "872                           Carlsson, Mr. Frans Olof    male  33.0      0   \n",
       "879      Potter, Mrs. Thomas Jr (Lily Alexenia Wilson)  female  56.0      0   \n",
       "887                       Graham, Miss. Margaret Edith  female  19.0      0   \n",
       "889                              Behr, Mr. Karl Howell    male  26.0      0   \n",
       "\n",
       "     Parch    Ticket     Fare        Cabin Embarked  \n",
       "1        0  PC 17599  71.2833          C85        C  \n",
       "3        0    113803  53.1000         C123        S  \n",
       "6        0     17463  51.8625          E46        S  \n",
       "10       1   PP 9549  16.7000           G6        S  \n",
       "11       0    113783  26.5500         C103        S  \n",
       "..     ...       ...      ...          ...      ...  \n",
       "871      1     11751  52.5542          D35        S  \n",
       "872      0       695   5.0000  B51 B53 B55        S  \n",
       "879      1     11767  83.1583          C50        C  \n",
       "887      0    112053  30.0000          B42        S  \n",
       "889      0    111369  30.0000         C148        C  \n",
       "\n",
       "[183 rows x 12 columns]"
      ]
     },
     "execution_count": 31,
     "metadata": {},
     "output_type": "execute_result"
    }
   ],
   "source": [
    "titanic.dropna() # такая чистка вернет новую таблицу, а старая останется неизменной"
   ]
  },
  {
   "cell_type": "code",
   "execution_count": 32,
   "id": "99464619-ca0f-43a1-a7e9-56f354bd1cee",
   "metadata": {},
   "outputs": [],
   "source": [
    "titanic.dropna(inplace=True)  # многие методы pandas имеют такой параметр: это заставит pandas вносить изменения прямо в текущую табличку"
   ]
  },
  {
   "cell_type": "markdown",
   "id": "ee169cae-1d50-4b70-8c55-97acaa0a4daa",
   "metadata": {},
   "source": [
    "Можно удалить и вообще любую произвольную строчку:"
   ]
  },
  {
   "cell_type": "code",
   "execution_count": 33,
   "id": "6c632a76-41ab-458e-8dd6-04f52b507f4c",
   "metadata": {},
   "outputs": [
    {
     "data": {
      "text/html": [
       "<div>\n",
       "<style scoped>\n",
       "    .dataframe tbody tr th:only-of-type {\n",
       "        vertical-align: middle;\n",
       "    }\n",
       "\n",
       "    .dataframe tbody tr th {\n",
       "        vertical-align: top;\n",
       "    }\n",
       "\n",
       "    .dataframe thead th {\n",
       "        text-align: right;\n",
       "    }\n",
       "</style>\n",
       "<table border=\"1\" class=\"dataframe\">\n",
       "  <thead>\n",
       "    <tr style=\"text-align: right;\">\n",
       "      <th></th>\n",
       "      <th>PassengerId</th>\n",
       "      <th>Survived</th>\n",
       "      <th>Pclass</th>\n",
       "      <th>Name</th>\n",
       "      <th>Sex</th>\n",
       "      <th>Age</th>\n",
       "      <th>SibSp</th>\n",
       "      <th>Parch</th>\n",
       "      <th>Ticket</th>\n",
       "      <th>Fare</th>\n",
       "      <th>Cabin</th>\n",
       "      <th>Embarked</th>\n",
       "    </tr>\n",
       "  </thead>\n",
       "  <tbody>\n",
       "    <tr>\n",
       "      <th>3</th>\n",
       "      <td>4</td>\n",
       "      <td>1</td>\n",
       "      <td>1</td>\n",
       "      <td>Futrelle, Mrs. Jacques Heath (Lily May Peel)</td>\n",
       "      <td>female</td>\n",
       "      <td>35.0</td>\n",
       "      <td>1</td>\n",
       "      <td>0</td>\n",
       "      <td>113803</td>\n",
       "      <td>53.1000</td>\n",
       "      <td>C123</td>\n",
       "      <td>S</td>\n",
       "    </tr>\n",
       "    <tr>\n",
       "      <th>6</th>\n",
       "      <td>7</td>\n",
       "      <td>0</td>\n",
       "      <td>1</td>\n",
       "      <td>McCarthy, Mr. Timothy J</td>\n",
       "      <td>male</td>\n",
       "      <td>54.0</td>\n",
       "      <td>0</td>\n",
       "      <td>0</td>\n",
       "      <td>17463</td>\n",
       "      <td>51.8625</td>\n",
       "      <td>E46</td>\n",
       "      <td>S</td>\n",
       "    </tr>\n",
       "    <tr>\n",
       "      <th>10</th>\n",
       "      <td>11</td>\n",
       "      <td>1</td>\n",
       "      <td>3</td>\n",
       "      <td>Sandstrom, Miss. Marguerite Rut</td>\n",
       "      <td>female</td>\n",
       "      <td>4.0</td>\n",
       "      <td>1</td>\n",
       "      <td>1</td>\n",
       "      <td>PP 9549</td>\n",
       "      <td>16.7000</td>\n",
       "      <td>G6</td>\n",
       "      <td>S</td>\n",
       "    </tr>\n",
       "    <tr>\n",
       "      <th>11</th>\n",
       "      <td>12</td>\n",
       "      <td>1</td>\n",
       "      <td>1</td>\n",
       "      <td>Bonnell, Miss. Elizabeth</td>\n",
       "      <td>female</td>\n",
       "      <td>58.0</td>\n",
       "      <td>0</td>\n",
       "      <td>0</td>\n",
       "      <td>113783</td>\n",
       "      <td>26.5500</td>\n",
       "      <td>C103</td>\n",
       "      <td>S</td>\n",
       "    </tr>\n",
       "    <tr>\n",
       "      <th>21</th>\n",
       "      <td>22</td>\n",
       "      <td>1</td>\n",
       "      <td>2</td>\n",
       "      <td>Beesley, Mr. Lawrence</td>\n",
       "      <td>male</td>\n",
       "      <td>34.0</td>\n",
       "      <td>0</td>\n",
       "      <td>0</td>\n",
       "      <td>248698</td>\n",
       "      <td>13.0000</td>\n",
       "      <td>D56</td>\n",
       "      <td>S</td>\n",
       "    </tr>\n",
       "    <tr>\n",
       "      <th>...</th>\n",
       "      <td>...</td>\n",
       "      <td>...</td>\n",
       "      <td>...</td>\n",
       "      <td>...</td>\n",
       "      <td>...</td>\n",
       "      <td>...</td>\n",
       "      <td>...</td>\n",
       "      <td>...</td>\n",
       "      <td>...</td>\n",
       "      <td>...</td>\n",
       "      <td>...</td>\n",
       "      <td>...</td>\n",
       "    </tr>\n",
       "    <tr>\n",
       "      <th>871</th>\n",
       "      <td>872</td>\n",
       "      <td>1</td>\n",
       "      <td>1</td>\n",
       "      <td>Beckwith, Mrs. Richard Leonard (Sallie Monypeny)</td>\n",
       "      <td>female</td>\n",
       "      <td>47.0</td>\n",
       "      <td>1</td>\n",
       "      <td>1</td>\n",
       "      <td>11751</td>\n",
       "      <td>52.5542</td>\n",
       "      <td>D35</td>\n",
       "      <td>S</td>\n",
       "    </tr>\n",
       "    <tr>\n",
       "      <th>872</th>\n",
       "      <td>873</td>\n",
       "      <td>0</td>\n",
       "      <td>1</td>\n",
       "      <td>Carlsson, Mr. Frans Olof</td>\n",
       "      <td>male</td>\n",
       "      <td>33.0</td>\n",
       "      <td>0</td>\n",
       "      <td>0</td>\n",
       "      <td>695</td>\n",
       "      <td>5.0000</td>\n",
       "      <td>B51 B53 B55</td>\n",
       "      <td>S</td>\n",
       "    </tr>\n",
       "    <tr>\n",
       "      <th>879</th>\n",
       "      <td>880</td>\n",
       "      <td>1</td>\n",
       "      <td>1</td>\n",
       "      <td>Potter, Mrs. Thomas Jr (Lily Alexenia Wilson)</td>\n",
       "      <td>female</td>\n",
       "      <td>56.0</td>\n",
       "      <td>0</td>\n",
       "      <td>1</td>\n",
       "      <td>11767</td>\n",
       "      <td>83.1583</td>\n",
       "      <td>C50</td>\n",
       "      <td>C</td>\n",
       "    </tr>\n",
       "    <tr>\n",
       "      <th>887</th>\n",
       "      <td>888</td>\n",
       "      <td>1</td>\n",
       "      <td>1</td>\n",
       "      <td>Graham, Miss. Margaret Edith</td>\n",
       "      <td>female</td>\n",
       "      <td>19.0</td>\n",
       "      <td>0</td>\n",
       "      <td>0</td>\n",
       "      <td>112053</td>\n",
       "      <td>30.0000</td>\n",
       "      <td>B42</td>\n",
       "      <td>S</td>\n",
       "    </tr>\n",
       "    <tr>\n",
       "      <th>889</th>\n",
       "      <td>890</td>\n",
       "      <td>1</td>\n",
       "      <td>1</td>\n",
       "      <td>Behr, Mr. Karl Howell</td>\n",
       "      <td>male</td>\n",
       "      <td>26.0</td>\n",
       "      <td>0</td>\n",
       "      <td>0</td>\n",
       "      <td>111369</td>\n",
       "      <td>30.0000</td>\n",
       "      <td>C148</td>\n",
       "      <td>C</td>\n",
       "    </tr>\n",
       "  </tbody>\n",
       "</table>\n",
       "<p>182 rows × 12 columns</p>\n",
       "</div>"
      ],
      "text/plain": [
       "     PassengerId  Survived  Pclass  \\\n",
       "3              4         1       1   \n",
       "6              7         0       1   \n",
       "10            11         1       3   \n",
       "11            12         1       1   \n",
       "21            22         1       2   \n",
       "..           ...       ...     ...   \n",
       "871          872         1       1   \n",
       "872          873         0       1   \n",
       "879          880         1       1   \n",
       "887          888         1       1   \n",
       "889          890         1       1   \n",
       "\n",
       "                                                 Name     Sex   Age  SibSp  \\\n",
       "3        Futrelle, Mrs. Jacques Heath (Lily May Peel)  female  35.0      1   \n",
       "6                             McCarthy, Mr. Timothy J    male  54.0      0   \n",
       "10                    Sandstrom, Miss. Marguerite Rut  female   4.0      1   \n",
       "11                           Bonnell, Miss. Elizabeth  female  58.0      0   \n",
       "21                              Beesley, Mr. Lawrence    male  34.0      0   \n",
       "..                                                ...     ...   ...    ...   \n",
       "871  Beckwith, Mrs. Richard Leonard (Sallie Monypeny)  female  47.0      1   \n",
       "872                          Carlsson, Mr. Frans Olof    male  33.0      0   \n",
       "879     Potter, Mrs. Thomas Jr (Lily Alexenia Wilson)  female  56.0      0   \n",
       "887                      Graham, Miss. Margaret Edith  female  19.0      0   \n",
       "889                             Behr, Mr. Karl Howell    male  26.0      0   \n",
       "\n",
       "     Parch   Ticket     Fare        Cabin Embarked  \n",
       "3        0   113803  53.1000         C123        S  \n",
       "6        0    17463  51.8625          E46        S  \n",
       "10       1  PP 9549  16.7000           G6        S  \n",
       "11       0   113783  26.5500         C103        S  \n",
       "21       0   248698  13.0000          D56        S  \n",
       "..     ...      ...      ...          ...      ...  \n",
       "871      1    11751  52.5542          D35        S  \n",
       "872      0      695   5.0000  B51 B53 B55        S  \n",
       "879      1    11767  83.1583          C50        C  \n",
       "887      0   112053  30.0000          B42        S  \n",
       "889      0   111369  30.0000         C148        C  \n",
       "\n",
       "[182 rows x 12 columns]"
      ]
     },
     "execution_count": 33,
     "metadata": {},
     "output_type": "execute_result"
    }
   ],
   "source": [
    "titanic.drop(1)"
   ]
  },
  {
   "cell_type": "markdown",
   "id": "77953791-72aa-4314-8475-291db6078775",
   "metadata": {},
   "source": [
    "С методом drop() то же самое: можно сохранять изменения в текущей табличке, а можно создавать новую. \n",
    "\n",
    "Если хотим удалить целый столбец, нужно указать ось (строчки у нас - это как бы х на графике, а столбцы = это y)"
   ]
  },
  {
   "cell_type": "code",
   "execution_count": 35,
   "id": "c6ff5576-ca5e-47cb-a8d5-526e26d567b8",
   "metadata": {},
   "outputs": [
    {
     "data": {
      "text/html": [
       "<div>\n",
       "<style scoped>\n",
       "    .dataframe tbody tr th:only-of-type {\n",
       "        vertical-align: middle;\n",
       "    }\n",
       "\n",
       "    .dataframe tbody tr th {\n",
       "        vertical-align: top;\n",
       "    }\n",
       "\n",
       "    .dataframe thead th {\n",
       "        text-align: right;\n",
       "    }\n",
       "</style>\n",
       "<table border=\"1\" class=\"dataframe\">\n",
       "  <thead>\n",
       "    <tr style=\"text-align: right;\">\n",
       "      <th></th>\n",
       "      <th>PassengerId</th>\n",
       "      <th>Survived</th>\n",
       "      <th>Pclass</th>\n",
       "      <th>Name</th>\n",
       "      <th>Sex</th>\n",
       "      <th>Age</th>\n",
       "      <th>Parch</th>\n",
       "      <th>Ticket</th>\n",
       "      <th>Fare</th>\n",
       "      <th>Cabin</th>\n",
       "      <th>Embarked</th>\n",
       "    </tr>\n",
       "  </thead>\n",
       "  <tbody>\n",
       "    <tr>\n",
       "      <th>1</th>\n",
       "      <td>2</td>\n",
       "      <td>1</td>\n",
       "      <td>1</td>\n",
       "      <td>Cumings, Mrs. John Bradley (Florence Briggs Th...</td>\n",
       "      <td>female</td>\n",
       "      <td>38.0</td>\n",
       "      <td>0</td>\n",
       "      <td>PC 17599</td>\n",
       "      <td>71.2833</td>\n",
       "      <td>C85</td>\n",
       "      <td>C</td>\n",
       "    </tr>\n",
       "    <tr>\n",
       "      <th>3</th>\n",
       "      <td>4</td>\n",
       "      <td>1</td>\n",
       "      <td>1</td>\n",
       "      <td>Futrelle, Mrs. Jacques Heath (Lily May Peel)</td>\n",
       "      <td>female</td>\n",
       "      <td>35.0</td>\n",
       "      <td>0</td>\n",
       "      <td>113803</td>\n",
       "      <td>53.1000</td>\n",
       "      <td>C123</td>\n",
       "      <td>S</td>\n",
       "    </tr>\n",
       "    <tr>\n",
       "      <th>6</th>\n",
       "      <td>7</td>\n",
       "      <td>0</td>\n",
       "      <td>1</td>\n",
       "      <td>McCarthy, Mr. Timothy J</td>\n",
       "      <td>male</td>\n",
       "      <td>54.0</td>\n",
       "      <td>0</td>\n",
       "      <td>17463</td>\n",
       "      <td>51.8625</td>\n",
       "      <td>E46</td>\n",
       "      <td>S</td>\n",
       "    </tr>\n",
       "    <tr>\n",
       "      <th>10</th>\n",
       "      <td>11</td>\n",
       "      <td>1</td>\n",
       "      <td>3</td>\n",
       "      <td>Sandstrom, Miss. Marguerite Rut</td>\n",
       "      <td>female</td>\n",
       "      <td>4.0</td>\n",
       "      <td>1</td>\n",
       "      <td>PP 9549</td>\n",
       "      <td>16.7000</td>\n",
       "      <td>G6</td>\n",
       "      <td>S</td>\n",
       "    </tr>\n",
       "    <tr>\n",
       "      <th>11</th>\n",
       "      <td>12</td>\n",
       "      <td>1</td>\n",
       "      <td>1</td>\n",
       "      <td>Bonnell, Miss. Elizabeth</td>\n",
       "      <td>female</td>\n",
       "      <td>58.0</td>\n",
       "      <td>0</td>\n",
       "      <td>113783</td>\n",
       "      <td>26.5500</td>\n",
       "      <td>C103</td>\n",
       "      <td>S</td>\n",
       "    </tr>\n",
       "    <tr>\n",
       "      <th>...</th>\n",
       "      <td>...</td>\n",
       "      <td>...</td>\n",
       "      <td>...</td>\n",
       "      <td>...</td>\n",
       "      <td>...</td>\n",
       "      <td>...</td>\n",
       "      <td>...</td>\n",
       "      <td>...</td>\n",
       "      <td>...</td>\n",
       "      <td>...</td>\n",
       "      <td>...</td>\n",
       "    </tr>\n",
       "    <tr>\n",
       "      <th>871</th>\n",
       "      <td>872</td>\n",
       "      <td>1</td>\n",
       "      <td>1</td>\n",
       "      <td>Beckwith, Mrs. Richard Leonard (Sallie Monypeny)</td>\n",
       "      <td>female</td>\n",
       "      <td>47.0</td>\n",
       "      <td>1</td>\n",
       "      <td>11751</td>\n",
       "      <td>52.5542</td>\n",
       "      <td>D35</td>\n",
       "      <td>S</td>\n",
       "    </tr>\n",
       "    <tr>\n",
       "      <th>872</th>\n",
       "      <td>873</td>\n",
       "      <td>0</td>\n",
       "      <td>1</td>\n",
       "      <td>Carlsson, Mr. Frans Olof</td>\n",
       "      <td>male</td>\n",
       "      <td>33.0</td>\n",
       "      <td>0</td>\n",
       "      <td>695</td>\n",
       "      <td>5.0000</td>\n",
       "      <td>B51 B53 B55</td>\n",
       "      <td>S</td>\n",
       "    </tr>\n",
       "    <tr>\n",
       "      <th>879</th>\n",
       "      <td>880</td>\n",
       "      <td>1</td>\n",
       "      <td>1</td>\n",
       "      <td>Potter, Mrs. Thomas Jr (Lily Alexenia Wilson)</td>\n",
       "      <td>female</td>\n",
       "      <td>56.0</td>\n",
       "      <td>1</td>\n",
       "      <td>11767</td>\n",
       "      <td>83.1583</td>\n",
       "      <td>C50</td>\n",
       "      <td>C</td>\n",
       "    </tr>\n",
       "    <tr>\n",
       "      <th>887</th>\n",
       "      <td>888</td>\n",
       "      <td>1</td>\n",
       "      <td>1</td>\n",
       "      <td>Graham, Miss. Margaret Edith</td>\n",
       "      <td>female</td>\n",
       "      <td>19.0</td>\n",
       "      <td>0</td>\n",
       "      <td>112053</td>\n",
       "      <td>30.0000</td>\n",
       "      <td>B42</td>\n",
       "      <td>S</td>\n",
       "    </tr>\n",
       "    <tr>\n",
       "      <th>889</th>\n",
       "      <td>890</td>\n",
       "      <td>1</td>\n",
       "      <td>1</td>\n",
       "      <td>Behr, Mr. Karl Howell</td>\n",
       "      <td>male</td>\n",
       "      <td>26.0</td>\n",
       "      <td>0</td>\n",
       "      <td>111369</td>\n",
       "      <td>30.0000</td>\n",
       "      <td>C148</td>\n",
       "      <td>C</td>\n",
       "    </tr>\n",
       "  </tbody>\n",
       "</table>\n",
       "<p>183 rows × 11 columns</p>\n",
       "</div>"
      ],
      "text/plain": [
       "     PassengerId  Survived  Pclass  \\\n",
       "1              2         1       1   \n",
       "3              4         1       1   \n",
       "6              7         0       1   \n",
       "10            11         1       3   \n",
       "11            12         1       1   \n",
       "..           ...       ...     ...   \n",
       "871          872         1       1   \n",
       "872          873         0       1   \n",
       "879          880         1       1   \n",
       "887          888         1       1   \n",
       "889          890         1       1   \n",
       "\n",
       "                                                  Name     Sex   Age  Parch  \\\n",
       "1    Cumings, Mrs. John Bradley (Florence Briggs Th...  female  38.0      0   \n",
       "3         Futrelle, Mrs. Jacques Heath (Lily May Peel)  female  35.0      0   \n",
       "6                              McCarthy, Mr. Timothy J    male  54.0      0   \n",
       "10                     Sandstrom, Miss. Marguerite Rut  female   4.0      1   \n",
       "11                            Bonnell, Miss. Elizabeth  female  58.0      0   \n",
       "..                                                 ...     ...   ...    ...   \n",
       "871   Beckwith, Mrs. Richard Leonard (Sallie Monypeny)  female  47.0      1   \n",
       "872                           Carlsson, Mr. Frans Olof    male  33.0      0   \n",
       "879      Potter, Mrs. Thomas Jr (Lily Alexenia Wilson)  female  56.0      1   \n",
       "887                       Graham, Miss. Margaret Edith  female  19.0      0   \n",
       "889                              Behr, Mr. Karl Howell    male  26.0      0   \n",
       "\n",
       "       Ticket     Fare        Cabin Embarked  \n",
       "1    PC 17599  71.2833          C85        C  \n",
       "3      113803  53.1000         C123        S  \n",
       "6       17463  51.8625          E46        S  \n",
       "10    PP 9549  16.7000           G6        S  \n",
       "11     113783  26.5500         C103        S  \n",
       "..        ...      ...          ...      ...  \n",
       "871     11751  52.5542          D35        S  \n",
       "872       695   5.0000  B51 B53 B55        S  \n",
       "879     11767  83.1583          C50        C  \n",
       "887    112053  30.0000          B42        S  \n",
       "889    111369  30.0000         C148        C  \n",
       "\n",
       "[183 rows x 11 columns]"
      ]
     },
     "execution_count": 35,
     "metadata": {},
     "output_type": "execute_result"
    }
   ],
   "source": [
    "titanic.drop('SibSp', axis=1)"
   ]
  },
  {
   "cell_type": "markdown",
   "id": "a0c157c2-15a4-4521-bf68-2df377ec9ed9",
   "metadata": {},
   "source": [
    "Если хотим удалить из таблички повторяющиеся строки, можно использовать:"
   ]
  },
  {
   "cell_type": "code",
   "execution_count": null,
   "id": "b9375cc5-fe1f-43c7-b1c2-19d93ea3f5e6",
   "metadata": {},
   "outputs": [],
   "source": [
    "titanic.drop_duplicates(keep='first', inplace=True)  # я запускать не стала, потому что в Титанике нет повторяющихся строк. "
   ]
  },
  {
   "cell_type": "markdown",
   "id": "1906f9f9-1f3f-4f8b-ade7-ab7c77e3a0c8",
   "metadata": {},
   "source": [
    "Если хотим что-то добавить в табличку, для строк можно воспользоваться loc:"
   ]
  },
  {
   "cell_type": "code",
   "execution_count": 36,
   "id": "6f9b20d3-717b-4469-8793-95aa6c232e87",
   "metadata": {},
   "outputs": [
    {
     "data": {
      "text/html": [
       "<div>\n",
       "<style scoped>\n",
       "    .dataframe tbody tr th:only-of-type {\n",
       "        vertical-align: middle;\n",
       "    }\n",
       "\n",
       "    .dataframe tbody tr th {\n",
       "        vertical-align: top;\n",
       "    }\n",
       "\n",
       "    .dataframe thead th {\n",
       "        text-align: right;\n",
       "    }\n",
       "</style>\n",
       "<table border=\"1\" class=\"dataframe\">\n",
       "  <thead>\n",
       "    <tr style=\"text-align: right;\">\n",
       "      <th></th>\n",
       "      <th>col1</th>\n",
       "      <th>col2</th>\n",
       "    </tr>\n",
       "  </thead>\n",
       "  <tbody>\n",
       "    <tr>\n",
       "      <th>0</th>\n",
       "      <td>1</td>\n",
       "      <td>4</td>\n",
       "    </tr>\n",
       "    <tr>\n",
       "      <th>1</th>\n",
       "      <td>2</td>\n",
       "      <td>5</td>\n",
       "    </tr>\n",
       "    <tr>\n",
       "      <th>2</th>\n",
       "      <td>3</td>\n",
       "      <td>6</td>\n",
       "    </tr>\n",
       "  </tbody>\n",
       "</table>\n",
       "</div>"
      ],
      "text/plain": [
       "   col1  col2\n",
       "0     1     4\n",
       "1     2     5\n",
       "2     3     6"
      ]
     },
     "execution_count": 36,
     "metadata": {},
     "output_type": "execute_result"
    }
   ],
   "source": [
    "df3"
   ]
  },
  {
   "cell_type": "code",
   "execution_count": 38,
   "id": "3798fdcb-02ba-4703-a360-f794555a6755",
   "metadata": {},
   "outputs": [],
   "source": [
    "df3.loc[3] = [7, 8]"
   ]
  },
  {
   "cell_type": "code",
   "execution_count": 39,
   "id": "3209c551-e5df-4f32-8e8e-26b129b61561",
   "metadata": {},
   "outputs": [
    {
     "data": {
      "text/html": [
       "<div>\n",
       "<style scoped>\n",
       "    .dataframe tbody tr th:only-of-type {\n",
       "        vertical-align: middle;\n",
       "    }\n",
       "\n",
       "    .dataframe tbody tr th {\n",
       "        vertical-align: top;\n",
       "    }\n",
       "\n",
       "    .dataframe thead th {\n",
       "        text-align: right;\n",
       "    }\n",
       "</style>\n",
       "<table border=\"1\" class=\"dataframe\">\n",
       "  <thead>\n",
       "    <tr style=\"text-align: right;\">\n",
       "      <th></th>\n",
       "      <th>col1</th>\n",
       "      <th>col2</th>\n",
       "    </tr>\n",
       "  </thead>\n",
       "  <tbody>\n",
       "    <tr>\n",
       "      <th>0</th>\n",
       "      <td>1</td>\n",
       "      <td>4</td>\n",
       "    </tr>\n",
       "    <tr>\n",
       "      <th>1</th>\n",
       "      <td>2</td>\n",
       "      <td>5</td>\n",
       "    </tr>\n",
       "    <tr>\n",
       "      <th>2</th>\n",
       "      <td>3</td>\n",
       "      <td>6</td>\n",
       "    </tr>\n",
       "    <tr>\n",
       "      <th>3</th>\n",
       "      <td>7</td>\n",
       "      <td>8</td>\n",
       "    </tr>\n",
       "  </tbody>\n",
       "</table>\n",
       "</div>"
      ],
      "text/plain": [
       "   col1  col2\n",
       "0     1     4\n",
       "1     2     5\n",
       "2     3     6\n",
       "3     7     8"
      ]
     },
     "execution_count": 39,
     "metadata": {},
     "output_type": "execute_result"
    }
   ],
   "source": [
    "df3"
   ]
  },
  {
   "cell_type": "markdown",
   "id": "c7bfcf75-fe6a-49f3-8926-f9f7628f13c2",
   "metadata": {},
   "source": [
    "Обратите внимание, iloc здесь пользоваться нельзя - он умеет только перезаписывать уже существующие строки. "
   ]
  },
  {
   "cell_type": "markdown",
   "id": "1ee491eb-f41e-45b6-9864-1533af4b92ec",
   "metadata": {},
   "source": [
    "Можно добавить и столбец:"
   ]
  },
  {
   "cell_type": "code",
   "execution_count": 40,
   "id": "00728c87-b20d-4085-84f3-92d28b508886",
   "metadata": {},
   "outputs": [],
   "source": [
    "df3['col3'] = pd.Series(['x', 'y', 'z', 'w'])"
   ]
  },
  {
   "cell_type": "code",
   "execution_count": 41,
   "id": "b32a3776-8d8b-461e-854f-ef8a92df60bd",
   "metadata": {},
   "outputs": [
    {
     "data": {
      "text/html": [
       "<div>\n",
       "<style scoped>\n",
       "    .dataframe tbody tr th:only-of-type {\n",
       "        vertical-align: middle;\n",
       "    }\n",
       "\n",
       "    .dataframe tbody tr th {\n",
       "        vertical-align: top;\n",
       "    }\n",
       "\n",
       "    .dataframe thead th {\n",
       "        text-align: right;\n",
       "    }\n",
       "</style>\n",
       "<table border=\"1\" class=\"dataframe\">\n",
       "  <thead>\n",
       "    <tr style=\"text-align: right;\">\n",
       "      <th></th>\n",
       "      <th>col1</th>\n",
       "      <th>col2</th>\n",
       "      <th>col3</th>\n",
       "    </tr>\n",
       "  </thead>\n",
       "  <tbody>\n",
       "    <tr>\n",
       "      <th>0</th>\n",
       "      <td>1</td>\n",
       "      <td>4</td>\n",
       "      <td>x</td>\n",
       "    </tr>\n",
       "    <tr>\n",
       "      <th>1</th>\n",
       "      <td>2</td>\n",
       "      <td>5</td>\n",
       "      <td>y</td>\n",
       "    </tr>\n",
       "    <tr>\n",
       "      <th>2</th>\n",
       "      <td>3</td>\n",
       "      <td>6</td>\n",
       "      <td>z</td>\n",
       "    </tr>\n",
       "    <tr>\n",
       "      <th>3</th>\n",
       "      <td>7</td>\n",
       "      <td>8</td>\n",
       "      <td>w</td>\n",
       "    </tr>\n",
       "  </tbody>\n",
       "</table>\n",
       "</div>"
      ],
      "text/plain": [
       "   col1  col2 col3\n",
       "0     1     4    x\n",
       "1     2     5    y\n",
       "2     3     6    z\n",
       "3     7     8    w"
      ]
     },
     "execution_count": 41,
     "metadata": {},
     "output_type": "execute_result"
    }
   ],
   "source": [
    "df3"
   ]
  },
  {
   "cell_type": "markdown",
   "id": "b320192d-e473-41e9-8c8f-c82485fd3b69",
   "metadata": {},
   "source": [
    "Можно добавлять столбцы на основе уже существующих, а также изменять существующие с помощью какой-то функции, которая будет применяться к каждой ячейке столбца. "
   ]
  },
  {
   "cell_type": "code",
   "execution_count": 42,
   "id": "b0e93a9f-0287-416d-99d3-6c4734e8c66a",
   "metadata": {},
   "outputs": [
    {
     "data": {
      "text/plain": [
       "0    2\n",
       "1    3\n",
       "2    4\n",
       "3    8\n",
       "Name: col1, dtype: int64"
      ]
     },
     "execution_count": 42,
     "metadata": {},
     "output_type": "execute_result"
    }
   ],
   "source": [
    "df3['col1'].apply(lambda x: x + 1)  # увеличим все числа в столбце 1 на 1"
   ]
  },
  {
   "cell_type": "code",
   "execution_count": 43,
   "id": "e91dcca6-cc3d-44ae-beb5-e6e410c3d775",
   "metadata": {},
   "outputs": [
    {
     "data": {
      "text/html": [
       "<div>\n",
       "<style scoped>\n",
       "    .dataframe tbody tr th:only-of-type {\n",
       "        vertical-align: middle;\n",
       "    }\n",
       "\n",
       "    .dataframe tbody tr th {\n",
       "        vertical-align: top;\n",
       "    }\n",
       "\n",
       "    .dataframe thead th {\n",
       "        text-align: right;\n",
       "    }\n",
       "</style>\n",
       "<table border=\"1\" class=\"dataframe\">\n",
       "  <thead>\n",
       "    <tr style=\"text-align: right;\">\n",
       "      <th></th>\n",
       "      <th>col1</th>\n",
       "      <th>col2</th>\n",
       "      <th>col3</th>\n",
       "    </tr>\n",
       "  </thead>\n",
       "  <tbody>\n",
       "    <tr>\n",
       "      <th>0</th>\n",
       "      <td>2</td>\n",
       "      <td>8</td>\n",
       "      <td>xx</td>\n",
       "    </tr>\n",
       "    <tr>\n",
       "      <th>1</th>\n",
       "      <td>4</td>\n",
       "      <td>10</td>\n",
       "      <td>yy</td>\n",
       "    </tr>\n",
       "    <tr>\n",
       "      <th>2</th>\n",
       "      <td>6</td>\n",
       "      <td>12</td>\n",
       "      <td>zz</td>\n",
       "    </tr>\n",
       "    <tr>\n",
       "      <th>3</th>\n",
       "      <td>14</td>\n",
       "      <td>16</td>\n",
       "      <td>ww</td>\n",
       "    </tr>\n",
       "  </tbody>\n",
       "</table>\n",
       "</div>"
      ],
      "text/plain": [
       "   col1  col2 col3\n",
       "0     2     8   xx\n",
       "1     4    10   yy\n",
       "2     6    12   zz\n",
       "3    14    16   ww"
      ]
     },
     "execution_count": 43,
     "metadata": {},
     "output_type": "execute_result"
    }
   ],
   "source": [
    "df3.apply(lambda x: x * 2)"
   ]
  },
  {
   "cell_type": "code",
   "execution_count": 44,
   "id": "188aba95-dfda-423d-8192-93b96e48cd7f",
   "metadata": {},
   "outputs": [],
   "source": [
    "df3['col4'] = df3.col3.apply(len)"
   ]
  },
  {
   "cell_type": "code",
   "execution_count": 45,
   "id": "c4f17d00-93e8-416a-b6e2-0ccbf9a613a0",
   "metadata": {},
   "outputs": [
    {
     "data": {
      "text/html": [
       "<div>\n",
       "<style scoped>\n",
       "    .dataframe tbody tr th:only-of-type {\n",
       "        vertical-align: middle;\n",
       "    }\n",
       "\n",
       "    .dataframe tbody tr th {\n",
       "        vertical-align: top;\n",
       "    }\n",
       "\n",
       "    .dataframe thead th {\n",
       "        text-align: right;\n",
       "    }\n",
       "</style>\n",
       "<table border=\"1\" class=\"dataframe\">\n",
       "  <thead>\n",
       "    <tr style=\"text-align: right;\">\n",
       "      <th></th>\n",
       "      <th>col1</th>\n",
       "      <th>col2</th>\n",
       "      <th>col3</th>\n",
       "      <th>col4</th>\n",
       "    </tr>\n",
       "  </thead>\n",
       "  <tbody>\n",
       "    <tr>\n",
       "      <th>0</th>\n",
       "      <td>1</td>\n",
       "      <td>4</td>\n",
       "      <td>x</td>\n",
       "      <td>1</td>\n",
       "    </tr>\n",
       "    <tr>\n",
       "      <th>1</th>\n",
       "      <td>2</td>\n",
       "      <td>5</td>\n",
       "      <td>y</td>\n",
       "      <td>1</td>\n",
       "    </tr>\n",
       "    <tr>\n",
       "      <th>2</th>\n",
       "      <td>3</td>\n",
       "      <td>6</td>\n",
       "      <td>z</td>\n",
       "      <td>1</td>\n",
       "    </tr>\n",
       "    <tr>\n",
       "      <th>3</th>\n",
       "      <td>7</td>\n",
       "      <td>8</td>\n",
       "      <td>w</td>\n",
       "      <td>1</td>\n",
       "    </tr>\n",
       "  </tbody>\n",
       "</table>\n",
       "</div>"
      ],
      "text/plain": [
       "   col1  col2 col3  col4\n",
       "0     1     4    x     1\n",
       "1     2     5    y     1\n",
       "2     3     6    z     1\n",
       "3     7     8    w     1"
      ]
     },
     "execution_count": 45,
     "metadata": {},
     "output_type": "execute_result"
    }
   ],
   "source": [
    "df3"
   ]
  },
  {
   "cell_type": "markdown",
   "id": "efa3e831-b28f-4800-9eed-aa46529fdda0",
   "metadata": {},
   "source": [
    "Как видим, метод apply() может применяться как ко всей таблице, так и к отдельным колонкам. Чаще применяется к колонкам, потому что в таблице не всегда бывают колонки, которые содержат один тип данных. Необязательно писать и лямбда-функцию: главное понимать, что эта функция должна принимать и возвращать (здесь все точно так же, как с параметром key в сортировках). "
   ]
  },
  {
   "cell_type": "markdown",
   "id": "ffc2963f-ac1c-4997-9be5-af1ca18a9b55",
   "metadata": {},
   "source": [
    "Также в pandas есть готовый метод OHE (One Hot Encoding), про который, если вы забыли, можно освежить знания на [вики](https://en.wikipedia.org/wiki/One-hot). Если у нас есть колонка с категориальным признаком (что такое категориальный признак? Даже если он из чисел, в отличие от цифрового, эти числа между собой арифметически не соотносятся. Чаще, впрочем, категориальный признак - это что-то вроде \"из какого города\": у нас есть n городов, и мы не можем их просто пронумеровать, потому что если мы укажем, что Москва у нас - 1, а Петербург - 2, то разве Петербург больше Москвы? Что это будет значить?), то можно применить OHE в pandas к ней и получить дополнительные колонки:"
   ]
  },
  {
   "cell_type": "code",
   "execution_count": null,
   "id": "d65b9f6e-bbc7-44d1-b313-91322ee5ef35",
   "metadata": {},
   "outputs": [],
   "source": [
    "new_cols = pd.get_dummies(df.column_name, prefix='prefix', drop_first=True)"
   ]
  },
  {
   "cell_type": "markdown",
   "id": "d6cbf472-a766-4c7e-a467-0787e060679d",
   "metadata": {},
   "source": [
    "В Титанике нет удобных столбцов с признаками, которые хотелось бы заменить, поэтому код абстрактный. То есть, в строке выше мы создаем дополнительную табличку из n - 1 колонок для n вариантов значений колонки column_name с префиксом (названия колонок будут prefix_1, prefix_2...), и удаляем сразу первый столбец, потому что он избыточный для OHE. \n",
    "\n",
    "Дальше можно смержить получившееся:"
   ]
  },
  {
   "cell_type": "code",
   "execution_count": null,
   "id": "af9f2358-e6c2-4150-ba02-1cb5f9d7404d",
   "metadata": {},
   "outputs": [],
   "source": [
    "df.drop('column_name', inplace=True) # исходный столбец больше не нужен\n",
    "df = df.join(new_cols)"
   ]
  },
  {
   "cell_type": "markdown",
   "id": "dca67bba-8136-4267-beb0-d2552efacc57",
   "metadata": {},
   "source": [
    "#### Агрегация"
   ]
  },
  {
   "cell_type": "markdown",
   "id": "c96f9799-5607-4f65-8b2a-587d4f3b5946",
   "metadata": {},
   "source": [
    "Агрегация - это важный способ получать новые данные при анализе. Когда мы говорим, что агрегируем данные, это означает, что мы их по сути группируем. В pandas есть разные способы группировки данных. Самый простой - это использовать groupby: "
   ]
  },
  {
   "cell_type": "code",
   "execution_count": 46,
   "id": "05d3b133-2e54-490f-824a-621176d11f96",
   "metadata": {},
   "outputs": [
    {
     "data": {
      "text/html": [
       "<div>\n",
       "<style scoped>\n",
       "    .dataframe tbody tr th:only-of-type {\n",
       "        vertical-align: middle;\n",
       "    }\n",
       "\n",
       "    .dataframe tbody tr th {\n",
       "        vertical-align: top;\n",
       "    }\n",
       "\n",
       "    .dataframe thead th {\n",
       "        text-align: right;\n",
       "    }\n",
       "</style>\n",
       "<table border=\"1\" class=\"dataframe\">\n",
       "  <thead>\n",
       "    <tr style=\"text-align: right;\">\n",
       "      <th></th>\n",
       "      <th>PassengerId</th>\n",
       "      <th>Survived</th>\n",
       "      <th>Pclass</th>\n",
       "      <th>Age</th>\n",
       "      <th>SibSp</th>\n",
       "      <th>Parch</th>\n",
       "      <th>Fare</th>\n",
       "    </tr>\n",
       "    <tr>\n",
       "      <th>Sex</th>\n",
       "      <th></th>\n",
       "      <th></th>\n",
       "      <th></th>\n",
       "      <th></th>\n",
       "      <th></th>\n",
       "      <th></th>\n",
       "      <th></th>\n",
       "    </tr>\n",
       "  </thead>\n",
       "  <tbody>\n",
       "    <tr>\n",
       "      <th>female</th>\n",
       "      <td>461.818182</td>\n",
       "      <td>0.931818</td>\n",
       "      <td>1.215909</td>\n",
       "      <td>32.676136</td>\n",
       "      <td>0.534091</td>\n",
       "      <td>0.545455</td>\n",
       "      <td>89.000900</td>\n",
       "    </tr>\n",
       "    <tr>\n",
       "      <th>male</th>\n",
       "      <td>449.389474</td>\n",
       "      <td>0.431579</td>\n",
       "      <td>1.168421</td>\n",
       "      <td>38.451789</td>\n",
       "      <td>0.400000</td>\n",
       "      <td>0.410526</td>\n",
       "      <td>69.124343</td>\n",
       "    </tr>\n",
       "  </tbody>\n",
       "</table>\n",
       "</div>"
      ],
      "text/plain": [
       "        PassengerId  Survived    Pclass        Age     SibSp     Parch  \\\n",
       "Sex                                                                      \n",
       "female   461.818182  0.931818  1.215909  32.676136  0.534091  0.545455   \n",
       "male     449.389474  0.431579  1.168421  38.451789  0.400000  0.410526   \n",
       "\n",
       "             Fare  \n",
       "Sex                \n",
       "female  89.000900  \n",
       "male    69.124343  "
      ]
     },
     "execution_count": 46,
     "metadata": {},
     "output_type": "execute_result"
    }
   ],
   "source": [
    "titanic.groupby('Sex').mean()"
   ]
  },
  {
   "cell_type": "markdown",
   "id": "fa02ed65-6e23-4a2e-be90-93d880266fad",
   "metadata": {},
   "source": [
    "Но groupby позволяет сгруппировать данные только по какому-то одному столбцу (признаку). Обычно к результату метода применяется mean() или sum(). \n",
    "\n",
    "Более хитрый способ группировки - использовать pivot_table(). Почитать о нем, во-первых, можно [здесь](https://www.kaggle.com/kamilpolak/tutorial-how-to-use-pivot-table-in-pandas), а во-вторых, я нашла отличную [тетрадку](https://colab.research.google.com/drive/1S1kGoGEC39zi48jWbKeBae7nd1HQQZMR?usp=sharing), которая позволит досконально разобраться. Собственно говоря, пример на занятии был взят оттуда. "
   ]
  },
  {
   "cell_type": "markdown",
   "id": "617c24c8-dbc6-43a0-8cac-c954d04ec45a",
   "metadata": {},
   "source": [
    "То есть, pivot_table позволяет группировать данные по нескольким признакам сразу, а еще отдельно считать несколько разных функций на сгруппированных значениях (можно одновременно узнать и среднее арифметическое, и сумму, и что захотите, в принципе). "
   ]
  },
  {
   "cell_type": "code",
   "execution_count": 60,
   "id": "f4e793f8-ca10-43d1-b10b-7173c7342dd1",
   "metadata": {},
   "outputs": [
    {
     "data": {
      "text/html": [
       "<div>\n",
       "<style scoped>\n",
       "    .dataframe tbody tr th:only-of-type {\n",
       "        vertical-align: middle;\n",
       "    }\n",
       "\n",
       "    .dataframe tbody tr th {\n",
       "        vertical-align: top;\n",
       "    }\n",
       "\n",
       "    .dataframe thead tr th {\n",
       "        text-align: left;\n",
       "    }\n",
       "\n",
       "    .dataframe thead tr:last-of-type th {\n",
       "        text-align: right;\n",
       "    }\n",
       "</style>\n",
       "<table border=\"1\" class=\"dataframe\">\n",
       "  <thead>\n",
       "    <tr>\n",
       "      <th></th>\n",
       "      <th></th>\n",
       "      <th colspan=\"4\" halign=\"left\">sum</th>\n",
       "      <th colspan=\"4\" halign=\"left\">mean</th>\n",
       "    </tr>\n",
       "    <tr>\n",
       "      <th></th>\n",
       "      <th></th>\n",
       "      <th colspan=\"4\" halign=\"left\">Price</th>\n",
       "      <th colspan=\"4\" halign=\"left\">Price</th>\n",
       "    </tr>\n",
       "    <tr>\n",
       "      <th></th>\n",
       "      <th>Product</th>\n",
       "      <th>CPU</th>\n",
       "      <th>Maintenance</th>\n",
       "      <th>Monitor</th>\n",
       "      <th>Software</th>\n",
       "      <th>CPU</th>\n",
       "      <th>Maintenance</th>\n",
       "      <th>Monitor</th>\n",
       "      <th>Software</th>\n",
       "    </tr>\n",
       "    <tr>\n",
       "      <th>Manager</th>\n",
       "      <th>Rep</th>\n",
       "      <th></th>\n",
       "      <th></th>\n",
       "      <th></th>\n",
       "      <th></th>\n",
       "      <th></th>\n",
       "      <th></th>\n",
       "      <th></th>\n",
       "      <th></th>\n",
       "    </tr>\n",
       "  </thead>\n",
       "  <tbody>\n",
       "    <tr>\n",
       "      <th rowspan=\"3\" valign=\"top\">Debra Henley</th>\n",
       "      <th>Craig Booker</th>\n",
       "      <td>65000.0</td>\n",
       "      <td>5000.0</td>\n",
       "      <td>NaN</td>\n",
       "      <td>10000.0</td>\n",
       "      <td>32500.0</td>\n",
       "      <td>5000.0</td>\n",
       "      <td>NaN</td>\n",
       "      <td>10000.0</td>\n",
       "    </tr>\n",
       "    <tr>\n",
       "      <th>Daniel Hilton</th>\n",
       "      <td>105000.0</td>\n",
       "      <td>NaN</td>\n",
       "      <td>NaN</td>\n",
       "      <td>10000.0</td>\n",
       "      <td>52500.0</td>\n",
       "      <td>NaN</td>\n",
       "      <td>NaN</td>\n",
       "      <td>10000.0</td>\n",
       "    </tr>\n",
       "    <tr>\n",
       "      <th>John Smith</th>\n",
       "      <td>35000.0</td>\n",
       "      <td>5000.0</td>\n",
       "      <td>NaN</td>\n",
       "      <td>NaN</td>\n",
       "      <td>35000.0</td>\n",
       "      <td>5000.0</td>\n",
       "      <td>NaN</td>\n",
       "      <td>NaN</td>\n",
       "    </tr>\n",
       "    <tr>\n",
       "      <th rowspan=\"2\" valign=\"top\">Fred Anderson</th>\n",
       "      <th>Cedric Moss</th>\n",
       "      <td>95000.0</td>\n",
       "      <td>5000.0</td>\n",
       "      <td>NaN</td>\n",
       "      <td>10000.0</td>\n",
       "      <td>47500.0</td>\n",
       "      <td>5000.0</td>\n",
       "      <td>NaN</td>\n",
       "      <td>10000.0</td>\n",
       "    </tr>\n",
       "    <tr>\n",
       "      <th>Wendy Yule</th>\n",
       "      <td>165000.0</td>\n",
       "      <td>7000.0</td>\n",
       "      <td>5000.0</td>\n",
       "      <td>NaN</td>\n",
       "      <td>82500.0</td>\n",
       "      <td>7000.0</td>\n",
       "      <td>5000.0</td>\n",
       "      <td>NaN</td>\n",
       "    </tr>\n",
       "  </tbody>\n",
       "</table>\n",
       "</div>"
      ],
      "text/plain": [
       "                                  sum                                  mean  \\\n",
       "                                Price                                 Price   \n",
       "Product                           CPU Maintenance Monitor Software      CPU   \n",
       "Manager       Rep                                                             \n",
       "Debra Henley  Craig Booker    65000.0      5000.0     NaN  10000.0  32500.0   \n",
       "              Daniel Hilton  105000.0         NaN     NaN  10000.0  52500.0   \n",
       "              John Smith      35000.0      5000.0     NaN      NaN  35000.0   \n",
       "Fred Anderson Cedric Moss     95000.0      5000.0     NaN  10000.0  47500.0   \n",
       "              Wendy Yule     165000.0      7000.0  5000.0      NaN  82500.0   \n",
       "\n",
       "                                                          \n",
       "                                                          \n",
       "Product                     Maintenance Monitor Software  \n",
       "Manager       Rep                                         \n",
       "Debra Henley  Craig Booker       5000.0     NaN  10000.0  \n",
       "              Daniel Hilton         NaN     NaN  10000.0  \n",
       "              John Smith         5000.0     NaN      NaN  \n",
       "Fred Anderson Cedric Moss        5000.0     NaN  10000.0  \n",
       "              Wendy Yule         7000.0  5000.0      NaN  "
      ]
     },
     "execution_count": 60,
     "metadata": {},
     "output_type": "execute_result"
    }
   ],
   "source": [
    "pd.pivot_table(df, index=['Manager', 'Rep'], values=['Price'], columns=['Product'], aggfunc=[np.sum, np.mean])"
   ]
  }
 ],
 "metadata": {
  "kernelspec": {
   "display_name": "Python 3 (ipykernel)",
   "language": "python",
   "name": "python3"
  },
  "language_info": {
   "codemirror_mode": {
    "name": "ipython",
    "version": 3
   },
   "file_extension": ".py",
   "mimetype": "text/x-python",
   "name": "python",
   "nbconvert_exporter": "python",
   "pygments_lexer": "ipython3",
   "version": "3.11.5"
  }
 },
 "nbformat": 4,
 "nbformat_minor": 5
}
