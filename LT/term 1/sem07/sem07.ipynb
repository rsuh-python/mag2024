{
 "cells": [
  {
   "cell_type": "markdown",
   "id": "e5c67f3e-469b-4d5b-927f-4d32b6fbb6f9",
   "metadata": {
    "id": "C54uJpgwbRP-"
   },
   "source": [
    "#### Задача 1. \n",
    "\n",
    "Напишите функцию, которая принимает два целых числа a и b и возвращает результат возведения в степень a ** b, только оператором ** пользоваться нельзя, нужно сделать это в цикле!"
   ]
  },
  {
   "cell_type": "code",
   "execution_count": null,
   "id": "c1ecc53e-ddef-4be5-983a-c25ec302e7f4",
   "metadata": {
    "id": "G2d9tUoEbPjr"
   },
   "outputs": [],
   "source": [
    "# your code here"
   ]
  },
  {
   "cell_type": "markdown",
   "id": "64b69365-ed92-460e-a3e5-0d8ecbd2ef1d",
   "metadata": {
    "id": "rkhg0KaxbgUl"
   },
   "source": [
    "#### Задача 2. \n",
    "\n",
    "Напишите функцию, которая делает то же, что функция в задаче 1, но используйте рекурсию."
   ]
  },
  {
   "cell_type": "code",
   "execution_count": null,
   "id": "3438991d-af99-4fdb-a01e-7905c06a1d9b",
   "metadata": {
    "id": "ufWyhdbGbjqU"
   },
   "outputs": [],
   "source": [
    "# your code here"
   ]
  },
  {
   "cell_type": "markdown",
   "id": "56cbc1e4-9079-419b-9c62-242fa5ac2bc6",
   "metadata": {
    "id": "BQTZHFmPbUks"
   },
   "source": [
    "#### Задача 3. \n",
    "\n",
    "Напишите функцию, которая будет принимать слово и проверять, состоит ли оно только из кириллических букв. Функция должна возвращать объект bool (True/False)."
   ]
  },
  {
   "cell_type": "code",
   "execution_count": null,
   "id": "763a75cc-8ec4-4d58-92d4-d9124a51a4fb",
   "metadata": {
    "id": "PewpYgb5bXbt"
   },
   "outputs": [],
   "source": [
    "# your code here"
   ]
  },
  {
   "cell_type": "markdown",
   "id": "b9a6fe6a-d4dc-4aae-99f4-e6aee2cde444",
   "metadata": {
    "id": "OBNLT2MIbX1F"
   },
   "source": [
    "#### Задача 4. \n",
    "\n",
    "Немного расширим задачу 3: пользователь вводит строчку, а потом выбирает, хочет ли он проверить, что она является палиндромом или что она кириллическая. В зависимости от выбора пользователя должна вызываться одна из двух функций."
   ]
  },
  {
   "cell_type": "code",
   "execution_count": null,
   "id": "87a8a305-5394-4e91-afb9-0525b7f87a14",
   "metadata": {
    "id": "OgTX7HcLbai8"
   },
   "outputs": [],
   "source": [
    "# your code here"
   ]
  },
  {
   "cell_type": "markdown",
   "id": "a7ba0f55-f68a-44d6-820d-66c4725899c7",
   "metadata": {
    "id": "TMLSOYfLb3vj"
   },
   "source": [
    "#### Задача 5. \n",
    "\n",
    "Напишите функцию, которая будет принимать числа a и b, делить их и выводить ответ в формате a / b = c, при этом число c должно быть округлено до двух знаков после запятой. Если знаете варианты, как это можно сделать, напишите варианты."
   ]
  },
  {
   "cell_type": "code",
   "execution_count": null,
   "id": "bc9db2d8-5ceb-480f-a446-e0757abe474c",
   "metadata": {
    "id": "lL2OF1Mbb68D"
   },
   "outputs": [],
   "source": [
    "# your code here"
   ]
  },
  {
   "cell_type": "markdown",
   "id": "5e834dae",
   "metadata": {},
   "source": [
    "#### Задача 6. \n",
    "\n",
    "Вы работаете администратором в языковой школе. Ваша задача - записывать людей на занятия по определенному языку. \n",
    "\n",
    "Необходимо создать словарь, в котором ключ - фамилия, значение - язык. Должна быть возможность обновлять словарь, т.е. если человек захочет записаться на курс по новому языку, нужно добавить ключу новое значение.\n",
    "\n",
    "Можно получить дополнительный балл, если вместо фамилии использовать номер телефона. Номер телефона должен проверяться на соответствие формату (можно использовать регулярки). Если номер неверный, программа должна запросить его снова. "
   ]
  },
  {
   "cell_type": "code",
   "execution_count": null,
   "id": "ead6556a",
   "metadata": {},
   "outputs": [],
   "source": [
    "def append_student():\n",
    "    ...\n",
    "    return \n",
    "\n",
    "def append_lang():\n",
    "    ...\n",
    "    return \n",
    "\n",
    "# your code here"
   ]
  }
 ],
 "metadata": {
  "kernelspec": {
   "display_name": "Python 3",
   "language": "python",
   "name": "python3"
  },
  "language_info": {
   "codemirror_mode": {
    "name": "ipython",
    "version": 3
   },
   "file_extension": ".py",
   "mimetype": "text/x-python",
   "name": "python",
   "nbconvert_exporter": "python",
   "pygments_lexer": "ipython3",
   "version": "3.11.9"
  }
 },
 "nbformat": 4,
 "nbformat_minor": 5
}
