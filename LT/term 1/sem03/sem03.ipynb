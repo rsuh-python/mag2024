{
 "cells": [
  {
   "cell_type": "markdown",
   "id": "057901d2-93bf-4865-a3c7-ef29f39bd8d5",
   "metadata": {},
   "source": [
    "#### Задача 1. \n",
    "\n",
    "Пользователь вводит строчку, в которой попадаются символы \"@\". Нужно удалить все такие символы."
   ]
  },
  {
   "cell_type": "code",
   "execution_count": null,
   "id": "64a85dae-f43c-4e0e-b900-92099cf6a782",
   "metadata": {},
   "outputs": [],
   "source": [
    "# your code here"
   ]
  },
  {
   "cell_type": "markdown",
   "id": "7aca1815-ca3c-4404-9dde-d127a74a6eb1",
   "metadata": {},
   "source": [
    "#### Задача 2.\n",
    "\n",
    "Пользователь ввел несколько слов, разделенных пробелами. Посчитайте количество слов в строке (если знаете несколько способов - сделайте это несколькими способами)."
   ]
  },
  {
   "cell_type": "code",
   "execution_count": null,
   "id": "976e3d75-8416-4c84-a2c5-9fde10d390c0",
   "metadata": {},
   "outputs": [],
   "source": [
    "# your code here"
   ]
  },
  {
   "cell_type": "markdown",
   "id": "a37abcb4-fb0a-4608-87b1-2f06a0faebaa",
   "metadata": {},
   "source": [
    "#### Задача 3.\n",
    "\n",
    "Пользователь вводит некий инфинитив глагола. Программа должна проверить, заканчивается ли глагол на -ся и содержит ли он приставку \"пере\" (т.е., начинается с нее). Можно использовать методы, а можно срезы."
   ]
  },
  {
   "cell_type": "code",
   "execution_count": null,
   "id": "0ba49a97-fb56-48cf-a625-bbf94968eb44",
   "metadata": {},
   "outputs": [],
   "source": [
    "# your code here"
   ]
  },
  {
   "cell_type": "markdown",
   "id": "cc30d2fa-2ddb-494e-abad-d56766b97c60",
   "metadata": {},
   "source": [
    "#### Задача 4.\n",
    "\n",
    "Дано положительное действительное число X. Выведите его первую цифру после десятичной точки, используя методы строк."
   ]
  },
  {
   "cell_type": "code",
   "execution_count": null,
   "id": "3f8e2fa0-63aa-4453-8103-e530aa31f892",
   "metadata": {},
   "outputs": [],
   "source": [
    "# your code here"
   ]
  },
  {
   "cell_type": "markdown",
   "id": "e6efc1a0-4d9d-4a97-91ec-43cd78c954e4",
   "metadata": {},
   "source": [
    "#### Задача 5.\n",
    "\n",
    "Пользователь вводит предложение (с пробелами, но без пунктуации). Проверьте, является ли это предложение палиндромом. Для тестирования можно использовать:\n",
    "\n",
    "    Аргентина манит негра\n",
    "    А роза упала на лапу Азора"
   ]
  },
  {
   "cell_type": "code",
   "execution_count": null,
   "id": "3ca91633-6e0c-4fd6-b688-3c22394f7069",
   "metadata": {},
   "outputs": [],
   "source": [
    "# your code here"
   ]
  },
  {
   "cell_type": "markdown",
   "id": "15fec660-d51d-493e-a207-93e43e7a9d55",
   "metadata": {},
   "source": [
    "#### Задача 6.\n",
    "\n",
    "Пользователь вводит любое число n. Программа должна вернуть строчку \"n корова\", причем слово \"корова\" должно согласоваться с числом: 1 корова, но 5 коров.  "
   ]
  },
  {
   "cell_type": "code",
   "execution_count": null,
   "id": "ea049d65-86eb-437d-98ee-34a213d7b08d",
   "metadata": {},
   "outputs": [],
   "source": [
    "# your code here"
   ]
  }
 ],
 "metadata": {
  "kernelspec": {
   "display_name": "Python 3 (ipykernel)",
   "language": "python",
   "name": "python3"
  },
  "language_info": {
   "codemirror_mode": {
    "name": "ipython",
    "version": 3
   },
   "file_extension": ".py",
   "mimetype": "text/x-python",
   "name": "python",
   "nbconvert_exporter": "python",
   "pygments_lexer": "ipython3",
   "version": "3.9.12"
  }
 },
 "nbformat": 4,
 "nbformat_minor": 5
}
