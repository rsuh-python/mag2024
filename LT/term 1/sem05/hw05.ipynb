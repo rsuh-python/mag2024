{
 "cells": [
  {
   "cell_type": "markdown",
   "id": "75df1240-414b-4e93-8cc4-6e4e2091cae0",
   "metadata": {},
   "source": [
    "#### Задача 1. \n",
    "\n",
    "Дан список. Выведите те его элементы, которые встречаются в списке только один раз. Элементы нужно выводить в том порядке, в котором они встречаются в списке."
   ]
  },
  {
   "cell_type": "code",
   "execution_count": null,
   "id": "09ef877b-5412-4ccb-b546-fa32a3782d62",
   "metadata": {},
   "outputs": [],
   "source": [
    " # your code here"
   ]
  },
  {
   "cell_type": "markdown",
   "id": "7f708d7a-5eaf-4773-bf75-0e28cd022bf7",
   "metadata": {},
   "source": [
    "#### Задача 2. \n",
    "\n",
    "Напишите функцию, которая будет принимать строчку и возвращать список, состоящий из порядковых номеров в юникоде всех букв из строчки. "
   ]
  },
  {
   "cell_type": "code",
   "execution_count": null,
   "id": "4230fedb-368a-4fdf-82b5-bdb9ed2a114c",
   "metadata": {},
   "outputs": [],
   "source": [
    " # your code here"
   ]
  },
  {
   "cell_type": "markdown",
   "id": "18ff9b08-4592-4954-9cc4-a88f3f8827f1",
   "metadata": {},
   "source": [
    "#### Задача 3. \n",
    "\n",
    "Дан список, упорядоченный по неубыванию элементов в нем (то есть, например, 1 1 1 2 2 3 3 3). Определите, сколько в нем различных элементов."
   ]
  },
  {
   "cell_type": "code",
   "execution_count": null,
   "id": "42345cb0-e1cb-4d39-a9d1-725838870ad8",
   "metadata": {},
   "outputs": [],
   "source": [
    " # your code here"
   ]
  },
  {
   "cell_type": "markdown",
   "id": "7e77b268",
   "metadata": {},
   "source": [
    "#### Задача 4.\n",
    "\n",
    "Напишите функцию, которая принимает два вектора (два списка чисел) и возвращает скалярное произведение векторов переданных списков. \n",
    "\n",
    "Пример входных и выходных данных:\n",
    "\n",
    "v1 = [7, 8, 9, 1]\n",
    "\n",
    "v2 = [9, 4, 6, 3]\n",
    "\n",
    "res = 152"
   ]
  },
  {
   "cell_type": "code",
   "execution_count": null,
   "id": "cb30e175",
   "metadata": {},
   "outputs": [],
   "source": [
    " # your code here"
   ]
  },
  {
   "cell_type": "markdown",
   "id": "49d064a6",
   "metadata": {},
   "source": [
    "#### Задача 5.\n",
    "\n",
    "Напишите программу, которая обединяет каждые два соседних элемента в списке (элементы - строки). Если количество элементов в списке нечетное - к последнему элементу необходимо добавить 0.\n",
    "\n",
    "Пример входных и выходных данных:\n",
    "\n",
    "['a', 'b', 'c', 'd', 'e', 'f', 'g'] ->\n",
    "\n",
    "-> ['ab', 'cd', 'ef', 'g0']\n"
   ]
  },
  {
   "cell_type": "code",
   "execution_count": null,
   "id": "2926a41a",
   "metadata": {},
   "outputs": [],
   "source": [
    " # your code here"
   ]
  },
  {
   "cell_type": "markdown",
   "id": "0bfe453a",
   "metadata": {},
   "source": [
    "#### Задача 6. *\n",
    "\n",
    "Напишите функцию, которая получает на вход число n, и возвращает n-ую строку из треугольника Паскаля в виде списка.\n",
    "\n",
    "https://en.wikipedia.org/wiki/Pascal%27s_triangle"
   ]
  },
  {
   "cell_type": "code",
   "execution_count": null,
   "id": "c56dd4bb",
   "metadata": {},
   "outputs": [],
   "source": [
    " # your code here"
   ]
  }
 ],
 "metadata": {
  "kernelspec": {
   "display_name": "Python 3",
   "language": "python",
   "name": "python3"
  },
  "language_info": {
   "codemirror_mode": {
    "name": "ipython",
    "version": 3
   },
   "file_extension": ".py",
   "mimetype": "text/x-python",
   "name": "python",
   "nbconvert_exporter": "python",
   "pygments_lexer": "ipython3",
   "version": "3.11.9"
  }
 },
 "nbformat": 4,
 "nbformat_minor": 5
}
