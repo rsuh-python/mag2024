{
 "cells": [
  {
   "cell_type": "markdown",
   "id": "d18d94f4-4015-4174-880b-c1dda827aa76",
   "metadata": {},
   "source": [
    "В папке семинара лежит файл gicr.xlsx, в котором содержится выдача корпуса ГИКРЯ для одного запроса. Давайте поработаем с этим файлом.\n",
    "\n",
    "#### Задача 1. \n",
    "\n",
    "- Считайте данные. \n",
    "- Посмотрите информацию по ним: сколько у нас колонок, как они называются, какого они типа, сколько в них ненулевых ячеек?\n",
    "- Проверьте, есть ли дубликаты (по левому и правому контексту). Удалите дубликаты: решите, как именно вы хотите это сделать, избавиться от всех повторов вообще или оставить одно какое-то вхождение?\n",
    "- Заведите новую переменную, в которой будет храниться та же выборка, но без всех пустых ячеек."
   ]
  },
  {
   "cell_type": "code",
   "execution_count": null,
   "id": "b14e8083-ea86-470b-bc0f-656041b13b8d",
   "metadata": {},
   "outputs": [],
   "source": [
    "# your code here"
   ]
  },
  {
   "cell_type": "markdown",
   "id": "e033897c-8ade-4fa9-8f6d-b6b6cd3c18b6",
   "metadata": {},
   "source": [
    "#### Задача 2.\n",
    "\n",
    "- Сколько в нашей выборке уникальных авторов?\n",
    "- Какой самый ранний год употребления искомого слова в корпусе? А какой самый старый возраст употребившего? Какой средний возраст употребляющих это слово?\n",
    "- Какие города самые представленные в корпусе, судя по этой выборке? (А можем ли мы судить о распространенности употребления слова в запросе по этим цифрам?)"
   ]
  },
  {
   "cell_type": "code",
   "execution_count": null,
   "id": "7034b6a5-9bb9-4dec-9fdd-063509a3467f",
   "metadata": {},
   "outputs": [],
   "source": [
    "# your code here"
   ]
  },
  {
   "cell_type": "markdown",
   "id": "4e3bbdbe-6d73-4eda-8d74-f49e6513f95a",
   "metadata": {},
   "source": [
    "#### Задача 3 (2 балла).\n",
    "\n",
    "По сколько авторов приходится на каждый город? (Подсказка: чтобы это посмотреть удобно, вам может пригодиться метод sort_values())"
   ]
  },
  {
   "cell_type": "code",
   "execution_count": null,
   "id": "efc7546b-6a65-4c59-8061-4c39adce87ec",
   "metadata": {},
   "outputs": [],
   "source": [
    "# your code here"
   ]
  }
 ],
 "metadata": {
  "kernelspec": {
   "display_name": "Python 3 (ipykernel)",
   "language": "python",
   "name": "python3"
  },
  "language_info": {
   "codemirror_mode": {
    "name": "ipython",
    "version": 3
   },
   "file_extension": ".py",
   "mimetype": "text/x-python",
   "name": "python",
   "nbconvert_exporter": "python",
   "pygments_lexer": "ipython3",
   "version": "3.9.18"
  }
 },
 "nbformat": 4,
 "nbformat_minor": 5
}
