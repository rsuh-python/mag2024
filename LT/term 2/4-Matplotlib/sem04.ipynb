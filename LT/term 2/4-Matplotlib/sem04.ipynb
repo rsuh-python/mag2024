{
 "cells": [
  {
   "cell_type": "markdown",
   "id": "d2d6fdca-4216-4a3c-8b88-89451b4212a8",
   "metadata": {},
   "source": [
    "#### Задача 1.\n",
    "\n",
    "Постройте график для функции $x^2 = y$. Поиграйте с настройками внешнего вида графика!"
   ]
  },
  {
   "cell_type": "code",
   "execution_count": null,
   "id": "9726573d-47f8-4470-afe9-77dfb284ca83",
   "metadata": {},
   "outputs": [],
   "source": [
    "# your code here"
   ]
  },
  {
   "cell_type": "markdown",
   "id": "744c2ed0-6e86-466c-8a27-78852cac4992",
   "metadata": {},
   "source": [
    "#### Задача 2. \n",
    "\n",
    "С помощью генераторных выражений и модуля random сгенерируйте два списка со случайными числами (списки должны быть одинаковой длины). Представим себе, что это координаты. Нарисуйте график scatter для этих чисел. "
   ]
  },
  {
   "cell_type": "code",
   "execution_count": null,
   "id": "b0416313-b9ea-4c47-a00d-f5a49a8943f2",
   "metadata": {},
   "outputs": [],
   "source": [
    "# your code here"
   ]
  },
  {
   "cell_type": "markdown",
   "id": "ed7fdf87-963c-4b32-b17a-c80a396ff26f",
   "metadata": {},
   "source": [
    "#### Задача 3.\n",
    "\n",
    "В папке лежит файл mobile.csv - это табличка с данными по характеристикам и стоимости мобильных телефонов. Откройте эту табличку с помощью pandas, отсортируйте по колонке battery_power и нарисуйте ее распределение на графике histplot (можно использовать seaborn - эта библиотека умеет работать напрямую с pandas)."
   ]
  },
  {
   "cell_type": "code",
   "execution_count": null,
   "id": "97742365-edc1-4bd8-94ad-8de171a27960",
   "metadata": {},
   "outputs": [],
   "source": [
    "# your code here"
   ]
  },
  {
   "cell_type": "markdown",
   "id": "a984e4d5-1ea1-45bd-a179-92b71dfdad16",
   "metadata": {},
   "source": [
    "#### Задача 4.\n",
    "\n",
    "Сгруппируйте значения в табличке с помощью groupby по диапазону цены и сохраните в отдельную переменную. Нарисуйте набор графиков для всех остальных колонок в groupby. Можете ли вы по этим графикам сказать, какие характеристики телефонов влияют на цену, а какие вроде бы нет?"
   ]
  },
  {
   "cell_type": "code",
   "execution_count": null,
   "id": "15c8108e-2622-401d-a48e-f8f7b7323caf",
   "metadata": {},
   "outputs": [],
   "source": [
    "# your code here"
   ]
  },
  {
   "cell_type": "markdown",
   "id": "0bbea536-33e3-49cf-9e25-340eae7ab016",
   "metadata": {},
   "source": [
    "#### Задача 5.\n",
    "\n",
    "Напишите функцию, которая будет строить графики для функции $k * x + b = y$. При этом x - это готовый список чисел, который определен внутри функции (сгенерируйте просто чиселки от 1 до любого числа), а k и b должны передаваться в качестве аргументов функции. \n",
    "\n",
    "Добавьте вашей функции интерактивность, позволив пользователю выбирать k и b из списка. "
   ]
  },
  {
   "cell_type": "code",
   "execution_count": null,
   "id": "55c098cd-fef9-4a54-835d-af84cb21ca58",
   "metadata": {},
   "outputs": [],
   "source": [
    "def linear(k, b):\n",
    "    # your code here"
   ]
  }
 ],
 "metadata": {
  "kernelspec": {
   "display_name": "Python 3 (ipykernel)",
   "language": "python",
   "name": "python3"
  },
  "language_info": {
   "codemirror_mode": {
    "name": "ipython",
    "version": 3
   },
   "file_extension": ".py",
   "mimetype": "text/x-python",
   "name": "python",
   "nbconvert_exporter": "python",
   "pygments_lexer": "ipython3",
   "version": "3.11.5"
  }
 },
 "nbformat": 4,
 "nbformat_minor": 5
}
