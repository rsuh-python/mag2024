{
 "cells": [
  {
   "cell_type": "markdown",
   "id": "e0928747-cf4d-4a25-bf7b-3bb127449eca",
   "metadata": {},
   "source": [
    "### Библиотеки для построения графиков и интерактивного интерфейса"
   ]
  },
  {
   "cell_type": "markdown",
   "id": "1107038c-480e-4fe4-a38a-dfa32e6fbb1e",
   "metadata": {},
   "source": [
    "#### Matplotlib"
   ]
  },
  {
   "cell_type": "markdown",
   "id": "d3b38582-9182-4ab4-9146-77aabcdfcc92",
   "metadata": {},
   "source": [
    "Самая популярная и базовая библиотека для построения графиков - это matplotlib. Это огромная библиотека, и изучать ее возможности можно неделями, но на самом деле главное - разобраться в основных ее понятиях, остальное - уже финтифлюшки. Matplotlib необходимо отдельно устанавливать:\n",
    "\n",
    "    pip install matplotlib\n",
    "        или\n",
    "    conda install matplotlib\n",
    "    \n",
    "(в анаконде он уже может быть установлен, в колабе точно установлен). "
   ]
  },
  {
   "cell_type": "markdown",
   "id": "6ff87330-243a-4c1f-98fa-0b72f1b42dbd",
   "metadata": {},
   "source": [
    "**Архитектура Matplotlib**\n",
    "\n",
    "Matplotlib имеет три основных слоя: слой нижнего уровня (backend), слой рисунков и слой скриптов. Слой нижнего уровня содержит три интерфейсных класса: канва рисунка (figure canvas), определяющая область рисунка, прорисовщик (renderer), умеющий рисовать на этой канве, и событие (event), обрабатывающее ввод пользователя вроде щелчков мыши. Слой рисунков знает, как рисовать с помощью Renderer'а и рисовать на канве. Все, что находится на рисунке Matplotlib, является экземпляром слоя рисунка (artist). Засечки, заголовок, метки – все это индивидуальные объекты слоя рисунков. Слой скриптов – это облегченный интерфейс, который очень полезен для ежедневного применения."
   ]
  },
  {
   "cell_type": "markdown",
   "id": "b74ee089-a049-47b8-9fb1-8805a33eb416",
   "metadata": {},
   "source": [
    "Два объекта, о которых необходимо знать для работы с графиками - это Figure & Axes. \n",
    "\n",
    "**Figure** - это контейнер самого верхнего уровня, та область, на которой все нарисовано. Таких областей может быть несколько, каждая из которых может содержать несколько контейнеров Axes.\n",
    "**Axes** - это та область на которой чаще всего и отражаются графики (данные в виде графиков), а также все вспомогательные атрибуты (линии сетки, метки, указатели и т.д.). \n",
    "Каждая область Axes содержит XAxis и YAxis. Они содержат, деления, метки и прочие вспомогательные атрибуты.\n",
    "\n",
    "Когда собираемся нарисовать график, сперва заводим экземпляр класса Figure, а потом к нему специальным методом добавляем область для будущего графика. "
   ]
  },
  {
   "cell_type": "code",
   "execution_count": 1,
   "id": "2c65504f-abf2-4ef7-bdc8-41b6dd84a7d4",
   "metadata": {},
   "outputs": [
    {
     "data": {
      "image/png": "[encoded data removed]",
      "text/plain": [
       "<Figure size 432x288 with 1 Axes>"
      ]
     },
     "metadata": {
      "needs_background": "light"
     },
     "output_type": "display_data"
    }
   ],
   "source": [
    "import matplotlib.pyplot as plt\n",
    "\n",
    "fig = plt.figure()\n",
    "ax = fig.add_subplot(111)\n",
    "\n",
    "plt.show()"
   ]
  },
  {
   "cell_type": "markdown",
   "id": "4d7949f2-3030-451f-aa85-9a6e001af0b8",
   "metadata": {},
   "source": [
    "Можно убедиться, что эти фигуры разные, если поменять их цвет:"
   ]
  },
  {
   "cell_type": "code",
   "execution_count": 3,
   "id": "6cb1a579-43ae-42ac-b465-f7c99a4b6783",
   "metadata": {},
   "outputs": [
    {
     "data": {
      "image/png": "[encoded data removed]",
      "text/plain": [
       "<Figure size 432x288 with 1 Axes>"
      ]
     },
     "metadata": {},
     "output_type": "display_data"
    }
   ],
   "source": [
    "fig = plt.figure()\n",
    "ax = fig.add_subplot(111)\n",
    "fig.set(facecolor='green')\n",
    "ax.set(facecolor='blue')\n",
    "plt.show()"
   ]
  },
  {
   "cell_type": "markdown",
   "id": "e72a22c6-665d-4b7d-956e-bf6c9a5ef19d",
   "metadata": {},
   "source": [
    "Вообще метод set() есть и у фигуры, и у области графика, и там можно устанавливать очень много всего разного. Причем обычно есть варианты вида set(Title=''...) vs set_title(). "
   ]
  },
  {
   "cell_type": "markdown",
   "id": "befceb2c-ddb2-45ce-be39-f427cc061430",
   "metadata": {},
   "source": [
    "Наиболее простой способ по-быстрому установить визуальные настройки графика - специальная форматированная строка у метода plot(); подробное описание того, что в ней можно указать, есть в [документации библиотеки](https://matplotlib.org/stable/api/_as_gen/matplotlib.pyplot.plot.html). "
   ]
  },
  {
   "cell_type": "code",
   "execution_count": 4,
   "id": "d0e119cb-d65e-4602-acba-f5348e092395",
   "metadata": {},
   "outputs": [
    {
     "data": {
      "image/png": "[encoded data removed]",
      "text/plain": [
       "<Figure size 432x288 with 1 Axes>"
      ]
     },
     "metadata": {
      "needs_background": "light"
     },
     "output_type": "display_data"
    }
   ],
   "source": [
    "X = ['a', 'b', 'c', 'd']\n",
    "Y = [34, 123, 67, 45]\n",
    "fig = plt.figure()\n",
    "ax = fig.add_subplot(111)\n",
    "ax.plot(X, Y, 'bo')\n",
    "plt.show()"
   ]
  },
  {
   "cell_type": "markdown",
   "id": "47ef3819-713d-4af8-be9a-ae13b1206115",
   "metadata": {},
   "source": [
    "Таким образом, как же строить сами графики на области графика? Один самый простой метод уже написан вверху: это plot(). На самом деле, можно использовать этот метод и не создавая отдельный экземпляр, но тогда большинство тонких настроек не будет доступно:"
   ]
  },
  {
   "cell_type": "code",
   "execution_count": 5,
   "id": "947c96a2-bbd7-469d-8592-0662af4b4638",
   "metadata": {},
   "outputs": [
    {
     "data": {
      "image/png": "[encoded data removed]",
      "text/plain": [
       "<Figure size 432x288 with 1 Axes>"
      ]
     },
     "metadata": {
      "needs_background": "light"
     },
     "output_type": "display_data"
    }
   ],
   "source": [
    "plt.plot(X, Y, '^g')\n",
    "plt.show()"
   ]
  },
  {
   "cell_type": "markdown",
   "id": "4b347a8b-142d-4122-abf2-06dd6a226159",
   "metadata": {},
   "source": [
    "Какие еще есть методы в matplotlib?\n",
    "\n",
    "- ax.scatter(X, Y)\n",
    "- ax.bar(x, height(y), width, bottom, align)\n",
    "- ax.hist(x, bins)\n",
    "- ax.pie(sizes, labels=labels, autopct='%1.1f%%')"
   ]
  },
  {
   "cell_type": "markdown",
   "id": "c420435d-f673-4bd4-83d6-6e1baa819fbc",
   "metadata": {},
   "source": [
    "Можете сами посмотреть, как они устроены и как выглядят. "
   ]
  },
  {
   "cell_type": "markdown",
   "id": "240626d3-3823-4a8c-97a1-0777f2374436",
   "metadata": {},
   "source": [
    "Какие базовые настройки стоит знать, когда строим графики?\n",
    "\n",
    "- У Figure есть size: fig = plt.figure(figsize=(x, y))\n",
    "- У ax можно установить заголовок: ax.set_title('Title')\n",
    "- У графиков можно менять цвет, форму, линии, размер шрифтов;\n",
    "- Можно устанавливать xticks (значения по оси х) и yticks;\n",
    "- Можно сохранять график с помощью savefig();\n",
    "- Можно сразу устанавливать весь стиль для графика с помощью plt.style.use(['...']) (посмотреть, какие доступны, можно с помощью plt.style.available)"
   ]
  },
  {
   "cell_type": "markdown",
   "id": "ccd6a86b-3d6f-4172-80f0-379c7e1afabc",
   "metadata": {},
   "source": [
    "**Подграфики**\n",
    "\n",
    "Matplotlib позволяет строить много axes внутри одной figure: для этого есть два разных способа. Более гибкий - это использовать метод add_subplot():"
   ]
  },
  {
   "cell_type": "code",
   "execution_count": null,
   "id": "3a369910-13e6-4554-b942-9139aedbd109",
   "metadata": {},
   "outputs": [],
   "source": [
    "ax_1 = fig.add_subplot(2, 2, 1)\n",
    "ax_2 = fig.add_subplot(2, 2, 2)\n",
    "ax_3 = fig.add_subplot(2, 2, 3)\n",
    "ax_4 = fig.add_subplot(2, 2, 4)"
   ]
  },
  {
   "cell_type": "markdown",
   "id": "7abb824b-4f29-4198-9b87-b557d7e33cc6",
   "metadata": {},
   "source": [
    "Первая цифра из трех - это номер ряда, вторая - номер строки, а третья - индекс подграфика (matplotlib воспринимает область графика как табличку). \n",
    "\n",
    "Каждый подграфик можно настраивать как угодно; графики не обязаны занимать всю область figure, можно их рисовать как хочется. "
   ]
  },
  {
   "cell_type": "markdown",
   "id": "c87954fe-fbca-4d85-b21f-b2b623956d96",
   "metadata": {},
   "source": [
    "Более простой (и менее гибкий) способ - это использовать метод subplots():"
   ]
  },
  {
   "cell_type": "code",
   "execution_count": null,
   "id": "a17ee887-7cd1-4e7d-9513-3b951dea7c77",
   "metadata": {},
   "outputs": [],
   "source": [
    "fig, axes = plt.subplots(nrows = 2, ncols = 2)\n",
    "\n",
    "axes[0,0].set(title='axes[0,0]')\n",
    "axes[0,1].set(title='axes[0,1]')\n",
    "axes[1,0].set(title='axes[1,0]')\n",
    "axes[1,1].set(title='axes[1,1]')\n",
    "\n",
    "for ax in axes.flat:\n",
    "    ax.set(...)\n",
    "\n",
    "plt.show()"
   ]
  },
  {
   "cell_type": "markdown",
   "id": "74b45a28-ca7c-45a7-9bea-cacb2b75d301",
   "metadata": {},
   "source": [
    "На самом деле этот же метод удобнее использовать и для одиночного графика:\n",
    "\n",
    "    fig, ax = plt.subplots()"
   ]
  },
  {
   "cell_type": "markdown",
   "id": "a85004b9-349a-4eb3-8ee8-a176e1f5d2c1",
   "metadata": {},
   "source": [
    "**Трехмерные графики**\n",
    "\n",
    "В matplotlib есть подбиблиотека, которая позволяет рисовать графики в трехмерном пространстве. Подробно рассматривать не будем, но самый простой пример кода выглядит так:"
   ]
  },
  {
   "cell_type": "code",
   "execution_count": 11,
   "id": "110fb198-bc41-4a89-94fc-b106cbd015eb",
   "metadata": {},
   "outputs": [
    {
     "data": {
      "image/png": "[encoded data removed]",
      "text/plain": [
       "<Figure size 432x288 with 1 Axes>"
      ]
     },
     "metadata": {
      "needs_background": "light"
     },
     "output_type": "display_data"
    }
   ],
   "source": [
    "from mpl_toolkits.mplot3d import axes3d\n",
    "\n",
    "fig = plt.figure()\n",
    "ax = fig.add_subplot(projection='3d')\n",
    "X, Y, Z = [1, 2, 7, 3, 6], [7, 3, 2, 5, 2], [1, 9, 7, 3, 6]\n",
    "ax.plot(X, Y, Z)\n",
    "plt.show()"
   ]
  },
  {
   "cell_type": "markdown",
   "id": "f8e39e44-7d0a-47de-be6e-e276b5fffaf7",
   "metadata": {},
   "source": [
    "#### Seaborn"
   ]
  },
  {
   "cell_type": "markdown",
   "id": "11641778-1c4f-4245-91bd-fbfd4027b1fd",
   "metadata": {},
   "source": [
    "Seaborn - это библиотека, которая построена на базе matplotlib и очень хорошо с ней взаимодействует. Главная цель Seaborn - это визуализация данных для машинного обучения, поэтому seaborn умеет работать с датафреймами pandas (скоро посмотрим); также у seaborn ужасно красивые палитры. :) Сейчас посмотрим только их, но экстенсивно будем пользоваться этой библиотекой на курсе по машинному обучению. "
   ]
  },
  {
   "cell_type": "markdown",
   "id": "0e2cd787-8e3c-4e41-b42d-3ebb35169af7",
   "metadata": {},
   "source": [
    "Seaborn тоже, конечно, нужно устанавливать. \n",
    "\n",
    "        pip install seaborn\n",
    "        \n",
    "Импортируется он обычно как sns. "
   ]
  },
  {
   "cell_type": "markdown",
   "id": "6a6174fa-26e4-4265-a27b-818077fe88e6",
   "metadata": {},
   "source": [
    "У него есть возможность автоматически настраивать масштаб графика в зависимости от целей, с которыми вы его создаете:\n",
    "\n",
    "    sns.set_context('paper', 'notebook', 'talk', 'poster')\n",
    "    \n",
    "(Poster сделает крупный график, например). По умолчанию используется notebook."
   ]
  },
  {
   "cell_type": "markdown",
   "id": "2c7349a8-c0d3-4d7d-986d-3f60be9d4750",
   "metadata": {},
   "source": [
    "Самое клевое - это палитры, которые в самом seaborn очень разнообразны, плюс можно собирать их самостоятельно из номеров цветов. Как посмотреть, какие цвета есть в seaborn вообще?"
   ]
  },
  {
   "cell_type": "code",
   "execution_count": 13,
   "id": "bf419937-21e6-4350-800a-6af859fed007",
   "metadata": {},
   "outputs": [
    {
     "ename": "ValueError",
     "evalue": "br is not a valid palette name",
     "output_type": "error",
     "traceback": [
      "\u001b[0;31m---------------------------------------------------------------------------\u001b[0m",
      "\u001b[0;31mValueError\u001b[0m                                Traceback (most recent call last)",
      "\u001b[0;32m~/.local/lib/python3.8/site-packages/seaborn/palettes.py\u001b[0m in \u001b[0;36mcolor_palette\u001b[0;34m(palette, n_colors, desat, as_cmap)\u001b[0m\n\u001b[1;32m    205\u001b[0m                 \u001b[0;31m# Perhaps a named matplotlib colormap?\u001b[0m\u001b[0;34m\u001b[0m\u001b[0;34m\u001b[0m\u001b[0;34m\u001b[0m\u001b[0m\n\u001b[0;32m--> 206\u001b[0;31m                 \u001b[0mpalette\u001b[0m \u001b[0;34m=\u001b[0m \u001b[0mmpl_palette\u001b[0m\u001b[0;34m(\u001b[0m\u001b[0mpalette\u001b[0m\u001b[0;34m,\u001b[0m \u001b[0mn_colors\u001b[0m\u001b[0;34m,\u001b[0m \u001b[0mas_cmap\u001b[0m\u001b[0;34m=\u001b[0m\u001b[0mas_cmap\u001b[0m\u001b[0;34m)\u001b[0m\u001b[0;34m\u001b[0m\u001b[0;34m\u001b[0m\u001b[0m\n\u001b[0m\u001b[1;32m    207\u001b[0m             \u001b[0;32mexcept\u001b[0m \u001b[0mValueError\u001b[0m\u001b[0;34m:\u001b[0m\u001b[0;34m\u001b[0m\u001b[0;34m\u001b[0m\u001b[0m\n",
      "\u001b[0;32m~/.local/lib/python3.8/site-packages/seaborn/palettes.py\u001b[0m in \u001b[0;36mmpl_palette\u001b[0;34m(name, n_colors, as_cmap)\u001b[0m\n\u001b[1;32m    442\u001b[0m     \u001b[0;32melse\u001b[0m\u001b[0;34m:\u001b[0m\u001b[0;34m\u001b[0m\u001b[0;34m\u001b[0m\u001b[0m\n\u001b[0;32m--> 443\u001b[0;31m         \u001b[0mcmap\u001b[0m \u001b[0;34m=\u001b[0m \u001b[0mmpl\u001b[0m\u001b[0;34m.\u001b[0m\u001b[0mcm\u001b[0m\u001b[0;34m.\u001b[0m\u001b[0mget_cmap\u001b[0m\u001b[0;34m(\u001b[0m\u001b[0mname\u001b[0m\u001b[0;34m)\u001b[0m\u001b[0;34m\u001b[0m\u001b[0;34m\u001b[0m\u001b[0m\n\u001b[0m\u001b[1;32m    444\u001b[0m \u001b[0;34m\u001b[0m\u001b[0m\n",
      "\u001b[0;32m~/.local/lib/python3.8/site-packages/matplotlib/cm.py\u001b[0m in \u001b[0;36mget_cmap\u001b[0;34m(name, lut)\u001b[0m\n\u001b[1;32m    189\u001b[0m         \u001b[0;32mreturn\u001b[0m \u001b[0mname\u001b[0m\u001b[0;34m\u001b[0m\u001b[0;34m\u001b[0m\u001b[0m\n\u001b[0;32m--> 190\u001b[0;31m     \u001b[0m_api\u001b[0m\u001b[0;34m.\u001b[0m\u001b[0mcheck_in_list\u001b[0m\u001b[0;34m(\u001b[0m\u001b[0msorted\u001b[0m\u001b[0;34m(\u001b[0m\u001b[0m_cmap_registry\u001b[0m\u001b[0;34m)\u001b[0m\u001b[0;34m,\u001b[0m \u001b[0mname\u001b[0m\u001b[0;34m=\u001b[0m\u001b[0mname\u001b[0m\u001b[0;34m)\u001b[0m\u001b[0;34m\u001b[0m\u001b[0;34m\u001b[0m\u001b[0m\n\u001b[0m\u001b[1;32m    191\u001b[0m     \u001b[0;32mif\u001b[0m \u001b[0mlut\u001b[0m \u001b[0;32mis\u001b[0m \u001b[0;32mNone\u001b[0m\u001b[0;34m:\u001b[0m\u001b[0;34m\u001b[0m\u001b[0;34m\u001b[0m\u001b[0m\n",
      "\u001b[0;32m~/.local/lib/python3.8/site-packages/matplotlib/_api/__init__.py\u001b[0m in \u001b[0;36mcheck_in_list\u001b[0;34m(_values, _print_supported_values, **kwargs)\u001b[0m\n\u001b[1;32m    125\u001b[0m             \u001b[0;32mif\u001b[0m \u001b[0m_print_supported_values\u001b[0m\u001b[0;34m:\u001b[0m\u001b[0;34m\u001b[0m\u001b[0;34m\u001b[0m\u001b[0m\n\u001b[0;32m--> 126\u001b[0;31m                 raise ValueError(\n\u001b[0m\u001b[1;32m    127\u001b[0m                     \u001b[0;34mf\"{val!r} is not a valid value for {key}; \"\u001b[0m\u001b[0;34m\u001b[0m\u001b[0;34m\u001b[0m\u001b[0m\n",
      "\u001b[0;31mValueError\u001b[0m: 'br' is not a valid value for name; supported values are 'Accent', 'Accent_r', 'Blues', 'Blues_r', 'BrBG', 'BrBG_r', 'BuGn', 'BuGn_r', 'BuPu', 'BuPu_r', 'CMRmap', 'CMRmap_r', 'Dark2', 'Dark2_r', 'GnBu', 'GnBu_r', 'Greens', 'Greens_r', 'Greys', 'Greys_r', 'OrRd', 'OrRd_r', 'Oranges', 'Oranges_r', 'PRGn', 'PRGn_r', 'Paired', 'Paired_r', 'Pastel1', 'Pastel1_r', 'Pastel2', 'Pastel2_r', 'PiYG', 'PiYG_r', 'PuBu', 'PuBuGn', 'PuBuGn_r', 'PuBu_r', 'PuOr', 'PuOr_r', 'PuRd', 'PuRd_r', 'Purples', 'Purples_r', 'RdBu', 'RdBu_r', 'RdGy', 'RdGy_r', 'RdPu', 'RdPu_r', 'RdYlBu', 'RdYlBu_r', 'RdYlGn', 'RdYlGn_r', 'Reds', 'Reds_r', 'Set1', 'Set1_r', 'Set2', 'Set2_r', 'Set3', 'Set3_r', 'Spectral', 'Spectral_r', 'Wistia', 'Wistia_r', 'YlGn', 'YlGnBu', 'YlGnBu_r', 'YlGn_r', 'YlOrBr', 'YlOrBr_r', 'YlOrRd', 'YlOrRd_r', 'afmhot', 'afmhot_r', 'autumn', 'autumn_r', 'binary', 'binary_r', 'bone', 'bone_r', 'brg', 'brg_r', 'bwr', 'bwr_r', 'cividis', 'cividis_r', 'cool', 'cool_r', 'coolwarm', 'coolwarm_r', 'copper', 'copper_r', 'crest', 'crest_r', 'cubehelix', 'cubehelix_r', 'flag', 'flag_r', 'flare', 'flare_r', 'gist_earth', 'gist_earth_r', 'gist_gray', 'gist_gray_r', 'gist_heat', 'gist_heat_r', 'gist_ncar', 'gist_ncar_r', 'gist_rainbow', 'gist_rainbow_r', 'gist_stern', 'gist_stern_r', 'gist_yarg', 'gist_yarg_r', 'gnuplot', 'gnuplot2', 'gnuplot2_r', 'gnuplot_r', 'gray', 'gray_r', 'hot', 'hot_r', 'hsv', 'hsv_r', 'icefire', 'icefire_r', 'inferno', 'inferno_r', 'jet', 'jet_r', 'magma', 'magma_r', 'mako', 'mako_r', 'nipy_spectral', 'nipy_spectral_r', 'ocean', 'ocean_r', 'pink', 'pink_r', 'plasma', 'plasma_r', 'prism', 'prism_r', 'rainbow', 'rainbow_r', 'rocket', 'rocket_r', 'seismic', 'seismic_r', 'spring', 'spring_r', 'summer', 'summer_r', 'tab10', 'tab10_r', 'tab20', 'tab20_r', 'tab20b', 'tab20b_r', 'tab20c', 'tab20c_r', 'terrain', 'terrain_r', 'turbo', 'turbo_r', 'twilight', 'twilight_r', 'twilight_shifted', 'twilight_shifted_r', 'viridis', 'viridis_r', 'vlag', 'vlag_r', 'winter', 'winter_r'",
      "\nDuring handling of the above exception, another exception occurred:\n",
      "\u001b[0;31mValueError\u001b[0m                                Traceback (most recent call last)",
      "\u001b[0;32m/tmp/ipykernel_5888/2704336570.py\u001b[0m in \u001b[0;36m<module>\u001b[0;34m\u001b[0m\n\u001b[1;32m      1\u001b[0m \u001b[0;32mimport\u001b[0m \u001b[0mseaborn\u001b[0m \u001b[0;32mas\u001b[0m \u001b[0msns\u001b[0m\u001b[0;34m\u001b[0m\u001b[0;34m\u001b[0m\u001b[0m\n\u001b[1;32m      2\u001b[0m \u001b[0;34m\u001b[0m\u001b[0m\n\u001b[0;32m----> 3\u001b[0;31m \u001b[0mpalette\u001b[0m \u001b[0;34m=\u001b[0m \u001b[0msns\u001b[0m\u001b[0;34m.\u001b[0m\u001b[0mcolor_palette\u001b[0m\u001b[0;34m(\u001b[0m\u001b[0;34m\"br\"\u001b[0m\u001b[0;34m)\u001b[0m  \u001b[0;31m# напечатать какую-нибудь ерунду вместо названия палитры, и в ошибке сиборн послушно вывалит все свои палитры\u001b[0m\u001b[0;34m\u001b[0m\u001b[0;34m\u001b[0m\u001b[0m\n\u001b[0m",
      "\u001b[0;32m~/.local/lib/python3.8/site-packages/seaborn/palettes.py\u001b[0m in \u001b[0;36mcolor_palette\u001b[0;34m(palette, n_colors, desat, as_cmap)\u001b[0m\n\u001b[1;32m    206\u001b[0m                 \u001b[0mpalette\u001b[0m \u001b[0;34m=\u001b[0m \u001b[0mmpl_palette\u001b[0m\u001b[0;34m(\u001b[0m\u001b[0mpalette\u001b[0m\u001b[0;34m,\u001b[0m \u001b[0mn_colors\u001b[0m\u001b[0;34m,\u001b[0m \u001b[0mas_cmap\u001b[0m\u001b[0;34m=\u001b[0m\u001b[0mas_cmap\u001b[0m\u001b[0;34m)\u001b[0m\u001b[0;34m\u001b[0m\u001b[0;34m\u001b[0m\u001b[0m\n\u001b[1;32m    207\u001b[0m             \u001b[0;32mexcept\u001b[0m \u001b[0mValueError\u001b[0m\u001b[0;34m:\u001b[0m\u001b[0;34m\u001b[0m\u001b[0;34m\u001b[0m\u001b[0m\n\u001b[0;32m--> 208\u001b[0;31m                 \u001b[0;32mraise\u001b[0m \u001b[0mValueError\u001b[0m\u001b[0;34m(\u001b[0m\u001b[0;34m\"%s is not a valid palette name\"\u001b[0m \u001b[0;34m%\u001b[0m \u001b[0mpalette\u001b[0m\u001b[0;34m)\u001b[0m\u001b[0;34m\u001b[0m\u001b[0;34m\u001b[0m\u001b[0m\n\u001b[0m\u001b[1;32m    209\u001b[0m \u001b[0;34m\u001b[0m\u001b[0m\n\u001b[1;32m    210\u001b[0m     \u001b[0;32mif\u001b[0m \u001b[0mdesat\u001b[0m \u001b[0;32mis\u001b[0m \u001b[0;32mnot\u001b[0m \u001b[0;32mNone\u001b[0m\u001b[0;34m:\u001b[0m\u001b[0;34m\u001b[0m\u001b[0;34m\u001b[0m\u001b[0m\n",
      "\u001b[0;31mValueError\u001b[0m: br is not a valid palette name"
     ]
    }
   ],
   "source": [
    "import seaborn as sns\n",
    "\n",
    "palette = sns.color_palette(\"br\")  # напечатать какую-нибудь ерунду вместо названия палитры, и в ошибке сиборн послушно вывалит все свои палитры\n",
    "# увы, этот трюк не прокатит в более новых версиях seaborn :( - но выхлоп ячейки я намеренно сохранила"
   ]
  },
  {
   "cell_type": "markdown",
   "id": "4997e0ef-bee8-45e1-a8ac-f0da7b0bdc0a",
   "metadata": {},
   "source": [
    "Дальше уже можно эти цвета выбирать и смотреть:"
   ]
  },
  {
   "cell_type": "code",
   "execution_count": 14,
   "id": "f5e9e091-588c-45cf-907a-8cc628b6ba9a",
   "metadata": {},
   "outputs": [
    {
     "data": {
      "image/png": "[encoded data removed]",
      "text/plain": [
       "<Figure size 432x72 with 1 Axes>"
      ]
     },
     "metadata": {
      "needs_background": "light"
     },
     "output_type": "display_data"
    }
   ],
   "source": [
    "palette = sns.color_palette('gist_earth_r')\n",
    "sns.palplot(palette)"
   ]
  },
  {
   "cell_type": "markdown",
   "id": "25c32a9e-2fe1-4119-a380-f951e7cb6689",
   "metadata": {},
   "source": [
    "Что умеет строить seaborn:\n",
    "\n",
    "- sns.barplot(x=x, y=y, palette=..., ci=None)  # ci - чтобы убрать черную полосу, это стандартное отклонение. В новых версиях эту штуку убрали, можно уже не писать\n",
    "- sns.pointplot(x=x,y=y, color='lime', alpha=0.8)\n",
    "- sns.jointplot(x=x, y=y, kind=\"kde\", height=7)\n",
    "- ..."
   ]
  },
  {
   "cell_type": "markdown",
   "id": "bd3ae259-dc0e-4fdf-b799-dae2461d3593",
   "metadata": {},
   "source": [
    "Поскольку тема построения графиков неисчерпаема, я всячески вас побуждаю самостоятельно копаться в документации и на стэковерфлоу, чтобы рисовать все более красивые графики. :) Они здорово помогут вам при защите диплома..."
   ]
  },
  {
   "cell_type": "markdown",
   "id": "9b7e647a-8f0b-4137-96e7-da8ed477b42f",
   "metadata": {},
   "source": [
    "#### ipywidgets"
   ]
  },
  {
   "cell_type": "markdown",
   "id": "19951f32-6808-416c-97be-385b5e1a431f",
   "metadata": {},
   "source": [
    "Последнее, что мы с вами посмотрим - совсем уже необязательная, но просто клевая библиотека для интерактивных виджетов в юпитере. В ней есть, вообще говоря, много всего, мы возьмем буквально пару вещей. \n",
    "\n",
    "Библиотеку, разумеется, тоже нужно устанавливать (pip install ipywidgets). Работает она только в .ipynb (для чего и предназначена). \n",
    "\n",
    "Сами виджеты - это экземпляры одного из классов, доступных в библиотеке. Все доступные виджеты можно изучить по [документации](https://ipywidgets.readthedocs.io/en/latest/). "
   ]
  },
  {
   "cell_type": "markdown",
   "id": "f26f48ec-a921-4249-a430-b8636845da1c",
   "metadata": {},
   "source": [
    "Как сделать прогрессбар:"
   ]
  },
  {
   "cell_type": "code",
   "execution_count": 15,
   "id": "857c796d-cd37-4188-a232-ebeb6648be46",
   "metadata": {},
   "outputs": [
    {
     "data": {
      "application/vnd.jupyter.widget-view+json": {
       "model_id": "e5c97bfa36ee490a8e5707448962d264",
       "version_major": 2,
       "version_minor": 0
      },
      "text/plain": [
       "IntProgress(value=0)"
      ]
     },
     "metadata": {},
     "output_type": "display_data"
    }
   ],
   "source": [
    "from ipywidgets import IntProgress\n",
    "from IPython.display import display\n",
    "import time\n",
    "\n",
    "max_count = 100\n",
    "\n",
    "f = IntProgress(min=0, max=max_count) # создаем экземпляр класса\n",
    "display(f) # отображаем наш экземпляр\n",
    "\n",
    "for i in range(100):\n",
    "    f.value += 1 # signal to increment the progress bar\n",
    "    time.sleep(.1)"
   ]
  },
  {
   "cell_type": "markdown",
   "id": "7746fc65-5bd1-4778-bb84-f125814b27d1",
   "metadata": {},
   "source": [
    "В настройках можно, конечно, сделать и так, чтобы проценты отображались поверх ползунка, и всякое прочее (цвет поменять там). \n",
    "\n",
    "Также с помощью ipywidgets можно сделать интерактивный график. Допустим, у нас есть какая-то функция, которая строит график:"
   ]
  },
  {
   "cell_type": "code",
   "execution_count": 17,
   "id": "f15a478f-02b1-4de2-9330-9b29909cad9e",
   "metadata": {},
   "outputs": [],
   "source": [
    "from random import randrange\n",
    "def myfunc(x, n):\n",
    "    x = [randrange(0, x + 1) for i in range(n)]\n",
    "    y = [i ** 2 for i in x]\n",
    "    sns.barplot(x=x, y=y, color='lime', ci=None)\n",
    "    plt.show()"
   ]
  },
  {
   "cell_type": "markdown",
   "id": "01badb46-e163-4b31-93cd-feea343f4476",
   "metadata": {},
   "source": [
    "Теперь можно к ней применить метод interact, который позволит в интерактивном режиме выбирать ее параметры, и функция будет график перестраивать без необходимости перезапускать ячейку и вручную вписывать параметры. "
   ]
  },
  {
   "cell_type": "code",
   "execution_count": 18,
   "id": "8ea2a5db-a3b4-4db5-8e37-80e2aea5319f",
   "metadata": {},
   "outputs": [
    {
     "data": {
      "application/vnd.jupyter.widget-view+json": {
       "model_id": "a658588086084edcaf5e7dd269e1a996",
       "version_major": 2,
       "version_minor": 0
      },
      "text/plain": [
       "interactive(children=(IntSlider(value=1, description='x', max=30, min=1), Dropdown(description='n', options=(1…"
      ]
     },
     "metadata": {},
     "output_type": "display_data"
    },
    {
     "data": {
      "text/plain": [
       "<function __main__.myfunc(x, n)>"
      ]
     },
     "execution_count": 18,
     "metadata": {},
     "output_type": "execute_result"
    }
   ],
   "source": [
    "from ipywidgets import interact, IntSlider\n",
    "\n",
    "interact(myfunc, x=IntSlider(min=1, max=30, step=1, value=1), n=list(range(1, 11)))"
   ]
  },
  {
   "cell_type": "code",
   "execution_count": null,
   "id": "29342737-5529-48c3-9bac-f8429dc7525f",
   "metadata": {},
   "outputs": [],
   "source": []
  }
 ],
 "metadata": {
  "kernelspec": {
   "display_name": "Python 3 (ipykernel)",
   "language": "python",
   "name": "python3"
  },
  "language_info": {
   "codemirror_mode": {
    "name": "ipython",
    "version": 3
   },
   "file_extension": ".py",
   "mimetype": "text/x-python",
   "name": "python",
   "nbconvert_exporter": "python",
   "pygments_lexer": "ipython3",
   "version": "3.11.5"
  }
 },
 "nbformat": 4,
 "nbformat_minor": 5
}
