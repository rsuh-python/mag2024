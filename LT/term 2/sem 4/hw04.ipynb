{
 "cells": [
  {
   "cell_type": "markdown",
   "id": "111582ae-356d-49b6-8f53-faa0adbd2536",
   "metadata": {},
   "source": [
    "Поработаем с датасетом Titanic. Это очень известный датасет для машинного обучения, а нам он пригодится, чтобы попрактиковаться с pandas. "
   ]
  },
  {
   "cell_type": "markdown",
   "id": "0b9b4fd7-30c8-4da8-b767-021e20c2f645",
   "metadata": {},
   "source": [
    "#### Задача 1. \n",
    "\n",
    "Считайте датасет (можно скопировать код из лекции). Выведите первые пять строчек датасета. Посмотрите информацию о датасете. Во-апервых, пустые ячейки всегда мешают, а во-вторых, в машинном обучении неудобно работать с текстовыми данными и все стараются превращать в цифры. Давайте попробуем почистить датасет с этой позиции, но разумно: \n",
    "\n",
    "- Пропущенные ячейки возраста, наверное, можно заполнить средним арифметическим\n",
    "- Пол можно заменить на чиселки - 1 для одного варианта и 0 для другого (не у всех пол известен, но там таких мало, можно заменить на тот же 0)\n",
    "- Столбцы Ticket, Cabin и Embarked, скорее всего, содержат не очень интересную информацию: можно от них просто избавиться.\n",
    "- Столбец с именами пока оставим как есть. "
   ]
  },
  {
   "cell_type": "code",
   "execution_count": null,
   "id": "487a89ca-1389-416b-9573-3c43103e75f4",
   "metadata": {},
   "outputs": [],
   "source": [
    "# your code here"
   ]
  },
  {
   "cell_type": "markdown",
   "id": "3edaa6e8-d2b5-4f22-b800-f52d908f7772",
   "metadata": {},
   "source": [
    "#### Задача 2.\n",
    "\n",
    "Сколько пассажиров выжило, а сколько - нет?"
   ]
  },
  {
   "cell_type": "code",
   "execution_count": null,
   "id": "04e68fa9-5009-4cd8-9e39-5013f7f05f7e",
   "metadata": {},
   "outputs": [],
   "source": [
    "# your code here"
   ]
  },
  {
   "cell_type": "markdown",
   "id": "530e5016-ef75-4a1d-a4f6-55b137c23b80",
   "metadata": {},
   "source": [
    "#### Задача 3.\n",
    "\n",
    "Какова доля выживших пассажиров из класса 3? А пассажиров из класса 1? (Доля - это отношение количества таких пассажиров к общему количеству пассажиров)"
   ]
  },
  {
   "cell_type": "code",
   "execution_count": null,
   "id": "34e801c8-063a-4244-8d7e-d3779776b9e7",
   "metadata": {},
   "outputs": [],
   "source": [
    "# your code here"
   ]
  },
  {
   "cell_type": "markdown",
   "id": "a0a3a270-539a-4089-80d7-b81d3704409d",
   "metadata": {},
   "source": [
    "#### Задача 4.\n",
    "\n",
    "Какова доля выживших женщин из первого класса? А доля выживших мужчин из 3 класса?"
   ]
  },
  {
   "cell_type": "code",
   "execution_count": null,
   "id": "32a57d7c-f0f9-4389-8ac6-79f5dfc53aad",
   "metadata": {},
   "outputs": [],
   "source": [
    "# your code here"
   ]
  },
  {
   "cell_type": "markdown",
   "id": "ef97c145-3541-4453-9b17-d55d010b7aa9",
   "metadata": {},
   "source": [
    "#### Задача 5. \n",
    "\n",
    "Давайте заведем отдельный столбец с фамилией пассажира. Можно заметить, что в ячейке имени фамилия всегда пишется первой и через точку с запятой. Вам поможет lambda и split."
   ]
  },
  {
   "cell_type": "code",
   "execution_count": null,
   "id": "eda9d0e3-41ee-4011-abad-8b4552f2fc4a",
   "metadata": {},
   "outputs": [],
   "source": [
    "# your code here"
   ]
  },
  {
   "cell_type": "markdown",
   "id": "6d56ebea-28d1-4458-9fc0-ba8389ec233d",
   "metadata": {},
   "source": [
    "#### Задача 6.\n",
    "\n",
    "Сколько всего получилось семей? Сколько человек в каждой семье? Сколько семей, в которых больше трех человек?"
   ]
  },
  {
   "cell_type": "code",
   "execution_count": null,
   "id": "366a2d6d-b492-4baf-9b57-5f33808f3c65",
   "metadata": {},
   "outputs": [],
   "source": [
    "# your code here"
   ]
  },
  {
   "cell_type": "markdown",
   "id": "6ff20e2a-3ef4-4ed1-84ae-cb28bdbe7b9b",
   "metadata": {},
   "source": [
    "#### Задача 7.\n",
    "\n",
    "Создайте столбец \"IsChild\", который равен 1, если возраст меньше 20, и 0 иначе. "
   ]
  },
  {
   "cell_type": "code",
   "execution_count": null,
   "id": "aca43592-b500-45da-8260-231d8f9d96bc",
   "metadata": {},
   "outputs": [],
   "source": [
    "# your code here"
   ]
  },
  {
   "cell_type": "markdown",
   "id": "db330963-45e7-4f37-9261-ccf26ae0f236",
   "metadata": {},
   "source": [
    "#### Задача 8.\n",
    "\n",
    "Какова доля семей, в которых минимальный возраст меньше 20 (семьи с детьми)? "
   ]
  },
  {
   "cell_type": "code",
   "execution_count": null,
   "id": "a21e78f6-701c-4771-ba52-985b28b6794b",
   "metadata": {},
   "outputs": [],
   "source": [
    "# your code here"
   ]
  }
 ],
 "metadata": {
  "kernelspec": {
   "display_name": "Python 3 (ipykernel)",
   "language": "python",
   "name": "python3"
  },
  "language_info": {
   "codemirror_mode": {
    "name": "ipython",
    "version": 3
   },
   "file_extension": ".py",
   "mimetype": "text/x-python",
   "name": "python",
   "nbconvert_exporter": "python",
   "pygments_lexer": "ipython3",
   "version": "3.9.18"
  }
 },
 "nbformat": 4,
 "nbformat_minor": 5
}
