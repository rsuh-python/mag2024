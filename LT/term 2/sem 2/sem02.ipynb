{
 "cells": [
  {
   "cell_type": "markdown",
   "id": "efa0399e-ee9f-4ae8-bc59-9919422e2f37",
   "metadata": {},
   "source": [
    "1. Напишем класс \"Student\". Наш потенциальный студент должен иметь имя, курс и зачетку, а также обладать методами \"спать\", \"посетить пару\" и \"делать домашнюю работу\"."
   ]
  },
  {
   "cell_type": "code",
   "execution_count": 2,
   "id": "294f964d",
   "metadata": {},
   "outputs": [],
   "source": [
    "import random, time\n",
    "from collections import defaultdict"
   ]
  },
  {
   "cell_type": "code",
   "execution_count": 33,
   "id": "06cce606-d5f0-474e-9f9f-7c8c1a34b6e0",
   "metadata": {},
   "outputs": [],
   "source": [
    "class RecordBook:\n",
    "    def __init__(self):\n",
    "        self.marks = defaultdict(int)\n",
    "    def showmarks(self):\n",
    "        if self.marks:\n",
    "            longest = max([len(k) for k in self.marks]) \n",
    "        else:\n",
    "            longest = 1\n",
    "        for key, value in self.marks.items():\n",
    "            print(f\"{key}:{value}\")    \n",
    "\n",
    "    def addmark(self, discipline, mark):\n",
    "        self.marks[discipline] += mark\n",
    "        print(f'{discipline} mark now is {self.marks[discipline]}')   \n",
    "\n",
    "    def passExam(self, discipline, mark):\n",
    "        self.addmark(discipline, mark)\n",
    "        if self.marks[discipline] >= 50:\n",
    "            return True\n",
    "        return False\n",
    "             \n",
    "class Student:\n",
    "    def __init__(self, name):\n",
    "        self.name = name\n",
    "        self.course = 1\n",
    "        self.recordbook = RecordBook()\n",
    "        \n",
    "    def __str__(self):\n",
    "        return f'{self.name}, {self.course}, {self.recordbook}'\n",
    "        \n",
    "    def __repr__(self):\n",
    "        return f'Student({self.name}, {self.course}, {self.recordbook})'\n",
    "    \n",
    "    def sleep(self, n):\n",
    "        print(f'{self.name} спит ...')\n",
    "        time.sleep(n)\n",
    "    \n",
    "    def attend(self, discipline, n):\n",
    "        print(f'{self.name} приходит на занятие по: {discipline}')\n",
    "        self.sleep(n)\n",
    "    \n",
    "    def do_homework(self, discipline, n):\n",
    "        print(f'{self.name} decides to do their {discipline} homework')\n",
    "        for _ in range(n):\n",
    "            if n > 6:\n",
    "                print('Нет, больше 6 часов я точно сидеть не буду')\n",
    "            elif 4 < n == 6:\n",
    "                print('Kinda boring', '.' * random.randint(1, 10))\n",
    "                time.sleep(1)\n",
    "                mark = 5 * n\n",
    "                self.recordbook.addmark(discipline, mark)\n",
    "            elif 1 < n == 3:\n",
    "                print('Kinda boring', '.' * random.randint(1, 10))\n",
    "                time.sleep(1)\n",
    "                mark = 3 * n\n",
    "                self.recordbook.addmark(discipline, mark)\n",
    "            elif n <= 1:\n",
    "                print('Kinda boring', '.' * random.randint(1, 10))\n",
    "                time.sleep(1)\n",
    "                mark = 1 * n\n",
    "                self.recordbook.addmark(discipline, mark)\n",
    "    \n",
    "\n",
    "    def gotoExam(self, discipline):\n",
    "        self.recordbook.showmarks()\n",
    "        mark = random.randint(1, 40)\n",
    "        if self.recordbook.passExam(discipline, mark):\n",
    "            print('Passed')\n",
    "        else:\n",
    "            print('Fail!')   \n",
    "\n",
    "    def boast(self, other, discipline):\n",
    "        if self.recordbook.marks[discipline] > other.recordbook.marks[discipline]:\n",
    "            print(f'{self.name} is cooler than {other.name}')\n",
    "        else:\n",
    "            print('nothing to boast about')    \n",
    "                \n"
   ]
  },
  {
   "cell_type": "code",
   "execution_count": null,
   "id": "a5ce2daa",
   "metadata": {},
   "outputs": [],
   "source": [
    "# mark = 5 * n * discipline.difficulty"
   ]
  },
  {
   "cell_type": "code",
   "execution_count": 34,
   "id": "2fa4cd91",
   "metadata": {},
   "outputs": [],
   "source": [
    "vasya = Student('Vasya')"
   ]
  },
  {
   "cell_type": "code",
   "execution_count": 35,
   "id": "b1b3ebb5",
   "metadata": {},
   "outputs": [
    {
     "name": "stdout",
     "output_type": "stream",
     "text": [
      "Vasya приходит на занятие по: English\n",
      "Vasya спит ...\n"
     ]
    }
   ],
   "source": [
    "vasya.attend('English', 3)"
   ]
  },
  {
   "cell_type": "code",
   "execution_count": 40,
   "id": "77d792a4",
   "metadata": {},
   "outputs": [
    {
     "name": "stdout",
     "output_type": "stream",
     "text": [
      "Vasya decides to do their English homework\n"
     ]
    }
   ],
   "source": [
    "vasya.do_homework('English', 2)"
   ]
  },
  {
   "cell_type": "code",
   "execution_count": 41,
   "id": "34417df7",
   "metadata": {},
   "outputs": [
    {
     "name": "stdout",
     "output_type": "stream",
     "text": [
      "English mark now is 16\n",
      "Fail!\n"
     ]
    }
   ],
   "source": [
    "vasya.gotoExam('English')"
   ]
  },
  {
   "cell_type": "markdown",
   "id": "2ac531c1-c1ee-4423-b16b-cbd1bfa37ca8",
   "metadata": {},
   "source": [
    "2. Напишем класс \"RecordBook\" для зачетки: при создании экземпляра этого класса должен заводиться словарик, в котором будут появляться записи о предметах и оценках за них. У класса должен быть метод \"сдать дисциплину\" и метод для просмотра содержимого зачетки. "
   ]
  },
  {
   "cell_type": "markdown",
   "id": "babb13cb-1632-4518-8d8a-21d9a844af3a",
   "metadata": {},
   "source": [
    "#### Задача 1. \n",
    "\n",
    "Допишите класс Discipline, который будет описывать какой-нибудь предмет: пусть у каждой дисциплины будет свое стандартное время лекции (1 или 2 пары, например) и коэффициент сложности, который будет заставлять студента тратить больше или меньше времени на домашки. "
   ]
  },
  {
   "cell_type": "code",
   "execution_count": 43,
   "id": "1b763e20-5436-4305-8e50-818da029d581",
   "metadata": {},
   "outputs": [],
   "source": [
    "class Discipline:\n",
    "    def __init__(self, name, time, difficulty):\n",
    "        self.name = name\n",
    "        self.time = time\n",
    "        self.difficulty = difficulty\n",
    "\n",
    "    def __str__(self):\n",
    "        return f'{self.name}, Lecture Time: {self.time}, Difficulty: {self.difficulty}'\n",
    "\n",
    "    def __repr__(self):\n",
    "        return f'Discipline({self.name}, {self.time}, {self.difficulty})'\n"
   ]
  },
  {
   "cell_type": "code",
   "execution_count": 44,
   "id": "8e078cf3",
   "metadata": {},
   "outputs": [],
   "source": [
    "math = Discipline('Math', 2, 4)\n",
    "programming = Discipline('Programming', 2, 2)"
   ]
  },
  {
   "cell_type": "markdown",
   "id": "d41c194e-20bd-4662-b97d-40e968411a87",
   "metadata": {},
   "source": [
    "#### Задача 2 (2 балла). \n",
    "\n",
    "Получать оценки методом рандома - грустно. Попробуйте придумать что-нибудь, чтобы оценки за домашку зависели от времени, которое на нее потратил студент (но при этом неплохо бы поставить какое-нибудь ограничение, чтобы студент не мог сидеть над домашкой 100500 часов!), а оценки за ту часть экзамена, которая сдается непосредственно на экзамене - от ранее полученных оценок (ну типа, если человек весь семестр учился хорошо и получал одни пятерки, шанс, что он на самом экзамене ответит на 0 баллов, крайне невелик...)"
   ]
  },
  {
   "cell_type": "code",
   "execution_count": null,
   "id": "51689df1-8d95-495c-a581-cd0e013fb129",
   "metadata": {},
   "outputs": [],
   "source": [
    "class HomeworkEvaluation():\n",
    "    pass"
   ]
  }
 ],
 "metadata": {
  "kernelspec": {
   "display_name": "Python 3 (ipykernel)",
   "language": "python",
   "name": "python3"
  },
  "language_info": {
   "codemirror_mode": {
    "name": "ipython",
    "version": 3
   },
   "file_extension": ".py",
   "mimetype": "text/x-python",
   "name": "python",
   "nbconvert_exporter": "python",
   "pygments_lexer": "ipython3",
   "version": "3.9.13"
  }
 },
 "nbformat": 4,
 "nbformat_minor": 5
}
