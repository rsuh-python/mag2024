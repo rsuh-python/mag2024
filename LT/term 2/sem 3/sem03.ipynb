{
 "cells": [
  {
   "cell_type": "markdown",
   "id": "74c3751c-2748-4f8b-b05f-bc22d21edde2",
   "metadata": {},
   "source": [
    "#### Задача 1. \n",
    "\n",
    "Для обработки текстовых документов формата .docx (Microsoft Word) существует библиотека python-docx. Установите ее, самостоятельно разберитесь в ее документации на сайте pypi.org и напишите скрипт, который будет принимать путь к файлу .docx, считывать оттуда текст, оставлять в тексте только слова без пунктуации и подсчитывать, сколько в документе было слов. За реализацию этого скрипта в классах +1 балл. "
   ]
  },
  {
   "cell_type": "code",
   "execution_count": null,
   "id": "ffd493fb-a3da-4c45-91ce-7e2fd25cceda",
   "metadata": {},
   "outputs": [],
   "source": [
    "# your code here"
   ]
  },
  {
   "cell_type": "markdown",
   "id": "afb24921-6a80-418f-bfe9-599f0e6ccdc0",
   "metadata": {},
   "source": [
    "#### Задача 2. \n",
    "\n",
    "Дополним нашу библиотеку для docx-файлов модулем pdfminer.six: это очень простой модуль, который умеет считывать pdf (но только если они оптически распознаны...). Установите его и напишите скрипт, который будет принимать файлы либо в docx, либо в pdf и пытаться конвертировать их в текстовые. Предусмотрите возможность того, что человек передал несуществующий путь к файлу или у файла оказалось не поддерживаемое расширение (например, jpg). "
   ]
  },
  {
   "cell_type": "code",
   "execution_count": null,
   "id": "e8b646e2-1235-42a8-9146-b79afa263aa8",
   "metadata": {},
   "outputs": [],
   "source": [
    "# your code here"
   ]
  },
  {
   "cell_type": "markdown",
   "id": "3bb3c9d0-2de3-4bf5-9380-da7673bb8545",
   "metadata": {},
   "source": [
    "#### Задача 3. \n",
    "\n",
    "Для красивого цветного вывода (как для Colab, так и для py-скриптов) существует две библиотеки: colorama и termcolor. В Visual Studio Code и ipynb-тетрадках скорее будет работать termcolor, но может не сработать, правда; в py-скриптах скорее будет работать colorama. Попробуйте обе, разберитесь, как они работают, и дополните код для задачи 2 таким образом, чтобы вывод был цветным (ошибка красным, сообщение об удачной конвертации - зеленым). "
   ]
  },
  {
   "cell_type": "code",
   "execution_count": null,
   "id": "1f8dad0f-984e-4a86-be26-b80acfff39f2",
   "metadata": {},
   "outputs": [],
   "source": [
    "# your code here"
   ]
  },
  {
   "cell_type": "markdown",
   "id": "57b3fd7b-bd97-4881-a84e-e260d9585d0e",
   "metadata": {},
   "source": [
    "#### Задача 4 (2 балла). \n",
    "\n",
    "Все, конечно, пользовались Google Translate? Для того, чтобы получать к нему доступ прямо из питона, есть библиотека googletrans. Правда, у нее есть некоторые проблемы... попробуйте с ними самостоятельно разобраться (погуглите способы решения: они точно есть, и в большом количестве). Напишите программу, которая будет принимать текст на каком-нибудь языке и переводить его на другой язык (с языками - какие хотите, главное, которые есть в GT)."
   ]
  },
  {
   "cell_type": "code",
   "execution_count": null,
   "id": "1b741b73-ad3a-4750-a4e9-df27fb8c54d2",
   "metadata": {},
   "outputs": [],
   "source": [
    "# your code here"
   ]
  }
 ],
 "metadata": {
  "kernelspec": {
   "display_name": "Python 3 (ipykernel)",
   "language": "python",
   "name": "python3"
  },
  "language_info": {
   "codemirror_mode": {
    "name": "ipython",
    "version": 3
   },
   "file_extension": ".py",
   "mimetype": "text/x-python",
   "name": "python",
   "nbconvert_exporter": "python",
   "pygments_lexer": "ipython3",
   "version": "3.12.1"
  }
 },
 "nbformat": 4,
 "nbformat_minor": 5
}
