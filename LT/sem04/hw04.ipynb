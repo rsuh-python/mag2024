{
 "cells": [
  {
   "cell_type": "markdown",
   "id": "841be60e-9845-421c-be6a-4aacf5858d22",
   "metadata": {
    "id": "_1tOdiaqqX04"
   },
   "source": [
    "#### Задача 1. \n",
    "\n",
    "Пользователь вводит какие-то числа; программа должна выводить в ответ, четное число или нечетное, пока не будет введен 0."
   ]
  },
  {
   "cell_type": "code",
   "execution_count": null,
   "id": "9b4ee061-946b-49e4-b89c-a0eee3a513be",
   "metadata": {
    "id": "Rvr_eEqjqrkx"
   },
   "outputs": [],
   "source": [
    " # your code here"
   ]
  },
  {
   "cell_type": "markdown",
   "id": "f843e848-f6d1-44b3-abd3-e3c94712ad79",
   "metadata": {
    "id": "JwPe3Dmvqrth"
   },
   "source": [
    "#### Задача 2. \n",
    "\n",
    "Сперва пользователь вводит число n, а потом вводит n чисел. Нужно посчитать среднее арифметическое."
   ]
  },
  {
   "cell_type": "code",
   "execution_count": null,
   "id": "f2d246b1-17a0-4fff-9322-02b767c32bc6",
   "metadata": {
    "id": "tSB_rTPfq3Wp"
   },
   "outputs": [],
   "source": [
    " # your code here"
   ]
  },
  {
   "cell_type": "markdown",
   "id": "f24a0fe9-ee3c-4d0e-a0c7-3d246ee1ade7",
   "metadata": {
    "id": "8-VHAaezq3mg"
   },
   "source": [
    "#### Задача 3. \n",
    "\n",
    "Дано натуральное число n. Напечатайте все n-значные нечетные натуральные числа в порядке убывания. Условными конструкциями пользоваться запрещено.\n",
    "\n",
    "То есть, для введенного 2 должно начинаться как:\n",
    "\n",
    "    99\n",
    "    97\n",
    "    95\n",
    "    93\n",
    "    91\n",
    "    ..."
   ]
  },
  {
   "cell_type": "code",
   "execution_count": null,
   "id": "91eb0be3-f330-4756-817a-1800ca52d5bf",
   "metadata": {
    "id": "FA2wf7xJq-GR"
   },
   "outputs": [],
   "source": [
    " # your code here"
   ]
  },
  {
   "cell_type": "markdown",
   "id": "14a54f0a-0600-4024-b37b-e174c2c0c27d",
   "metadata": {
    "id": "J6mR5A8urRDQ"
   },
   "source": [
    "#### Задача 4. \n",
    "\n",
    "По данному натуральному n ≤ 9 выведите лесенку из n ступенек, i-я ступенька состоит из чисел от 1 до i без пробелов. То есть, должно быть что-то такое:\n",
    "\n",
    "    1\n",
    "    12\n",
    "    123\n",
    "    1234"
   ]
  },
  {
   "cell_type": "code",
   "execution_count": null,
   "id": "eea26fe1-a85c-48b8-9a80-f2d1ab182f58",
   "metadata": {
    "id": "cDCzajvgrVBh"
   },
   "outputs": [],
   "source": [
    " # your code here"
   ]
  },
  {
   "cell_type": "markdown",
   "id": "69f4780b-d5f4-478b-ada4-02ad98b20156",
   "metadata": {
    "id": "WRuR7thtrVVA"
   },
   "source": [
    "#### Задача 5. \n",
    "\n",
    "Пользователь вводит целые (не обязательно положительные) числа. Программа должна вывести самое большое введенное число. Списками пользоваться нельзя."
   ]
  },
  {
   "cell_type": "code",
   "execution_count": null,
   "id": "84708216-b8a8-44ab-87ff-f3b8a8d08e96",
   "metadata": {
    "id": "5PFWjAunrdw5"
   },
   "outputs": [],
   "source": [
    " # your code here"
   ]
  },
  {
   "cell_type": "markdown",
   "id": "149edbf3",
   "metadata": {},
   "source": [
    "#### Задача 6. \n",
    "\n",
    "Найдите все трёхзначные и четырёхзначные числа Армстронга.\n",
    "\n",
    "Числом Армстронга считается натуральное число, сумма цифр которого, возведенных в N-ную степень (N – количество цифр в числе) равна самому числу.\n",
    "\n",
    "https://en.wikipedia.org/wiki/Narcissistic_number"
   ]
  },
  {
   "cell_type": "code",
   "execution_count": null,
   "id": "adfc7b5a",
   "metadata": {},
   "outputs": [],
   "source": [
    " # your code here"
   ]
  }
 ],
 "metadata": {
  "kernelspec": {
   "display_name": "Python 3 (ipykernel)",
   "language": "python",
   "name": "python3"
  },
  "language_info": {
   "codemirror_mode": {
    "name": "ipython",
    "version": 3
   },
   "file_extension": ".py",
   "mimetype": "text/x-python",
   "name": "python",
   "nbconvert_exporter": "python",
   "pygments_lexer": "ipython3",
   "version": "3.9.12"
  }
 },
 "nbformat": 4,
 "nbformat_minor": 5
}
